{
 "cells": [
  {
   "cell_type": "markdown",
   "metadata": {},
   "source": [
    "# Toronto Dwellings Analysis\n",
    "\n",
    "In this assignment, you will perform fundamental analysis for the Toronto dwellings market to allow potential real estate investors to choose rental investment properties."
   ]
  },
  {
   "cell_type": "code",
   "execution_count": 85,
   "metadata": {},
   "outputs": [],
   "source": [
    "# imports\n",
    "import panel as pn\n",
    "pn.extension('plotly')\n",
    "import plotly.express as px\n",
    "import pandas as pd\n",
    "import hvplot.pandas\n",
    "import matplotlib.pyplot as plt\n",
    "import os\n",
    "from pathlib import Path\n",
    "from dotenv import load_dotenv"
   ]
  },
  {
   "cell_type": "code",
   "execution_count": 86,
   "metadata": {},
   "outputs": [],
   "source": [
    "# Read the Mapbox API key\n",
    "load_dotenv()\n",
    "map_box_api = os.getenv(\"mapbox\")"
   ]
  },
  {
   "cell_type": "markdown",
   "metadata": {},
   "source": [
    "## Load Data"
   ]
  },
  {
   "cell_type": "code",
   "execution_count": 87,
   "metadata": {},
   "outputs": [
    {
     "data": {
      "text/html": [
       "<div>\n",
       "<style scoped>\n",
       "    .dataframe tbody tr th:only-of-type {\n",
       "        vertical-align: middle;\n",
       "    }\n",
       "\n",
       "    .dataframe tbody tr th {\n",
       "        vertical-align: top;\n",
       "    }\n",
       "\n",
       "    .dataframe thead th {\n",
       "        text-align: right;\n",
       "    }\n",
       "</style>\n",
       "<table border=\"1\" class=\"dataframe\">\n",
       "  <thead>\n",
       "    <tr style=\"text-align: right;\">\n",
       "      <th></th>\n",
       "      <th>neighbourhood</th>\n",
       "      <th>single_detached_house</th>\n",
       "      <th>apartment_five_storeys_plus</th>\n",
       "      <th>movable_dwelling</th>\n",
       "      <th>semi_detached_house</th>\n",
       "      <th>row_house</th>\n",
       "      <th>duplex</th>\n",
       "      <th>apartment_five_storeys_less</th>\n",
       "      <th>other_house</th>\n",
       "      <th>average_house_value</th>\n",
       "      <th>shelter_costs_owned</th>\n",
       "      <th>shelter_costs_rented</th>\n",
       "    </tr>\n",
       "    <tr>\n",
       "      <th>year</th>\n",
       "      <th></th>\n",
       "      <th></th>\n",
       "      <th></th>\n",
       "      <th></th>\n",
       "      <th></th>\n",
       "      <th></th>\n",
       "      <th></th>\n",
       "      <th></th>\n",
       "      <th></th>\n",
       "      <th></th>\n",
       "      <th></th>\n",
       "      <th></th>\n",
       "    </tr>\n",
       "  </thead>\n",
       "  <tbody>\n",
       "    <tr>\n",
       "      <th>2001</th>\n",
       "      <td>Agincourt North</td>\n",
       "      <td>3715</td>\n",
       "      <td>1480</td>\n",
       "      <td>0</td>\n",
       "      <td>1055</td>\n",
       "      <td>1295</td>\n",
       "      <td>195</td>\n",
       "      <td>185</td>\n",
       "      <td>5</td>\n",
       "      <td>200388</td>\n",
       "      <td>810</td>\n",
       "      <td>870</td>\n",
       "    </tr>\n",
       "    <tr>\n",
       "      <th>2001</th>\n",
       "      <td>Agincourt South-Malvern West</td>\n",
       "      <td>3250</td>\n",
       "      <td>1835</td>\n",
       "      <td>0</td>\n",
       "      <td>545</td>\n",
       "      <td>455</td>\n",
       "      <td>105</td>\n",
       "      <td>425</td>\n",
       "      <td>0</td>\n",
       "      <td>203047</td>\n",
       "      <td>806</td>\n",
       "      <td>892</td>\n",
       "    </tr>\n",
       "    <tr>\n",
       "      <th>2001</th>\n",
       "      <td>Alderwood</td>\n",
       "      <td>3175</td>\n",
       "      <td>315</td>\n",
       "      <td>0</td>\n",
       "      <td>470</td>\n",
       "      <td>50</td>\n",
       "      <td>185</td>\n",
       "      <td>370</td>\n",
       "      <td>0</td>\n",
       "      <td>259998</td>\n",
       "      <td>817</td>\n",
       "      <td>924</td>\n",
       "    </tr>\n",
       "    <tr>\n",
       "      <th>2001</th>\n",
       "      <td>Annex</td>\n",
       "      <td>1060</td>\n",
       "      <td>6090</td>\n",
       "      <td>5</td>\n",
       "      <td>1980</td>\n",
       "      <td>605</td>\n",
       "      <td>275</td>\n",
       "      <td>3710</td>\n",
       "      <td>165</td>\n",
       "      <td>453850</td>\n",
       "      <td>1027</td>\n",
       "      <td>1378</td>\n",
       "    </tr>\n",
       "    <tr>\n",
       "      <th>2001</th>\n",
       "      <td>Banbury-Don Mills</td>\n",
       "      <td>3615</td>\n",
       "      <td>4465</td>\n",
       "      <td>0</td>\n",
       "      <td>240</td>\n",
       "      <td>380</td>\n",
       "      <td>15</td>\n",
       "      <td>1360</td>\n",
       "      <td>0</td>\n",
       "      <td>371864</td>\n",
       "      <td>1007</td>\n",
       "      <td>1163</td>\n",
       "    </tr>\n",
       "  </tbody>\n",
       "</table>\n",
       "</div>"
      ],
      "text/plain": [
       "                     neighbourhood  single_detached_house  \\\n",
       "year                                                        \n",
       "2001               Agincourt North                   3715   \n",
       "2001  Agincourt South-Malvern West                   3250   \n",
       "2001                     Alderwood                   3175   \n",
       "2001                         Annex                   1060   \n",
       "2001             Banbury-Don Mills                   3615   \n",
       "\n",
       "      apartment_five_storeys_plus  movable_dwelling  semi_detached_house  \\\n",
       "year                                                                       \n",
       "2001                         1480                 0                 1055   \n",
       "2001                         1835                 0                  545   \n",
       "2001                          315                 0                  470   \n",
       "2001                         6090                 5                 1980   \n",
       "2001                         4465                 0                  240   \n",
       "\n",
       "      row_house  duplex  apartment_five_storeys_less  other_house  \\\n",
       "year                                                                \n",
       "2001       1295     195                          185            5   \n",
       "2001        455     105                          425            0   \n",
       "2001         50     185                          370            0   \n",
       "2001        605     275                         3710          165   \n",
       "2001        380      15                         1360            0   \n",
       "\n",
       "      average_house_value  shelter_costs_owned  shelter_costs_rented  \n",
       "year                                                                  \n",
       "2001               200388                  810                   870  \n",
       "2001               203047                  806                   892  \n",
       "2001               259998                  817                   924  \n",
       "2001               453850                 1027                  1378  \n",
       "2001               371864                 1007                  1163  "
      ]
     },
     "execution_count": 87,
     "metadata": {},
     "output_type": "execute_result"
    }
   ],
   "source": [
    "# Read the census data into a Pandas DataFrame\n",
    "file_path = Path(\"Data/toronto_neighbourhoods_census_data.csv\")\n",
    "to_data = pd.read_csv(file_path, index_col=\"year\")\n",
    "to_data.head()"
   ]
  },
  {
   "cell_type": "markdown",
   "metadata": {},
   "source": [
    "- - - "
   ]
  },
  {
   "cell_type": "markdown",
   "metadata": {},
   "source": [
    "## Dwelling Types Per Year\n",
    "\n",
    "In this section, you will calculate the number of dwelling types per year. Visualize the results using bar charts and the Pandas plot function. \n",
    "\n",
    "**Hint:** Use the Pandas `groupby` function.\n",
    "\n",
    "**Optional challenge:** Plot each bar chart in a different color."
   ]
  },
  {
   "cell_type": "code",
   "execution_count": 88,
   "metadata": {},
   "outputs": [
    {
     "data": {
      "text/html": [
       "<div>\n",
       "<style scoped>\n",
       "    .dataframe tbody tr th:only-of-type {\n",
       "        vertical-align: middle;\n",
       "    }\n",
       "\n",
       "    .dataframe tbody tr th {\n",
       "        vertical-align: top;\n",
       "    }\n",
       "\n",
       "    .dataframe thead th {\n",
       "        text-align: right;\n",
       "    }\n",
       "</style>\n",
       "<table border=\"1\" class=\"dataframe\">\n",
       "  <thead>\n",
       "    <tr style=\"text-align: right;\">\n",
       "      <th></th>\n",
       "      <th>single_detached_house</th>\n",
       "      <th>apartment_five_storeys_plus</th>\n",
       "      <th>movable_dwelling</th>\n",
       "      <th>semi_detached_house</th>\n",
       "      <th>row_house</th>\n",
       "      <th>duplex</th>\n",
       "      <th>apartment_five_storeys_less</th>\n",
       "      <th>other_house</th>\n",
       "    </tr>\n",
       "    <tr>\n",
       "      <th>year</th>\n",
       "      <th></th>\n",
       "      <th></th>\n",
       "      <th></th>\n",
       "      <th></th>\n",
       "      <th></th>\n",
       "      <th></th>\n",
       "      <th></th>\n",
       "      <th></th>\n",
       "    </tr>\n",
       "  </thead>\n",
       "  <tbody>\n",
       "    <tr>\n",
       "      <th>2001</th>\n",
       "      <td>300930</td>\n",
       "      <td>355015</td>\n",
       "      <td>75</td>\n",
       "      <td>90995</td>\n",
       "      <td>52355</td>\n",
       "      <td>23785</td>\n",
       "      <td>116900</td>\n",
       "      <td>3040</td>\n",
       "    </tr>\n",
       "    <tr>\n",
       "      <th>2006</th>\n",
       "      <td>266860</td>\n",
       "      <td>379400</td>\n",
       "      <td>165</td>\n",
       "      <td>69430</td>\n",
       "      <td>54690</td>\n",
       "      <td>44095</td>\n",
       "      <td>162850</td>\n",
       "      <td>1335</td>\n",
       "    </tr>\n",
       "    <tr>\n",
       "      <th>2011</th>\n",
       "      <td>274940</td>\n",
       "      <td>429220</td>\n",
       "      <td>100</td>\n",
       "      <td>72480</td>\n",
       "      <td>60355</td>\n",
       "      <td>44750</td>\n",
       "      <td>163895</td>\n",
       "      <td>2165</td>\n",
       "    </tr>\n",
       "    <tr>\n",
       "      <th>2016</th>\n",
       "      <td>269680</td>\n",
       "      <td>493270</td>\n",
       "      <td>95</td>\n",
       "      <td>71200</td>\n",
       "      <td>61565</td>\n",
       "      <td>48585</td>\n",
       "      <td>165575</td>\n",
       "      <td>2845</td>\n",
       "    </tr>\n",
       "  </tbody>\n",
       "</table>\n",
       "</div>"
      ],
      "text/plain": [
       "      single_detached_house  apartment_five_storeys_plus  movable_dwelling  \\\n",
       "year                                                                         \n",
       "2001                 300930                       355015                75   \n",
       "2006                 266860                       379400               165   \n",
       "2011                 274940                       429220               100   \n",
       "2016                 269680                       493270                95   \n",
       "\n",
       "      semi_detached_house  row_house  duplex  apartment_five_storeys_less  \\\n",
       "year                                                                        \n",
       "2001                90995      52355   23785                       116900   \n",
       "2006                69430      54690   44095                       162850   \n",
       "2011                72480      60355   44750                       163895   \n",
       "2016                71200      61565   48585                       165575   \n",
       "\n",
       "      other_house  \n",
       "year               \n",
       "2001         3040  \n",
       "2006         1335  \n",
       "2011         2165  \n",
       "2016         2845  "
      ]
     },
     "execution_count": 88,
     "metadata": {},
     "output_type": "execute_result"
    }
   ],
   "source": [
    "# Calculate the sum number of dwelling types units per year (hint: use groupby)\n",
    "df_dwelling_types = to_data.groupby(to_data.index).sum()\n",
    "df_dwelling_types = df_dwelling_types.iloc[:,0:8]\n",
    "df_dwelling_types"
   ]
  },
  {
   "cell_type": "code",
   "execution_count": 89,
   "metadata": {},
   "outputs": [],
   "source": [
    "# Save the dataframe as a csv file\n",
    "df_dwelling_types.to_csv('Data/dwelling_types_per_year.csv')"
   ]
  },
  {
   "cell_type": "code",
   "execution_count": 90,
   "metadata": {},
   "outputs": [],
   "source": [
    "# Helper create_bar_chart function\n",
    "def create_bar_chart(data, title, xlabel, ylabel, color):\n",
    "    \"\"\"\n",
    "    Create a barplot based in the data argument.\n",
    "    \"\"\"\n",
    "    \n",
    "    fig_dwelling_types = plt.figure() \n",
    "    plot_dwelling_types = data.plot.bar(color=color)\n",
    "    plot_dwelling_types.set_xlabel(xlabel)\n",
    "    plot_dwelling_types.set_ylabel(ylabel)\n",
    "    plot_dwelling_types.set_title(title)\n",
    "    plt.show()\n",
    "    "
   ]
  },
  {
   "cell_type": "code",
   "execution_count": 91,
   "metadata": {},
   "outputs": [
    {
     "data": {
      "image/png": "[encoded data removed]",
      "text/plain": [
       "<Figure size 432x288 with 1 Axes>"
      ]
     },
     "metadata": {
      "needs_background": "light"
     },
     "output_type": "display_data"
    },
    {
     "data": {
      "image/png": "[encoded data removed]",
      "text/plain": [
       "<Figure size 432x288 with 1 Axes>"
      ]
     },
     "metadata": {
      "needs_background": "light"
     },
     "output_type": "display_data"
    },
    {
     "data": {
      "image/png": "[encoded data removed]",
      "text/plain": [
       "<Figure size 432x288 with 1 Axes>"
      ]
     },
     "metadata": {
      "needs_background": "light"
     },
     "output_type": "display_data"
    },
    {
     "data": {
      "image/png": "[encoded data removed]",
      "text/plain": [
       "<Figure size 432x288 with 1 Axes>"
      ]
     },
     "metadata": {
      "needs_background": "light"
     },
     "output_type": "display_data"
    }
   ],
   "source": [
    "# Create a bar chart per year to show the number of dwelling types\n",
    "\n",
    "# Bar chart for 2001\n",
    "create_bar_chart(df_dwelling_types.loc[2001],\"Dwelling Types on 2001\",\"Dwelling Types\",\"Count\",'red')\n",
    "\n",
    "# Bar chart for 2006\n",
    "create_bar_chart(df_dwelling_types.loc[2006],\"Dwelling Types on 2006\",\"Dwelling Types\",\"Count\",'red')\n",
    "\n",
    "# Bar chart for 2011\n",
    "create_bar_chart(df_dwelling_types.loc[2011],\"Dwelling Types on 2011\",\"Dwelling Types\",\"Count\",'red')\n",
    "\n",
    "# Bar chart for 2016\n",
    "create_bar_chart(df_dwelling_types.loc[2016],\"Dwelling Types on 2016\",\"Dwelling Types\",\"Count\",'red')"
   ]
  },
  {
   "cell_type": "markdown",
   "metadata": {},
   "source": [
    "- - - "
   ]
  },
  {
   "cell_type": "markdown",
   "metadata": {},
   "source": [
    "## Average Monthly Shelter Costs in Toronto Per Year\n",
    "\n",
    "In this section, you will calculate the average monthly shelter costs for owned and rented dwellings and the average house value for each year. Plot the results as a line chart.\n",
    "\n",
    "**Optional challenge:** Plot each line chart in a different color."
   ]
  },
  {
   "cell_type": "code",
   "execution_count": 92,
   "metadata": {},
   "outputs": [
    {
     "data": {
      "text/html": [
       "<div>\n",
       "<style scoped>\n",
       "    .dataframe tbody tr th:only-of-type {\n",
       "        vertical-align: middle;\n",
       "    }\n",
       "\n",
       "    .dataframe tbody tr th {\n",
       "        vertical-align: top;\n",
       "    }\n",
       "\n",
       "    .dataframe thead th {\n",
       "        text-align: right;\n",
       "    }\n",
       "</style>\n",
       "<table border=\"1\" class=\"dataframe\">\n",
       "  <thead>\n",
       "    <tr style=\"text-align: right;\">\n",
       "      <th></th>\n",
       "      <th>shelter_costs_owned</th>\n",
       "      <th>shelter_costs_rented</th>\n",
       "    </tr>\n",
       "    <tr>\n",
       "      <th>year</th>\n",
       "      <th></th>\n",
       "      <th></th>\n",
       "    </tr>\n",
       "  </thead>\n",
       "  <tbody>\n",
       "    <tr>\n",
       "      <th>2001</th>\n",
       "      <td>846.878571</td>\n",
       "      <td>1085.935714</td>\n",
       "    </tr>\n",
       "    <tr>\n",
       "      <th>2006</th>\n",
       "      <td>1316.800000</td>\n",
       "      <td>925.414286</td>\n",
       "    </tr>\n",
       "    <tr>\n",
       "      <th>2011</th>\n",
       "      <td>1448.214286</td>\n",
       "      <td>1019.792857</td>\n",
       "    </tr>\n",
       "    <tr>\n",
       "      <th>2016</th>\n",
       "      <td>1761.314286</td>\n",
       "      <td>1256.321429</td>\n",
       "    </tr>\n",
       "  </tbody>\n",
       "</table>\n",
       "</div>"
      ],
      "text/plain": [
       "      shelter_costs_owned  shelter_costs_rented\n",
       "year                                           \n",
       "2001           846.878571           1085.935714\n",
       "2006          1316.800000            925.414286\n",
       "2011          1448.214286           1019.792857\n",
       "2016          1761.314286           1256.321429"
      ]
     },
     "execution_count": 92,
     "metadata": {},
     "output_type": "execute_result"
    }
   ],
   "source": [
    "# Calculate the average monthly shelter costs for owned and rented dwellings\n",
    "df_costs = to_data[[\"shelter_costs_owned\", \"shelter_costs_rented\"]].groupby(to_data.index).mean()\n",
    "df_costs"
   ]
  },
  {
   "cell_type": "code",
   "execution_count": 93,
   "metadata": {},
   "outputs": [],
   "source": [
    "# Helper create_line_chart function\n",
    "def create_line_chart(data, title, xlabel, ylabel, color):\n",
    "    \"\"\"\n",
    "    Create a line chart based in the data argument.\n",
    "    \"\"\"\n",
    "    fig_dwelling_types = plt.figure() \n",
    "    plot_dwelling_types = data.plot(color=color)\n",
    "    plot_dwelling_types.set_xlabel(xlabel)\n",
    "    plot_dwelling_types.set_ylabel(ylabel)\n",
    "    plot_dwelling_types.set_title(title)\n",
    "    plt.xticks(rotation=90)\n",
    "    plt.show()"
   ]
  },
  {
   "cell_type": "code",
   "execution_count": 94,
   "metadata": {},
   "outputs": [
    {
     "data": {
      "image/png": "[encoded data removed]",
      "text/plain": [
       "<Figure size 432x288 with 1 Axes>"
      ]
     },
     "metadata": {
      "needs_background": "light"
     },
     "output_type": "display_data"
    },
    {
     "data": {
      "image/png": "[encoded data removed]",
      "text/plain": [
       "<Figure size 432x288 with 1 Axes>"
      ]
     },
     "metadata": {
      "needs_background": "light"
     },
     "output_type": "display_data"
    },
    {
     "data": {
      "image/png": "[encoded data removed]",
      "text/plain": [
       "<Figure size 432x288 with 1 Axes>"
      ]
     },
     "metadata": {
      "needs_background": "light"
     },
     "output_type": "display_data"
    },
    {
     "data": {
      "image/png": "[encoded data removed]",
      "text/plain": [
       "<Figure size 432x288 with 1 Axes>"
      ]
     },
     "metadata": {
      "needs_background": "light"
     },
     "output_type": "display_data"
    }
   ],
   "source": [
    "# Create two line charts, one to plot the monthly shelter costs for owned dwelleing and other for rented dwellings per year\n",
    "\n",
    "# Bar chart for 2001\n",
    "create_line_chart(df_dwelling_types.loc[2001],\"Dwelling Types on 2001\",\"Dwelling Types\",\"Count\",'red')\n",
    "\n",
    "# Bar chart for 2006\n",
    "create_line_chart(df_dwelling_types.loc[2006],\"Dwelling Types on 2006\",\"Dwelling Types\",\"Count\",'blue')\n",
    "\n",
    "# Bar chart for 2011\n",
    "create_line_chart(df_dwelling_types.loc[2011],\"Dwelling Types on 2011\",\"Dwelling Types\",\"Count\",'pink')\n",
    "\n",
    "# Bar chart for 2016\n",
    "create_line_chart(df_dwelling_types.loc[2016],\"Dwelling Types on 2016\",\"Dwelling Types\",\"Count\",'yellow')"
   ]
  },
  {
   "cell_type": "markdown",
   "metadata": {},
   "source": [
    "## Average House Value per Year\n",
    "\n",
    "In this section, you want to determine the average house value per year. An investor may want to understand better the sales price of the rental property over time. For example, a customer will want to know if they should expect an increase or decrease in the property value over time so they can determine how long to hold the rental property. You will visualize the `average_house_value` per year as a bar chart."
   ]
  },
  {
   "cell_type": "code",
   "execution_count": 95,
   "metadata": {},
   "outputs": [
    {
     "data": {
      "text/plain": [
       "year\n",
       "2001    289882.885714\n",
       "2006    424059.664286\n",
       "2011    530424.721429\n",
       "2016    664068.328571\n",
       "Name: average_house_value, dtype: float64"
      ]
     },
     "execution_count": 95,
     "metadata": {},
     "output_type": "execute_result"
    }
   ],
   "source": [
    "# Calculate the average house value per year\n",
    "average_house_value = to_data[\"average_house_value\"].groupby(to_data.index).mean()\n",
    "average_house_value"
   ]
  },
  {
   "cell_type": "code",
   "execution_count": 96,
   "metadata": {},
   "outputs": [
    {
     "data": {
      "image/png": "[encoded data removed]",
      "text/plain": [
       "<Figure size 432x288 with 1 Axes>"
      ]
     },
     "metadata": {
      "needs_background": "light"
     },
     "output_type": "display_data"
    }
   ],
   "source": [
    "# Plot the average house value per year as a line chart\n",
    "create_line_chart(average_house_value,\"Average House Value Per Year\",\"Year\",\"Average House Value\",'blue')"
   ]
  },
  {
   "cell_type": "markdown",
   "metadata": {},
   "source": [
    "- - - "
   ]
  },
  {
   "cell_type": "markdown",
   "metadata": {},
   "source": [
    "## Average House Value by Neighbourhood\n",
    "\n",
    "In this section, you will use `hvplot` to create an interactive visualization of the average house value with a dropdown selector for the neighbourhood.\n",
    "\n",
    "**Hint:** It will be easier to create a new DataFrame from grouping the data and calculating the mean house values for each year and neighbourhood."
   ]
  },
  {
   "cell_type": "code",
   "execution_count": 98,
   "metadata": {},
   "outputs": [
    {
     "data": {
      "text/html": [
       "<div>\n",
       "<style scoped>\n",
       "    .dataframe tbody tr th:only-of-type {\n",
       "        vertical-align: middle;\n",
       "    }\n",
       "\n",
       "    .dataframe tbody tr th {\n",
       "        vertical-align: top;\n",
       "    }\n",
       "\n",
       "    .dataframe thead th {\n",
       "        text-align: right;\n",
       "    }\n",
       "</style>\n",
       "<table border=\"1\" class=\"dataframe\">\n",
       "  <thead>\n",
       "    <tr style=\"text-align: right;\">\n",
       "      <th></th>\n",
       "      <th>neighbourhood</th>\n",
       "      <th>year</th>\n",
       "      <th>average_house_value</th>\n",
       "    </tr>\n",
       "  </thead>\n",
       "  <tbody>\n",
       "    <tr>\n",
       "      <th>0</th>\n",
       "      <td>Agincourt North</td>\n",
       "      <td>2001</td>\n",
       "      <td>200388</td>\n",
       "    </tr>\n",
       "    <tr>\n",
       "      <th>1</th>\n",
       "      <td>Agincourt North</td>\n",
       "      <td>2006</td>\n",
       "      <td>293140</td>\n",
       "    </tr>\n",
       "    <tr>\n",
       "      <th>2</th>\n",
       "      <td>Agincourt North</td>\n",
       "      <td>2011</td>\n",
       "      <td>366667</td>\n",
       "    </tr>\n",
       "    <tr>\n",
       "      <th>3</th>\n",
       "      <td>Agincourt North</td>\n",
       "      <td>2016</td>\n",
       "      <td>459051</td>\n",
       "    </tr>\n",
       "    <tr>\n",
       "      <th>4</th>\n",
       "      <td>Agincourt South-Malvern West</td>\n",
       "      <td>2001</td>\n",
       "      <td>203047</td>\n",
       "    </tr>\n",
       "  </tbody>\n",
       "</table>\n",
       "</div>"
      ],
      "text/plain": [
       "                  neighbourhood  year  average_house_value\n",
       "0               Agincourt North  2001               200388\n",
       "1               Agincourt North  2006               293140\n",
       "2               Agincourt North  2011               366667\n",
       "3               Agincourt North  2016               459051\n",
       "4  Agincourt South-Malvern West  2001               203047"
      ]
     },
     "execution_count": 98,
     "metadata": {},
     "output_type": "execute_result"
    }
   ],
   "source": [
    "# Create a new DataFrame with the mean house values by neighbourhood per year\n",
    "new_df = to_data.reset_index()\n",
    "new_df = new_df[[\"year\",\"average_house_value\",\"neighbourhood\"]]\n",
    "df_mean_house = new_df.groupby(['neighbourhood','year']).mean()\n",
    "df_mean_house.reset_index(inplace=True)\n",
    "df_mean_house.head()"
   ]
  },
  {
   "cell_type": "code",
   "execution_count": 110,
   "metadata": {},
   "outputs": [
    {
     "data": {},
     "metadata": {},
     "output_type": "display_data"
    },
    {
     "data": {
      "application/vnd.holoviews_exec.v0+json": "",
      "text/html": [
       "<div id='2381'>\n",
       "\n",
       "\n",
       "\n",
       "\n",
       "\n",
       "  <div class=\"bk-root\" id=\"9d96a7aa-22a3-406f-83f9-be60bb11c033\" data-root-id=\"2381\"></div>\n",
       "</div>\n",
       "<script type=\"application/javascript\">(function(root) {\n",
       "  function embed_document(root) {\n",
       "    var docs_json = {\"3d2b023a-2eaa-4e48-b650-0fd7455c58fa\":{\"roots\":{\"references\":[{\"attributes\":{\"children\":[{\"id\":\"2382\"},{\"id\":\"2386\"},{\"id\":\"2448\"},{\"id\":\"2449\"}],\"margin\":[0,0,0,0],\"name\":\"Row03860\"},\"id\":\"2381\",\"type\":\"Row\"},{\"attributes\":{},\"id\":\"2405\",\"type\":\"WheelZoomTool\"},{\"attributes\":{},\"id\":\"2391\",\"type\":\"LinearScale\"},{\"attributes\":{},\"id\":\"2407\",\"type\":\"ResetTool\"},{\"attributes\":{\"overlay\":{\"id\":\"2408\"}},\"id\":\"2406\",\"type\":\"BoxZoomTool\"},{\"attributes\":{},\"id\":\"2438\",\"type\":\"UnionRenderers\"},{\"attributes\":{\"axis_label\":\"Year\",\"bounds\":\"auto\",\"formatter\":{\"id\":\"2424\"},\"major_label_orientation\":\"horizontal\",\"ticker\":{\"id\":\"2396\"}},\"id\":\"2395\",\"type\":\"LinearAxis\"},{\"attributes\":{},\"id\":\"2393\",\"type\":\"LinearScale\"},{\"attributes\":{\"margin\":[5,5,5,5],\"name\":\"HSpacer03869\",\"sizing_mode\":\"stretch_width\"},\"id\":\"2382\",\"type\":\"Spacer\"},{\"attributes\":{\"margin\":[5,5,5,5],\"name\":\"VSpacer03866\",\"sizing_mode\":\"stretch_height\"},\"id\":\"2450\",\"type\":\"Spacer\"},{\"attributes\":{},\"id\":\"2396\",\"type\":\"BasicTicker\"},{\"attributes\":{},\"id\":\"2417\",\"type\":\"Selection\"},{\"attributes\":{\"margin\":[5,5,5,5],\"name\":\"HSpacer03870\",\"sizing_mode\":\"stretch_width\"},\"id\":\"2448\",\"type\":\"Spacer\"},{\"attributes\":{\"axis_label\":\"Average House Value\",\"bounds\":\"auto\",\"formatter\":{\"id\":\"2426\"},\"major_label_orientation\":\"horizontal\",\"ticker\":{\"id\":\"2400\"}},\"id\":\"2399\",\"type\":\"LinearAxis\"},{\"attributes\":{\"data\":{\"average_house_value\":[200388,293140,366667,459051],\"year\":[2001,2006,2011,2016]},\"selected\":{\"id\":\"2417\"},\"selection_policy\":{\"id\":\"2438\"}},\"id\":\"2416\",\"type\":\"ColumnDataSource\"},{\"attributes\":{\"axis\":{\"id\":\"2395\"},\"grid_line_color\":null,\"ticker\":null},\"id\":\"2398\",\"type\":\"Grid\"},{\"attributes\":{\"end\":484917.3,\"reset_end\":484917.3,\"reset_start\":174521.7,\"start\":174521.7,\"tags\":[[[\"average_house_value\",\"average_house_value\",null]]]},\"id\":\"2384\",\"type\":\"Range1d\"},{\"attributes\":{\"children\":[{\"id\":\"2450\"},{\"id\":\"2451\"},{\"id\":\"2453\"}],\"margin\":[0,0,0,0],\"name\":\"Column03868\"},\"id\":\"2449\",\"type\":\"Column\"},{\"attributes\":{},\"id\":\"2400\",\"type\":\"BasicTicker\"},{\"attributes\":{\"margin\":[20,20,20,20],\"min_width\":250,\"options\":[\"Agincourt North\",\"Agincourt South-Malvern West\",\"Alderwood\",\"Annex\",\"Banbury-Don Mills\",\"Bathurst Manor\",\"Bay Street Corridor\",\"Bayview Village\",\"Bayview Woods-Steeles\",\"Bedford Park-Nortown\",\"Beechborough-Greenbrook\",\"Bendale\",\"Birchcliffe-Cliffside\",\"Black Creek\",\"Blake-Jones\",\"Briar Hill-Belgravia\",\"Bridle Path-Sunnybrook-York Mills\",\"Broadview North\",\"Brookhaven-Amesbury\",\"Cabbagetown-South St.James Town\",\"Caledonia-Fairbank\",\"Casa Loma\",\"Centennial Scarborough\",\"Church-Yonge Corridor\",\"Clairlea-Birchmount\",\"Clanton Park\",\"Cliffcrest\",\"Corso Italia-Davenport\",\"Danforth\",\"Danforth-East York\",\"Don Valley Village\",\"Dorset Park\",\"Dovercourt-Wallace Emerson-Juncti\",\"Downsview-Roding-CFB\",\"Dufferin Grove\",\"East End-Danforth\",\"Edenbridge-Humber Valley\",\"Eglinton East\",\"Elms-Old Rexdale\",\"Englemount-Lawrence\",\"Eringate-Centennial-West Deane\",\"Etobicoke West Mall\",\"Flemingdon Park\",\"Forest Hill North\",\"Forest Hill South\",\"Glenfield-Jane Heights\",\"Greenwood-Coxwell\",\"Guildwood\",\"Henry Farm\",\"High Park North\",\"High Park-Swansea\",\"Highland Creek\",\"Hillcrest Village\",\"Humber Heights-Westmount\",\"Humber Summit\",\"Humbermede\",\"Humewood-Cedarvale\",\"Ionview\",\"Islington-City Centre West\",\"Junction Area\",\"Keelesdale-Eglinton West\",\"Kennedy Park\",\"Kensington-Chinatown\",\"Kingsview Village-The Westway\",\"Kingsway South\",\"L'Amoreaux\",\"Lambton Baby Point\",\"Lansing-Westgate\",\"Lawrence Park North\",\"Lawrence Park South\",\"Leaside-Bennington\",\"Little Portugal\",\"Long Branch\",\"Malvern\",\"Maple Leaf\",\"Markland Wood\",\"Milliken\",\"Mimico\",\"Morningside\",\"Moss Park\",\"Mount Dennis\",\"Mount Olive-Silverstone-Jamestown\",\"Mount Pleasant East\",\"Mount Pleasant West\",\"New Toronto\",\"Newtonbrook East\",\"Newtonbrook West\",\"Niagara\",\"North Riverdale\",\"North St.James Town\",\"O'Connor-Parkview\",\"Oakridge\",\"Oakwood Village\",\"Old East York\",\"Palmerston-Little Italy\",\"Parkwoods-Donalda\",\"Pelmo Park-Humberlea\",\"Playter Estates-Danforth\",\"Pleasant View\",\"Princess-Rosethorn\",\"Regent Park\",\"Rexdale-Kipling\",\"Rockcliffe-Smythe\",\"Roncesvalles\",\"Rosedale-Moore Park\",\"Rouge\",\"Runnymede-Bloor West Village\",\"Rustic\",\"Scarborough Village\",\"South Parkdale\",\"South Riverdale\",\"St.Andrew-Windfields\",\"Steeles\",\"Stonegate-Queensway\",\"Tam O'Shanter-Sullivan\",\"Taylor-Massey\",\"The Beaches\",\"Thistletown-Beaumond Heights\",\"Thorncliffe Park\",\"Trinity-Bellwoods\",\"University\",\"Victoria Village\",\"Waterfront Communities-The Island\",\"West Hill\",\"West Humber-Clairville\",\"Westminster-Branson\",\"Weston\",\"Weston-Pellam Park\",\"Wexford/Maryvale\",\"Willowdale East\",\"Willowdale West\",\"Willowridge-Martingrove-Richview\",\"Woburn\",\"Woodbine Corridor\",\"Woodbine-Lumsden\",\"Wychwood\",\"Yonge-Eglinton\",\"Yonge-St.Clair\",\"York University Heights\",\"Yorkdale-Glen Park\"],\"title\":\"neighbourhood\",\"value\":\"Agincourt North\",\"width\":250},\"id\":\"2452\",\"type\":\"Select\"},{\"attributes\":{\"axis\":{\"id\":\"2399\"},\"dimension\":1,\"grid_line_color\":null,\"ticker\":null},\"id\":\"2402\",\"type\":\"Grid\"},{\"attributes\":{\"line_alpha\":0.1,\"line_color\":\"#30a2da\",\"line_width\":2,\"x\":{\"field\":\"year\"},\"y\":{\"field\":\"average_house_value\"}},\"id\":\"2420\",\"type\":\"Line\"},{\"attributes\":{\"source\":{\"id\":\"2416\"}},\"id\":\"2423\",\"type\":\"CDSView\"},{\"attributes\":{\"callback\":null,\"renderers\":[{\"id\":\"2422\"}],\"tags\":[\"hv_created\"],\"tooltips\":[[\"year\",\"@{year}\"],[\"average_house_value\",\"@{average_house_value}\"]]},\"id\":\"2385\",\"type\":\"HoverTool\"},{\"attributes\":{\"children\":[{\"id\":\"2452\"}],\"css_classes\":[\"panel-widget-box\"],\"margin\":[5,5,5,5],\"name\":\"WidgetBox03861\"},\"id\":\"2451\",\"type\":\"Column\"},{\"attributes\":{},\"id\":\"2426\",\"type\":\"BasicTickFormatter\"},{\"attributes\":{\"active_drag\":\"auto\",\"active_inspect\":\"auto\",\"active_multi\":null,\"active_scroll\":\"auto\",\"active_tap\":\"auto\",\"tools\":[{\"id\":\"2385\"},{\"id\":\"2403\"},{\"id\":\"2404\"},{\"id\":\"2405\"},{\"id\":\"2406\"},{\"id\":\"2407\"}]},\"id\":\"2409\",\"type\":\"Toolbar\"},{\"attributes\":{\"margin\":[5,5,5,5],\"name\":\"VSpacer03867\",\"sizing_mode\":\"stretch_height\"},\"id\":\"2453\",\"type\":\"Spacer\"},{\"attributes\":{\"text\":\"neighbourhood: Agincourt North\",\"text_color\":{\"value\":\"black\"},\"text_font_size\":{\"value\":\"12pt\"}},\"id\":\"2387\",\"type\":\"Title\"},{\"attributes\":{},\"id\":\"2424\",\"type\":\"BasicTickFormatter\"},{\"attributes\":{\"bottom_units\":\"screen\",\"fill_alpha\":0.5,\"fill_color\":\"lightgrey\",\"left_units\":\"screen\",\"level\":\"overlay\",\"line_alpha\":1.0,\"line_color\":\"black\",\"line_dash\":[4,4],\"line_width\":2,\"right_units\":\"screen\",\"top_units\":\"screen\"},\"id\":\"2408\",\"type\":\"BoxAnnotation\"},{\"attributes\":{\"below\":[{\"id\":\"2395\"}],\"center\":[{\"id\":\"2398\"},{\"id\":\"2402\"}],\"left\":[{\"id\":\"2399\"}],\"margin\":[5,5,5,5],\"min_border_bottom\":10,\"min_border_left\":10,\"min_border_right\":10,\"min_border_top\":10,\"plot_height\":300,\"plot_width\":700,\"renderers\":[{\"id\":\"2422\"}],\"sizing_mode\":\"fixed\",\"title\":{\"id\":\"2387\"},\"toolbar\":{\"id\":\"2409\"},\"x_range\":{\"id\":\"2383\"},\"x_scale\":{\"id\":\"2391\"},\"y_range\":{\"id\":\"2384\"},\"y_scale\":{\"id\":\"2393\"}},\"id\":\"2386\",\"subtype\":\"Figure\",\"type\":\"Plot\"},{\"attributes\":{\"client_comm_id\":\"32af9f1d4d48436a968ee07904d5e5b1\",\"comm_id\":\"f512f48c89ad4f649f65056df4be6171\",\"plot_id\":\"2381\"},\"id\":\"2478\",\"type\":\"panel.models.comm_manager.CommManager\"},{\"attributes\":{\"line_color\":\"#30a2da\",\"line_width\":2,\"x\":{\"field\":\"year\"},\"y\":{\"field\":\"average_house_value\"}},\"id\":\"2419\",\"type\":\"Line\"},{\"attributes\":{\"end\":2016.0,\"reset_end\":2016.0,\"reset_start\":2001.0,\"start\":2001.0,\"tags\":[[[\"year\",\"year\",null]]]},\"id\":\"2383\",\"type\":\"Range1d\"},{\"attributes\":{\"data_source\":{\"id\":\"2416\"},\"glyph\":{\"id\":\"2419\"},\"hover_glyph\":null,\"muted_glyph\":{\"id\":\"2421\"},\"nonselection_glyph\":{\"id\":\"2420\"},\"selection_glyph\":null,\"view\":{\"id\":\"2423\"}},\"id\":\"2422\",\"type\":\"GlyphRenderer\"},{\"attributes\":{},\"id\":\"2403\",\"type\":\"SaveTool\"},{\"attributes\":{\"line_alpha\":0.2,\"line_color\":\"#30a2da\",\"line_width\":2,\"x\":{\"field\":\"year\"},\"y\":{\"field\":\"average_house_value\"}},\"id\":\"2421\",\"type\":\"Line\"},{\"attributes\":{},\"id\":\"2404\",\"type\":\"PanTool\"}],\"root_ids\":[\"2381\",\"2478\"]},\"title\":\"Bokeh Application\",\"version\":\"2.2.3\"}};\n",
       "    var render_items = [{\"docid\":\"3d2b023a-2eaa-4e48-b650-0fd7455c58fa\",\"root_ids\":[\"2381\"],\"roots\":{\"2381\":\"9d96a7aa-22a3-406f-83f9-be60bb11c033\"}}];\n",
       "    root.Bokeh.embed.embed_items_notebook(docs_json, render_items);\n",
       "  }\n",
       "  if (root.Bokeh !== undefined && root.Bokeh.Panel !== undefined && root['Plotly'] !== undefined ) {\n",
       "    embed_document(root);\n",
       "  } else {\n",
       "    var attempts = 0;\n",
       "    var timer = setInterval(function(root) {\n",
       "      if (root.Bokeh !== undefined && root.Bokeh.Panel !== undefined && root['Plotly'] !== undefined) {\n",
       "        clearInterval(timer);\n",
       "        embed_document(root);\n",
       "      } else if (document.readyState == \"complete\") {\n",
       "        attempts++;\n",
       "        if (attempts > 100) {\n",
       "          clearInterval(timer);\n",
       "          console.log(\"Bokeh: ERROR: Unable to run BokehJS code because BokehJS library is missing\");\n",
       "        }\n",
       "      }\n",
       "    }, 10, root)\n",
       "  }\n",
       "})(window);</script>"
      ],
      "text/plain": [
       ":DynamicMap   [neighbourhood]\n",
       "   :Curve   [year]   (average_house_value)"
      ]
     },
     "execution_count": 110,
     "metadata": {
      "application/vnd.holoviews_exec.v0+json": {
       "id": "2381"
      }
     },
     "output_type": "execute_result"
    }
   ],
   "source": [
    "# Use hvplot to create an interactive line chart of the average house value per neighbourhood\n",
    "# The plot should have a dropdown selector for the neighbourhoodd\n",
    "df_mean_house.hvplot.line(\n",
    "    'year',\n",
    "    'average_house_value',\n",
    "    xlabel = \"Year\", \n",
    "    ylabel = \"Average House Value\",\n",
    "    groupby='neighbourhood',\n",
    ")"
   ]
  },
  {
   "cell_type": "markdown",
   "metadata": {},
   "source": [
    "## Number of Dwelling Types per Year\n",
    "\n",
    "In this section, you will use `hvplot` to create an interactive visualization of the average number of dwelling types per year with a dropdown selector for the neighbourhood."
   ]
  },
  {
   "cell_type": "code",
   "execution_count": 115,
   "metadata": {},
   "outputs": [
    {
     "data": {
      "text/html": [
       "<div>\n",
       "<style scoped>\n",
       "    .dataframe tbody tr th:only-of-type {\n",
       "        vertical-align: middle;\n",
       "    }\n",
       "\n",
       "    .dataframe tbody tr th {\n",
       "        vertical-align: top;\n",
       "    }\n",
       "\n",
       "    .dataframe thead th {\n",
       "        text-align: right;\n",
       "    }\n",
       "</style>\n",
       "<table border=\"1\" class=\"dataframe\">\n",
       "  <thead>\n",
       "    <tr style=\"text-align: right;\">\n",
       "      <th></th>\n",
       "      <th>year</th>\n",
       "      <th>neighbourhood</th>\n",
       "      <th>single_detached_house</th>\n",
       "      <th>apartment_five_storeys_plus</th>\n",
       "      <th>movable_dwelling</th>\n",
       "      <th>semi_detached_house</th>\n",
       "      <th>row_house</th>\n",
       "      <th>duplex</th>\n",
       "      <th>apartment_five_storeys_less</th>\n",
       "      <th>other_house</th>\n",
       "      <th>average_house_value</th>\n",
       "      <th>shelter_costs_owned</th>\n",
       "      <th>shelter_costs_rented</th>\n",
       "    </tr>\n",
       "  </thead>\n",
       "  <tbody>\n",
       "    <tr>\n",
       "      <th>0</th>\n",
       "      <td>2001</td>\n",
       "      <td>Agincourt North</td>\n",
       "      <td>3715</td>\n",
       "      <td>1480</td>\n",
       "      <td>0</td>\n",
       "      <td>1055</td>\n",
       "      <td>1295</td>\n",
       "      <td>195</td>\n",
       "      <td>185</td>\n",
       "      <td>5</td>\n",
       "      <td>200388</td>\n",
       "      <td>810</td>\n",
       "      <td>870</td>\n",
       "    </tr>\n",
       "    <tr>\n",
       "      <th>1</th>\n",
       "      <td>2001</td>\n",
       "      <td>Agincourt South-Malvern West</td>\n",
       "      <td>3250</td>\n",
       "      <td>1835</td>\n",
       "      <td>0</td>\n",
       "      <td>545</td>\n",
       "      <td>455</td>\n",
       "      <td>105</td>\n",
       "      <td>425</td>\n",
       "      <td>0</td>\n",
       "      <td>203047</td>\n",
       "      <td>806</td>\n",
       "      <td>892</td>\n",
       "    </tr>\n",
       "    <tr>\n",
       "      <th>2</th>\n",
       "      <td>2001</td>\n",
       "      <td>Alderwood</td>\n",
       "      <td>3175</td>\n",
       "      <td>315</td>\n",
       "      <td>0</td>\n",
       "      <td>470</td>\n",
       "      <td>50</td>\n",
       "      <td>185</td>\n",
       "      <td>370</td>\n",
       "      <td>0</td>\n",
       "      <td>259998</td>\n",
       "      <td>817</td>\n",
       "      <td>924</td>\n",
       "    </tr>\n",
       "    <tr>\n",
       "      <th>3</th>\n",
       "      <td>2001</td>\n",
       "      <td>Annex</td>\n",
       "      <td>1060</td>\n",
       "      <td>6090</td>\n",
       "      <td>5</td>\n",
       "      <td>1980</td>\n",
       "      <td>605</td>\n",
       "      <td>275</td>\n",
       "      <td>3710</td>\n",
       "      <td>165</td>\n",
       "      <td>453850</td>\n",
       "      <td>1027</td>\n",
       "      <td>1378</td>\n",
       "    </tr>\n",
       "    <tr>\n",
       "      <th>4</th>\n",
       "      <td>2001</td>\n",
       "      <td>Banbury-Don Mills</td>\n",
       "      <td>3615</td>\n",
       "      <td>4465</td>\n",
       "      <td>0</td>\n",
       "      <td>240</td>\n",
       "      <td>380</td>\n",
       "      <td>15</td>\n",
       "      <td>1360</td>\n",
       "      <td>0</td>\n",
       "      <td>371864</td>\n",
       "      <td>1007</td>\n",
       "      <td>1163</td>\n",
       "    </tr>\n",
       "  </tbody>\n",
       "</table>\n",
       "</div>"
      ],
      "text/plain": [
       "   year                 neighbourhood  single_detached_house  \\\n",
       "0  2001               Agincourt North                   3715   \n",
       "1  2001  Agincourt South-Malvern West                   3250   \n",
       "2  2001                     Alderwood                   3175   \n",
       "3  2001                         Annex                   1060   \n",
       "4  2001             Banbury-Don Mills                   3615   \n",
       "\n",
       "   apartment_five_storeys_plus  movable_dwelling  semi_detached_house  \\\n",
       "0                         1480                 0                 1055   \n",
       "1                         1835                 0                  545   \n",
       "2                          315                 0                  470   \n",
       "3                         6090                 5                 1980   \n",
       "4                         4465                 0                  240   \n",
       "\n",
       "   row_house  duplex  apartment_five_storeys_less  other_house  \\\n",
       "0       1295     195                          185            5   \n",
       "1        455     105                          425            0   \n",
       "2         50     185                          370            0   \n",
       "3        605     275                         3710          165   \n",
       "4        380      15                         1360            0   \n",
       "\n",
       "   average_house_value  shelter_costs_owned  shelter_costs_rented  \n",
       "0               200388                  810                   870  \n",
       "1               203047                  806                   892  \n",
       "2               259998                  817                   924  \n",
       "3               453850                 1027                  1378  \n",
       "4               371864                 1007                  1163  "
      ]
     },
     "execution_count": 115,
     "metadata": {},
     "output_type": "execute_result"
    }
   ],
   "source": [
    "# Fetch the data of all dwelling types per year\n",
    "df_dwelling_average = to_data.groupby([to_data.index,'neighbourhood']).mean().reset_index()\n",
    "df_dwelling_average.head()"
   ]
  },
  {
   "cell_type": "code",
   "execution_count": 124,
   "metadata": {},
   "outputs": [
    {
     "data": {},
     "metadata": {},
     "output_type": "display_data"
    },
    {
     "data": {
      "application/vnd.holoviews_exec.v0+json": "",
      "text/html": [
       "<div id='3349'>\n",
       "\n",
       "\n",
       "\n",
       "\n",
       "\n",
       "  <div class=\"bk-root\" id=\"6ddea423-7733-4e10-98b3-849348d00f32\" data-root-id=\"3349\"></div>\n",
       "</div>\n",
       "<script type=\"application/javascript\">(function(root) {\n",
       "  function embed_document(root) {\n",
       "    var docs_json = {\"510e12d3-a2d9-4d3d-9264-db9cd25907d8\":{\"roots\":{\"references\":[{\"attributes\":{\"active_drag\":\"auto\",\"active_inspect\":\"auto\",\"active_multi\":null,\"active_scroll\":\"auto\",\"active_tap\":\"auto\",\"tools\":[{\"id\":\"3353\"},{\"id\":\"3370\"},{\"id\":\"3371\"},{\"id\":\"3372\"},{\"id\":\"3373\"},{\"id\":\"3374\"}]},\"id\":\"3376\",\"type\":\"Toolbar\"},{\"attributes\":{},\"id\":\"3385\",\"type\":\"Selection\"},{\"attributes\":{},\"id\":\"3361\",\"type\":\"LinearScale\"},{\"attributes\":{\"fill_color\":{\"field\":\"Variable\",\"transform\":{\"id\":\"3383\"}},\"top\":{\"field\":\"value\"},\"width\":{\"value\":0.8},\"x\":{\"field\":\"xoffsets\"}},\"id\":\"3387\",\"type\":\"VBar\"},{\"attributes\":{},\"id\":\"3364\",\"type\":\"CategoricalTicker\"},{\"attributes\":{\"axis\":{\"id\":\"3363\"},\"grid_line_color\":null,\"ticker\":null},\"id\":\"3365\",\"type\":\"Grid\"},{\"attributes\":{\"source\":{\"id\":\"3384\"}},\"id\":\"3391\",\"type\":\"CDSView\"},{\"attributes\":{\"margin\":[20,20,20,20],\"min_width\":250,\"options\":[\"Agincourt North\",\"Agincourt South-Malvern West\",\"Alderwood\",\"Annex\",\"Banbury-Don Mills\",\"Bathurst Manor\",\"Bay Street Corridor\",\"Bayview Village\",\"Bayview Woods-Steeles\",\"Bedford Park-Nortown\",\"Beechborough-Greenbrook\",\"Bendale\",\"Birchcliffe-Cliffside\",\"Black Creek\",\"Blake-Jones\",\"Briar Hill-Belgravia\",\"Bridle Path-Sunnybrook-York Mills\",\"Broadview North\",\"Brookhaven-Amesbury\",\"Cabbagetown-South St.James Town\",\"Caledonia-Fairbank\",\"Casa Loma\",\"Centennial Scarborough\",\"Church-Yonge Corridor\",\"Clairlea-Birchmount\",\"Clanton Park\",\"Cliffcrest\",\"Corso Italia-Davenport\",\"Danforth\",\"Danforth-East York\",\"Don Valley Village\",\"Dorset Park\",\"Dovercourt-Wallace Emerson-Juncti\",\"Downsview-Roding-CFB\",\"Dufferin Grove\",\"East End-Danforth\",\"Edenbridge-Humber Valley\",\"Eglinton East\",\"Elms-Old Rexdale\",\"Englemount-Lawrence\",\"Eringate-Centennial-West Deane\",\"Etobicoke West Mall\",\"Flemingdon Park\",\"Forest Hill North\",\"Forest Hill South\",\"Glenfield-Jane Heights\",\"Greenwood-Coxwell\",\"Guildwood\",\"Henry Farm\",\"High Park North\",\"High Park-Swansea\",\"Highland Creek\",\"Hillcrest Village\",\"Humber Heights-Westmount\",\"Humber Summit\",\"Humbermede\",\"Humewood-Cedarvale\",\"Ionview\",\"Islington-City Centre West\",\"Junction Area\",\"Keelesdale-Eglinton West\",\"Kennedy Park\",\"Kensington-Chinatown\",\"Kingsview Village-The Westway\",\"Kingsway South\",\"L'Amoreaux\",\"Lambton Baby Point\",\"Lansing-Westgate\",\"Lawrence Park North\",\"Lawrence Park South\",\"Leaside-Bennington\",\"Little Portugal\",\"Long Branch\",\"Malvern\",\"Maple Leaf\",\"Markland Wood\",\"Milliken\",\"Mimico\",\"Morningside\",\"Moss Park\",\"Mount Dennis\",\"Mount Olive-Silverstone-Jamestown\",\"Mount Pleasant East\",\"Mount Pleasant West\",\"New Toronto\",\"Newtonbrook East\",\"Newtonbrook West\",\"Niagara\",\"North Riverdale\",\"North St.James Town\",\"O'Connor-Parkview\",\"Oakridge\",\"Oakwood Village\",\"Old East York\",\"Palmerston-Little Italy\",\"Parkwoods-Donalda\",\"Pelmo Park-Humberlea\",\"Playter Estates-Danforth\",\"Pleasant View\",\"Princess-Rosethorn\",\"Regent Park\",\"Rexdale-Kipling\",\"Rockcliffe-Smythe\",\"Roncesvalles\",\"Rosedale-Moore Park\",\"Rouge\",\"Runnymede-Bloor West Village\",\"Rustic\",\"Scarborough Village\",\"South Parkdale\",\"South Riverdale\",\"St.Andrew-Windfields\",\"Steeles\",\"Stonegate-Queensway\",\"Tam O'Shanter-Sullivan\",\"Taylor-Massey\",\"The Beaches\",\"Thistletown-Beaumond Heights\",\"Thorncliffe Park\",\"Trinity-Bellwoods\",\"University\",\"Victoria Village\",\"Waterfront Communities-The Island\",\"West Hill\",\"West Humber-Clairville\",\"Westminster-Branson\",\"Weston\",\"Weston-Pellam Park\",\"Wexford/Maryvale\",\"Willowdale East\",\"Willowdale West\",\"Willowridge-Martingrove-Richview\",\"Woburn\",\"Woodbine Corridor\",\"Woodbine-Lumsden\",\"Wychwood\",\"Yonge-Eglinton\",\"Yonge-St.Clair\",\"York University Heights\",\"Yorkdale-Glen Park\"],\"title\":\"neighbourhood\",\"value\":\"Agincourt North\",\"width\":250},\"id\":\"3420\",\"type\":\"Select\"},{\"attributes\":{\"end\":4086.5,\"reset_end\":4086.5,\"reset_start\":0.0,\"tags\":[[[\"value\",\"value\",null]]]},\"id\":\"3352\",\"type\":\"Range1d\"},{\"attributes\":{\"axis_label\":\"Year\",\"bounds\":\"auto\",\"formatter\":{\"id\":\"3393\"},\"major_label_orientation\":1.5707963267948966,\"ticker\":{\"id\":\"3364\"}},\"id\":\"3363\",\"type\":\"CategoricalAxis\"},{\"attributes\":{},\"id\":\"3394\",\"type\":\"BasicTickFormatter\"},{\"attributes\":{\"margin\":[5,5,5,5],\"name\":\"HSpacer06612\",\"sizing_mode\":\"stretch_width\"},\"id\":\"3350\",\"type\":\"Spacer\"},{\"attributes\":{\"bounds\":\"auto\",\"formatter\":{\"id\":\"3394\"},\"major_label_orientation\":\"horizontal\",\"ticker\":{\"id\":\"3367\"}},\"id\":\"3366\",\"type\":\"LinearAxis\"},{\"attributes\":{\"margin\":[5,5,5,5],\"name\":\"VSpacer06609\",\"sizing_mode\":\"stretch_height\"},\"id\":\"3418\",\"type\":\"Spacer\"},{\"attributes\":{\"children\":[{\"id\":\"3420\"}],\"css_classes\":[\"panel-widget-box\"],\"margin\":[5,5,5,5],\"name\":\"WidgetBox06604\"},\"id\":\"3419\",\"type\":\"Column\"},{\"attributes\":{\"fill_alpha\":{\"value\":0.2},\"fill_color\":{\"field\":\"Variable\",\"transform\":{\"id\":\"3383\"}},\"line_alpha\":{\"value\":0.2},\"top\":{\"field\":\"value\"},\"width\":{\"value\":0.8},\"x\":{\"field\":\"xoffsets\"}},\"id\":\"3389\",\"type\":\"VBar\"},{\"attributes\":{},\"id\":\"3367\",\"type\":\"BasicTicker\"},{\"attributes\":{\"children\":[{\"id\":\"3418\"},{\"id\":\"3419\"},{\"id\":\"3421\"}],\"margin\":[0,0,0,0],\"name\":\"Column06611\"},\"id\":\"3417\",\"type\":\"Column\"},{\"attributes\":{\"callback\":null,\"renderers\":[{\"id\":\"3390\"}],\"tags\":[\"hv_created\"],\"tooltips\":[[\"year\",\"@{year}\"],[\"Variable\",\"@{Variable}\"],[\"value\",\"@{value}\"]]},\"id\":\"3353\",\"type\":\"HoverTool\"},{\"attributes\":{\"data_source\":{\"id\":\"3384\"},\"glyph\":{\"id\":\"3387\"},\"hover_glyph\":null,\"muted_glyph\":{\"id\":\"3389\"},\"nonselection_glyph\":{\"id\":\"3388\"},\"selection_glyph\":null,\"view\":{\"id\":\"3391\"}},\"id\":\"3390\",\"type\":\"GlyphRenderer\"},{\"attributes\":{\"client_comm_id\":\"25611d6ae4d247169d0e842017468696\",\"comm_id\":\"677667a56eac4afca98e178499bd1954\",\"plot_id\":\"3349\"},\"id\":\"3446\",\"type\":\"panel.models.comm_manager.CommManager\"},{\"attributes\":{\"margin\":[5,5,5,5],\"name\":\"HSpacer06613\",\"sizing_mode\":\"stretch_width\"},\"id\":\"3416\",\"type\":\"Spacer\"},{\"attributes\":{\"axis\":{\"id\":\"3366\"},\"dimension\":1,\"grid_line_color\":null,\"ticker\":null},\"id\":\"3369\",\"type\":\"Grid\"},{\"attributes\":{\"factors\":[[\"2001\",\"other_house\"],[\"2001\",\"apartment_five_storeys_less\"],[\"2001\",\"duplex\"],[\"2001\",\"row_house\"],[\"2001\",\"semi_detached_house\"],[\"2001\",\"movable_dwelling\"],[\"2001\",\"apartment_five_storeys_plus\"],[\"2001\",\"single_detached_house\"],[\"2006\",\"other_house\"],[\"2006\",\"apartment_five_storeys_less\"],[\"2006\",\"duplex\"],[\"2006\",\"row_house\"],[\"2006\",\"semi_detached_house\"],[\"2006\",\"movable_dwelling\"],[\"2006\",\"apartment_five_storeys_plus\"],[\"2006\",\"single_detached_house\"],[\"2011\",\"other_house\"],[\"2011\",\"apartment_five_storeys_less\"],[\"2011\",\"duplex\"],[\"2011\",\"row_house\"],[\"2011\",\"semi_detached_house\"],[\"2011\",\"movable_dwelling\"],[\"2011\",\"apartment_five_storeys_plus\"],[\"2011\",\"single_detached_house\"],[\"2016\",\"other_house\"],[\"2016\",\"apartment_five_storeys_less\"],[\"2016\",\"duplex\"],[\"2016\",\"row_house\"],[\"2016\",\"semi_detached_house\"],[\"2016\",\"movable_dwelling\"],[\"2016\",\"apartment_five_storeys_plus\"],[\"2016\",\"single_detached_house\"]],\"tags\":[[[\"year\",\"year\",null],[\"Variable\",\"Variable\",null]]]},\"id\":\"3351\",\"type\":\"FactorRange\"},{\"attributes\":{\"fill_alpha\":{\"value\":0.1},\"fill_color\":{\"field\":\"Variable\",\"transform\":{\"id\":\"3383\"}},\"line_alpha\":{\"value\":0.1},\"top\":{\"field\":\"value\"},\"width\":{\"value\":0.8},\"x\":{\"field\":\"xoffsets\"}},\"id\":\"3388\",\"type\":\"VBar\"},{\"attributes\":{\"margin\":[5,5,5,5],\"name\":\"VSpacer06610\",\"sizing_mode\":\"stretch_height\"},\"id\":\"3421\",\"type\":\"Spacer\"},{\"attributes\":{\"data\":{\"Variable\":[\"single_detached_house\",\"single_detached_house\",\"single_detached_house\",\"single_detached_house\",\"apartment_five_storeys_plus\",\"apartment_five_storeys_plus\",\"apartment_five_storeys_plus\",\"apartment_five_storeys_plus\",\"movable_dwelling\",\"movable_dwelling\",\"movable_dwelling\",\"movable_dwelling\",\"semi_detached_house\",\"semi_detached_house\",\"semi_detached_house\",\"semi_detached_house\",\"row_house\",\"row_house\",\"row_house\",\"row_house\",\"duplex\",\"duplex\",\"duplex\",\"duplex\",\"apartment_five_storeys_less\",\"apartment_five_storeys_less\",\"apartment_five_storeys_less\",\"apartment_five_storeys_less\",\"other_house\",\"other_house\",\"other_house\",\"other_house\"],\"value\":[3715,3295,3385,3345,1480,2060,2130,2120,0,0,5,5,1055,775,820,805,1295,1425,1465,1440,195,600,610,645,185,565,705,735,5,0,20,15],\"xoffsets\":[[\"2001\",\"single_detached_house\"],[\"2006\",\"single_detached_house\"],[\"2011\",\"single_detached_house\"],[\"2016\",\"single_detached_house\"],[\"2001\",\"apartment_five_storeys_plus\"],[\"2006\",\"apartment_five_storeys_plus\"],[\"2011\",\"apartment_five_storeys_plus\"],[\"2016\",\"apartment_five_storeys_plus\"],[\"2001\",\"movable_dwelling\"],[\"2006\",\"movable_dwelling\"],[\"2011\",\"movable_dwelling\"],[\"2016\",\"movable_dwelling\"],[\"2001\",\"semi_detached_house\"],[\"2006\",\"semi_detached_house\"],[\"2011\",\"semi_detached_house\"],[\"2016\",\"semi_detached_house\"],[\"2001\",\"row_house\"],[\"2006\",\"row_house\"],[\"2011\",\"row_house\"],[\"2016\",\"row_house\"],[\"2001\",\"duplex\"],[\"2006\",\"duplex\"],[\"2011\",\"duplex\"],[\"2016\",\"duplex\"],[\"2001\",\"apartment_five_storeys_less\"],[\"2006\",\"apartment_five_storeys_less\"],[\"2011\",\"apartment_five_storeys_less\"],[\"2016\",\"apartment_five_storeys_less\"],[\"2001\",\"other_house\"],[\"2006\",\"other_house\"],[\"2011\",\"other_house\"],[\"2016\",\"other_house\"]],\"year\":[\"2001\",\"2006\",\"2011\",\"2016\",\"2001\",\"2006\",\"2011\",\"2016\",\"2001\",\"2006\",\"2011\",\"2016\",\"2001\",\"2006\",\"2011\",\"2016\",\"2001\",\"2006\",\"2011\",\"2016\",\"2001\",\"2006\",\"2011\",\"2016\",\"2001\",\"2006\",\"2011\",\"2016\",\"2001\",\"2006\",\"2011\",\"2016\"]},\"selected\":{\"id\":\"3385\"},\"selection_policy\":{\"id\":\"3406\"}},\"id\":\"3384\",\"type\":\"ColumnDataSource\"},{\"attributes\":{},\"id\":\"3359\",\"type\":\"CategoricalScale\"},{\"attributes\":{\"factors\":[\"single_detached_house\",\"apartment_five_storeys_plus\",\"movable_dwelling\",\"semi_detached_house\",\"row_house\",\"duplex\",\"apartment_five_storeys_less\",\"other_house\"],\"palette\":[\"#30a2da\",\"#fc4f30\",\"#e5ae38\",\"#6d904f\",\"#8b8b8b\",\"#17becf\",\"#9467bd\",\"#d62728\"]},\"id\":\"3383\",\"type\":\"CategoricalColorMapper\"},{\"attributes\":{\"bottom_units\":\"screen\",\"fill_alpha\":0.5,\"fill_color\":\"lightgrey\",\"left_units\":\"screen\",\"level\":\"overlay\",\"line_alpha\":1.0,\"line_color\":\"black\",\"line_dash\":[4,4],\"line_width\":2,\"right_units\":\"screen\",\"top_units\":\"screen\"},\"id\":\"3375\",\"type\":\"BoxAnnotation\"},{\"attributes\":{\"below\":[{\"id\":\"3363\"}],\"center\":[{\"id\":\"3365\"},{\"id\":\"3369\"}],\"left\":[{\"id\":\"3366\"}],\"margin\":[5,5,5,5],\"min_border_bottom\":10,\"min_border_left\":10,\"min_border_right\":10,\"min_border_top\":10,\"plot_height\":400,\"plot_width\":700,\"renderers\":[{\"id\":\"3390\"}],\"sizing_mode\":\"fixed\",\"title\":{\"id\":\"3355\"},\"toolbar\":{\"id\":\"3376\"},\"x_range\":{\"id\":\"3351\"},\"x_scale\":{\"id\":\"3359\"},\"y_range\":{\"id\":\"3352\"},\"y_scale\":{\"id\":\"3361\"}},\"id\":\"3354\",\"subtype\":\"Figure\",\"type\":\"Plot\"},{\"attributes\":{},\"id\":\"3370\",\"type\":\"SaveTool\"},{\"attributes\":{\"text\":\"neighbourhood: Agincourt North\",\"text_color\":{\"value\":\"black\"},\"text_font_size\":{\"value\":\"12pt\"}},\"id\":\"3355\",\"type\":\"Title\"},{\"attributes\":{},\"id\":\"3371\",\"type\":\"PanTool\"},{\"attributes\":{},\"id\":\"3393\",\"type\":\"CategoricalTickFormatter\"},{\"attributes\":{},\"id\":\"3374\",\"type\":\"ResetTool\"},{\"attributes\":{\"children\":[{\"id\":\"3350\"},{\"id\":\"3354\"},{\"id\":\"3416\"},{\"id\":\"3417\"}],\"margin\":[0,0,0,0],\"name\":\"Row06603\"},\"id\":\"3349\",\"type\":\"Row\"},{\"attributes\":{},\"id\":\"3372\",\"type\":\"WheelZoomTool\"},{\"attributes\":{},\"id\":\"3406\",\"type\":\"UnionRenderers\"},{\"attributes\":{\"overlay\":{\"id\":\"3375\"}},\"id\":\"3373\",\"type\":\"BoxZoomTool\"}],\"root_ids\":[\"3349\",\"3446\"]},\"title\":\"Bokeh Application\",\"version\":\"2.2.3\"}};\n",
       "    var render_items = [{\"docid\":\"510e12d3-a2d9-4d3d-9264-db9cd25907d8\",\"root_ids\":[\"3349\"],\"roots\":{\"3349\":\"6ddea423-7733-4e10-98b3-849348d00f32\"}}];\n",
       "    root.Bokeh.embed.embed_items_notebook(docs_json, render_items);\n",
       "  }\n",
       "  if (root.Bokeh !== undefined && root.Bokeh.Panel !== undefined && root['Plotly'] !== undefined ) {\n",
       "    embed_document(root);\n",
       "  } else {\n",
       "    var attempts = 0;\n",
       "    var timer = setInterval(function(root) {\n",
       "      if (root.Bokeh !== undefined && root.Bokeh.Panel !== undefined && root['Plotly'] !== undefined) {\n",
       "        clearInterval(timer);\n",
       "        embed_document(root);\n",
       "      } else if (document.readyState == \"complete\") {\n",
       "        attempts++;\n",
       "        if (attempts > 100) {\n",
       "          clearInterval(timer);\n",
       "          console.log(\"Bokeh: ERROR: Unable to run BokehJS code because BokehJS library is missing\");\n",
       "        }\n",
       "      }\n",
       "    }, 10, root)\n",
       "  }\n",
       "})(window);</script>"
      ],
      "text/plain": [
       ":DynamicMap   [neighbourhood]\n",
       "   :Bars   [year,Variable]   (value)"
      ]
     },
     "execution_count": 124,
     "metadata": {
      "application/vnd.holoviews_exec.v0+json": {
       "id": "3349"
      }
     },
     "output_type": "execute_result"
    }
   ],
   "source": [
    "# Use hvplot to create an interactive bar chart of the number of dwelling types per neighbourhood\n",
    "# The plot should have a dropdown selector for the neighbourhood\n",
    "df_dwelling_average.hvplot.bar(\n",
    "    'year',\n",
    "    ['single_detached_house',\n",
    "     'apartment_five_storeys_plus',\n",
    "     'movable_dwelling',\n",
    "     'semi_detached_house',\n",
    "     'row_house',\n",
    "     'duplex',\n",
    "     'apartment_five_storeys_less',\n",
    "     'other_house'],\n",
    "    xlabel = \"Year\", \n",
    "    ylabel = \"\",\n",
    "    groupby='neighbourhood',\n",
    "    height=400,\n",
    "    rot=90\n",
    ")"
   ]
  },
  {
   "cell_type": "markdown",
   "metadata": {},
   "source": [
    "- - - "
   ]
  },
  {
   "cell_type": "markdown",
   "metadata": {},
   "source": [
    "## The Top 10 Most Expensive Neighbourhoods\n",
    "\n",
    "In this section, you will need to calculate the house value for each neighbourhood and then sort the values to obtain the top 10 most expensive neighbourhoods on average. Plot the results as a bar chart."
   ]
  },
  {
   "cell_type": "code",
   "execution_count": 130,
   "metadata": {},
   "outputs": [
    {
     "data": {
      "text/html": [
       "<div>\n",
       "<style scoped>\n",
       "    .dataframe tbody tr th:only-of-type {\n",
       "        vertical-align: middle;\n",
       "    }\n",
       "\n",
       "    .dataframe tbody tr th {\n",
       "        vertical-align: top;\n",
       "    }\n",
       "\n",
       "    .dataframe thead th {\n",
       "        text-align: right;\n",
       "    }\n",
       "</style>\n",
       "<table border=\"1\" class=\"dataframe\">\n",
       "  <thead>\n",
       "    <tr style=\"text-align: right;\">\n",
       "      <th></th>\n",
       "      <th>neighbourhood</th>\n",
       "      <th>single_detached_house</th>\n",
       "      <th>apartment_five_storeys_plus</th>\n",
       "      <th>movable_dwelling</th>\n",
       "      <th>semi_detached_house</th>\n",
       "      <th>row_house</th>\n",
       "      <th>duplex</th>\n",
       "      <th>apartment_five_storeys_less</th>\n",
       "      <th>other_house</th>\n",
       "      <th>average_house_value</th>\n",
       "      <th>shelter_costs_owned</th>\n",
       "      <th>shelter_costs_rented</th>\n",
       "    </tr>\n",
       "  </thead>\n",
       "  <tbody>\n",
       "    <tr>\n",
       "      <th>0</th>\n",
       "      <td>Bridle Path-Sunnybrook-York Mills</td>\n",
       "      <td>2260.00</td>\n",
       "      <td>331.25</td>\n",
       "      <td>0.00</td>\n",
       "      <td>36.25</td>\n",
       "      <td>90.00</td>\n",
       "      <td>25.0</td>\n",
       "      <td>40.00</td>\n",
       "      <td>0.00</td>\n",
       "      <td>1526485.75</td>\n",
       "      <td>2360.75</td>\n",
       "      <td>2321.75</td>\n",
       "    </tr>\n",
       "    <tr>\n",
       "      <th>1</th>\n",
       "      <td>Forest Hill South</td>\n",
       "      <td>1742.50</td>\n",
       "      <td>2031.25</td>\n",
       "      <td>1.25</td>\n",
       "      <td>61.25</td>\n",
       "      <td>45.00</td>\n",
       "      <td>75.0</td>\n",
       "      <td>1027.50</td>\n",
       "      <td>3.75</td>\n",
       "      <td>1195992.50</td>\n",
       "      <td>1781.00</td>\n",
       "      <td>1313.75</td>\n",
       "    </tr>\n",
       "    <tr>\n",
       "      <th>2</th>\n",
       "      <td>Lawrence Park South</td>\n",
       "      <td>3472.50</td>\n",
       "      <td>773.75</td>\n",
       "      <td>0.00</td>\n",
       "      <td>126.25</td>\n",
       "      <td>38.75</td>\n",
       "      <td>225.0</td>\n",
       "      <td>966.25</td>\n",
       "      <td>16.25</td>\n",
       "      <td>1094027.75</td>\n",
       "      <td>1954.00</td>\n",
       "      <td>1372.75</td>\n",
       "    </tr>\n",
       "    <tr>\n",
       "      <th>3</th>\n",
       "      <td>Rosedale-Moore Park</td>\n",
       "      <td>2498.75</td>\n",
       "      <td>4641.25</td>\n",
       "      <td>0.00</td>\n",
       "      <td>486.25</td>\n",
       "      <td>245.00</td>\n",
       "      <td>327.5</td>\n",
       "      <td>1618.75</td>\n",
       "      <td>2.50</td>\n",
       "      <td>1093640.00</td>\n",
       "      <td>1909.75</td>\n",
       "      <td>1537.25</td>\n",
       "    </tr>\n",
       "    <tr>\n",
       "      <th>4</th>\n",
       "      <td>St.Andrew-Windfields</td>\n",
       "      <td>3225.00</td>\n",
       "      <td>1670.00</td>\n",
       "      <td>0.00</td>\n",
       "      <td>185.00</td>\n",
       "      <td>552.50</td>\n",
       "      <td>97.5</td>\n",
       "      <td>586.25</td>\n",
       "      <td>5.00</td>\n",
       "      <td>999107.00</td>\n",
       "      <td>1880.25</td>\n",
       "      <td>1384.50</td>\n",
       "    </tr>\n",
       "    <tr>\n",
       "      <th>5</th>\n",
       "      <td>Casa Loma</td>\n",
       "      <td>916.25</td>\n",
       "      <td>2310.00</td>\n",
       "      <td>0.00</td>\n",
       "      <td>288.75</td>\n",
       "      <td>201.25</td>\n",
       "      <td>162.5</td>\n",
       "      <td>1192.50</td>\n",
       "      <td>2.50</td>\n",
       "      <td>981064.25</td>\n",
       "      <td>1873.75</td>\n",
       "      <td>1547.75</td>\n",
       "    </tr>\n",
       "    <tr>\n",
       "      <th>6</th>\n",
       "      <td>Bedford Park-Nortown</td>\n",
       "      <td>4865.00</td>\n",
       "      <td>1981.25</td>\n",
       "      <td>0.00</td>\n",
       "      <td>43.75</td>\n",
       "      <td>57.50</td>\n",
       "      <td>287.5</td>\n",
       "      <td>1275.00</td>\n",
       "      <td>88.75</td>\n",
       "      <td>930415.25</td>\n",
       "      <td>1786.75</td>\n",
       "      <td>1255.00</td>\n",
       "    </tr>\n",
       "    <tr>\n",
       "      <th>7</th>\n",
       "      <td>Forest Hill North</td>\n",
       "      <td>1488.75</td>\n",
       "      <td>3392.50</td>\n",
       "      <td>0.00</td>\n",
       "      <td>12.50</td>\n",
       "      <td>16.25</td>\n",
       "      <td>82.5</td>\n",
       "      <td>402.50</td>\n",
       "      <td>1.25</td>\n",
       "      <td>851680.50</td>\n",
       "      <td>1722.75</td>\n",
       "      <td>1245.50</td>\n",
       "    </tr>\n",
       "    <tr>\n",
       "      <th>8</th>\n",
       "      <td>Kingsway South</td>\n",
       "      <td>2326.25</td>\n",
       "      <td>576.25</td>\n",
       "      <td>0.00</td>\n",
       "      <td>66.25</td>\n",
       "      <td>48.75</td>\n",
       "      <td>20.0</td>\n",
       "      <td>336.25</td>\n",
       "      <td>2.50</td>\n",
       "      <td>843234.25</td>\n",
       "      <td>1736.75</td>\n",
       "      <td>1622.00</td>\n",
       "    </tr>\n",
       "    <tr>\n",
       "      <th>9</th>\n",
       "      <td>Yonge-St.Clair</td>\n",
       "      <td>565.00</td>\n",
       "      <td>3948.75</td>\n",
       "      <td>0.00</td>\n",
       "      <td>425.00</td>\n",
       "      <td>212.50</td>\n",
       "      <td>172.5</td>\n",
       "      <td>1308.75</td>\n",
       "      <td>6.25</td>\n",
       "      <td>813220.25</td>\n",
       "      <td>1680.75</td>\n",
       "      <td>1369.00</td>\n",
       "    </tr>\n",
       "  </tbody>\n",
       "</table>\n",
       "</div>"
      ],
      "text/plain": [
       "                       neighbourhood  single_detached_house  \\\n",
       "0  Bridle Path-Sunnybrook-York Mills                2260.00   \n",
       "1                  Forest Hill South                1742.50   \n",
       "2                Lawrence Park South                3472.50   \n",
       "3                Rosedale-Moore Park                2498.75   \n",
       "4               St.Andrew-Windfields                3225.00   \n",
       "5                          Casa Loma                 916.25   \n",
       "6               Bedford Park-Nortown                4865.00   \n",
       "7                  Forest Hill North                1488.75   \n",
       "8                     Kingsway South                2326.25   \n",
       "9                     Yonge-St.Clair                 565.00   \n",
       "\n",
       "   apartment_five_storeys_plus  movable_dwelling  semi_detached_house  \\\n",
       "0                       331.25              0.00                36.25   \n",
       "1                      2031.25              1.25                61.25   \n",
       "2                       773.75              0.00               126.25   \n",
       "3                      4641.25              0.00               486.25   \n",
       "4                      1670.00              0.00               185.00   \n",
       "5                      2310.00              0.00               288.75   \n",
       "6                      1981.25              0.00                43.75   \n",
       "7                      3392.50              0.00                12.50   \n",
       "8                       576.25              0.00                66.25   \n",
       "9                      3948.75              0.00               425.00   \n",
       "\n",
       "   row_house  duplex  apartment_five_storeys_less  other_house  \\\n",
       "0      90.00    25.0                        40.00         0.00   \n",
       "1      45.00    75.0                      1027.50         3.75   \n",
       "2      38.75   225.0                       966.25        16.25   \n",
       "3     245.00   327.5                      1618.75         2.50   \n",
       "4     552.50    97.5                       586.25         5.00   \n",
       "5     201.25   162.5                      1192.50         2.50   \n",
       "6      57.50   287.5                      1275.00        88.75   \n",
       "7      16.25    82.5                       402.50         1.25   \n",
       "8      48.75    20.0                       336.25         2.50   \n",
       "9     212.50   172.5                      1308.75         6.25   \n",
       "\n",
       "   average_house_value  shelter_costs_owned  shelter_costs_rented  \n",
       "0           1526485.75              2360.75               2321.75  \n",
       "1           1195992.50              1781.00               1313.75  \n",
       "2           1094027.75              1954.00               1372.75  \n",
       "3           1093640.00              1909.75               1537.25  \n",
       "4            999107.00              1880.25               1384.50  \n",
       "5            981064.25              1873.75               1547.75  \n",
       "6            930415.25              1786.75               1255.00  \n",
       "7            851680.50              1722.75               1245.50  \n",
       "8            843234.25              1736.75               1622.00  \n",
       "9            813220.25              1680.75               1369.00  "
      ]
     },
     "execution_count": 130,
     "metadata": {},
     "output_type": "execute_result"
    }
   ],
   "source": [
    "# Getting the data from the top 10 expensive neighbourhoods\n",
    "top_neighbourhoods = to_data.groupby('neighbourhood').mean()\n",
    "top_neighbourhoods = top_neighbourhoods.sort_values(by='average_house_value',ascending=False).head(10).reset_index()\n",
    "top_neighbourhoods"
   ]
  },
  {
   "cell_type": "code",
   "execution_count": 135,
   "metadata": {},
   "outputs": [
    {
     "data": {},
     "metadata": {},
     "output_type": "display_data"
    },
    {
     "data": {
      "application/vnd.holoviews_exec.v0+json": "",
      "text/html": [
       "<div id='3695'>\n",
       "\n",
       "\n",
       "\n",
       "\n",
       "\n",
       "  <div class=\"bk-root\" id=\"8e02c11a-f80d-4d86-8224-cd94c4bf5282\" data-root-id=\"3695\"></div>\n",
       "</div>\n",
       "<script type=\"application/javascript\">(function(root) {\n",
       "  function embed_document(root) {\n",
       "    var docs_json = {\"97481d0f-7414-4d07-a275-6583b7b9be68\":{\"roots\":{\"references\":[{\"attributes\":{\"active_drag\":\"auto\",\"active_inspect\":\"auto\",\"active_multi\":null,\"active_scroll\":\"auto\",\"active_tap\":\"auto\",\"tools\":[{\"id\":\"3699\"},{\"id\":\"3716\"},{\"id\":\"3717\"},{\"id\":\"3718\"},{\"id\":\"3719\"},{\"id\":\"3720\"}]},\"id\":\"3722\",\"type\":\"Toolbar\"},{\"attributes\":{\"text\":\"Top 10 Expensive Neighbourhoods in Toronto\",\"text_color\":{\"value\":\"black\"},\"text_font_size\":{\"value\":\"12pt\"}},\"id\":\"3701\",\"type\":\"Title\"},{\"attributes\":{},\"id\":\"3716\",\"type\":\"SaveTool\"},{\"attributes\":{\"data_source\":{\"id\":\"3729\"},\"glyph\":{\"id\":\"3732\"},\"hover_glyph\":null,\"muted_glyph\":{\"id\":\"3734\"},\"nonselection_glyph\":{\"id\":\"3733\"},\"selection_glyph\":null,\"view\":{\"id\":\"3736\"}},\"id\":\"3735\",\"type\":\"GlyphRenderer\"},{\"attributes\":{},\"id\":\"3717\",\"type\":\"PanTool\"},{\"attributes\":{\"below\":[{\"id\":\"3709\"}],\"center\":[{\"id\":\"3711\"},{\"id\":\"3715\"}],\"left\":[{\"id\":\"3712\"}],\"margin\":[5,5,5,5],\"min_border_bottom\":10,\"min_border_left\":10,\"min_border_right\":10,\"min_border_top\":10,\"plot_height\":400,\"plot_width\":700,\"renderers\":[{\"id\":\"3735\"}],\"sizing_mode\":\"fixed\",\"title\":{\"id\":\"3701\"},\"toolbar\":{\"id\":\"3722\"},\"x_range\":{\"id\":\"3697\"},\"x_scale\":{\"id\":\"3705\"},\"y_range\":{\"id\":\"3698\"},\"y_scale\":{\"id\":\"3707\"}},\"id\":\"3700\",\"subtype\":\"Figure\",\"type\":\"Plot\"},{\"attributes\":{},\"id\":\"3720\",\"type\":\"ResetTool\"},{\"attributes\":{},\"id\":\"3718\",\"type\":\"WheelZoomTool\"},{\"attributes\":{},\"id\":\"3738\",\"type\":\"CategoricalTickFormatter\"},{\"attributes\":{\"overlay\":{\"id\":\"3721\"}},\"id\":\"3719\",\"type\":\"BoxZoomTool\"},{\"attributes\":{},\"id\":\"3705\",\"type\":\"CategoricalScale\"},{\"attributes\":{\"axis\":{\"id\":\"3709\"},\"grid_line_color\":null,\"ticker\":null},\"id\":\"3711\",\"type\":\"Grid\"},{\"attributes\":{},\"id\":\"3747\",\"type\":\"UnionRenderers\"},{\"attributes\":{},\"id\":\"3710\",\"type\":\"CategoricalTicker\"},{\"attributes\":{},\"id\":\"3707\",\"type\":\"LinearScale\"},{\"attributes\":{\"axis_label\":\"Neighbourhood\",\"bounds\":\"auto\",\"formatter\":{\"id\":\"3738\"},\"major_label_orientation\":1.5707963267948966,\"ticker\":{\"id\":\"3710\"}},\"id\":\"3709\",\"type\":\"CategoricalAxis\"},{\"attributes\":{\"fill_color\":{\"value\":\"#30a2da\"},\"top\":{\"field\":\"average_house_value\"},\"width\":{\"value\":0.8},\"x\":{\"field\":\"neighbourhood\"}},\"id\":\"3732\",\"type\":\"VBar\"},{\"attributes\":{\"axis_label\":\"Average House Value\",\"bounds\":\"auto\",\"formatter\":{\"id\":\"3739\"},\"major_label_orientation\":\"horizontal\",\"ticker\":{\"id\":\"3713\"}},\"id\":\"3712\",\"type\":\"LinearAxis\"},{\"attributes\":{\"end\":1597812.3,\"reset_end\":1597812.3,\"reset_start\":0.0,\"tags\":[[[\"average_house_value\",\"average_house_value\",null]]]},\"id\":\"3698\",\"type\":\"Range1d\"},{\"attributes\":{\"data\":{\"average_house_value\":{\"__ndarray__\":\"AAAAwNVKN0EAAACA2D8yQQAAAMCLsTBBAAAAAAiwMEEAAAAAhn0uQQAAAICQ8C1BAAAAgN5kLEEAAAAAwf0pQQAAAIDEuylBAAAAgEjRKEE=\",\"dtype\":\"float64\",\"order\":\"little\",\"shape\":[10]},\"neighbourhood\":[\"Bridle Path-Sunnybrook-York Mills\",\"Forest Hill South\",\"Lawrence Park South\",\"Rosedale-Moore Park\",\"St.Andrew-Windfields\",\"Casa Loma\",\"Bedford Park-Nortown\",\"Forest Hill North\",\"Kingsway South\",\"Yonge-St.Clair\"]},\"selected\":{\"id\":\"3730\"},\"selection_policy\":{\"id\":\"3747\"}},\"id\":\"3729\",\"type\":\"ColumnDataSource\"},{\"attributes\":{\"children\":[{\"id\":\"3696\"},{\"id\":\"3700\"},{\"id\":\"3757\"}],\"margin\":[0,0,0,0],\"name\":\"Row07478\",\"tags\":[\"embedded\"]},\"id\":\"3695\",\"type\":\"Row\"},{\"attributes\":{},\"id\":\"3713\",\"type\":\"BasicTicker\"},{\"attributes\":{\"axis\":{\"id\":\"3712\"},\"dimension\":1,\"grid_line_color\":null,\"ticker\":null},\"id\":\"3715\",\"type\":\"Grid\"},{\"attributes\":{\"callback\":null,\"renderers\":[{\"id\":\"3735\"}],\"tags\":[\"hv_created\"],\"tooltips\":[[\"neighbourhood\",\"@{neighbourhood}\"],[\"average_house_value\",\"@{average_house_value}\"]]},\"id\":\"3699\",\"type\":\"HoverTool\"},{\"attributes\":{},\"id\":\"3730\",\"type\":\"Selection\"},{\"attributes\":{\"factors\":[\"Bridle Path-Sunnybrook-York Mills\",\"Forest Hill South\",\"Lawrence Park South\",\"Rosedale-Moore Park\",\"St.Andrew-Windfields\",\"Casa Loma\",\"Bedford Park-Nortown\",\"Forest Hill North\",\"Kingsway South\",\"Yonge-St.Clair\"],\"tags\":[[[\"neighbourhood\",\"neighbourhood\",null]]]},\"id\":\"3697\",\"type\":\"FactorRange\"},{\"attributes\":{},\"id\":\"3739\",\"type\":\"BasicTickFormatter\"},{\"attributes\":{\"margin\":[5,5,5,5],\"name\":\"HSpacer07482\",\"sizing_mode\":\"stretch_width\"},\"id\":\"3696\",\"type\":\"Spacer\"},{\"attributes\":{\"fill_alpha\":{\"value\":0.1},\"fill_color\":{\"value\":\"#30a2da\"},\"line_alpha\":{\"value\":0.1},\"top\":{\"field\":\"average_house_value\"},\"width\":{\"value\":0.8},\"x\":{\"field\":\"neighbourhood\"}},\"id\":\"3733\",\"type\":\"VBar\"},{\"attributes\":{\"bottom_units\":\"screen\",\"fill_alpha\":0.5,\"fill_color\":\"lightgrey\",\"left_units\":\"screen\",\"level\":\"overlay\",\"line_alpha\":1.0,\"line_color\":\"black\",\"line_dash\":[4,4],\"line_width\":2,\"right_units\":\"screen\",\"top_units\":\"screen\"},\"id\":\"3721\",\"type\":\"BoxAnnotation\"},{\"attributes\":{\"source\":{\"id\":\"3729\"}},\"id\":\"3736\",\"type\":\"CDSView\"},{\"attributes\":{\"margin\":[5,5,5,5],\"name\":\"HSpacer07483\",\"sizing_mode\":\"stretch_width\"},\"id\":\"3757\",\"type\":\"Spacer\"},{\"attributes\":{\"fill_alpha\":{\"value\":0.2},\"fill_color\":{\"value\":\"#30a2da\"},\"line_alpha\":{\"value\":0.2},\"top\":{\"field\":\"average_house_value\"},\"width\":{\"value\":0.8},\"x\":{\"field\":\"neighbourhood\"}},\"id\":\"3734\",\"type\":\"VBar\"}],\"root_ids\":[\"3695\"]},\"title\":\"Bokeh Application\",\"version\":\"2.2.3\"}};\n",
       "    var render_items = [{\"docid\":\"97481d0f-7414-4d07-a275-6583b7b9be68\",\"root_ids\":[\"3695\"],\"roots\":{\"3695\":\"8e02c11a-f80d-4d86-8224-cd94c4bf5282\"}}];\n",
       "    root.Bokeh.embed.embed_items_notebook(docs_json, render_items);\n",
       "  }\n",
       "  if (root.Bokeh !== undefined && root.Bokeh.Panel !== undefined && root['Plotly'] !== undefined ) {\n",
       "    embed_document(root);\n",
       "  } else {\n",
       "    var attempts = 0;\n",
       "    var timer = setInterval(function(root) {\n",
       "      if (root.Bokeh !== undefined && root.Bokeh.Panel !== undefined && root['Plotly'] !== undefined) {\n",
       "        clearInterval(timer);\n",
       "        embed_document(root);\n",
       "      } else if (document.readyState == \"complete\") {\n",
       "        attempts++;\n",
       "        if (attempts > 100) {\n",
       "          clearInterval(timer);\n",
       "          console.log(\"Bokeh: ERROR: Unable to run BokehJS code because BokehJS library is missing\");\n",
       "        }\n",
       "      }\n",
       "    }, 10, root)\n",
       "  }\n",
       "})(window);</script>"
      ],
      "text/plain": [
       ":Bars   [neighbourhood]   (average_house_value)"
      ]
     },
     "execution_count": 135,
     "metadata": {
      "application/vnd.holoviews_exec.v0+json": {
       "id": "3695"
      }
     },
     "output_type": "execute_result"
    }
   ],
   "source": [
    "# Plotting the data from the top 10 expensive neighbourhoods\n",
    "top_neighbourhoods.hvplot.bar(\n",
    "    'neighbourhood',\n",
    "    'average_house_value',\n",
    "    xlabel = \"Neighbourhood\", \n",
    "    ylabel = \"Average House Value\",\n",
    "    title='Top 10 Expensive Neighbourhoods in Toronto',\n",
    "    height=400,\n",
    "    rot=90,\n",
    ")"
   ]
  },
  {
   "cell_type": "markdown",
   "metadata": {},
   "source": [
    "- - - "
   ]
  },
  {
   "cell_type": "markdown",
   "metadata": {},
   "source": [
    "## Neighbourhood Map\n",
    "\n",
    "In this section, you will read in neighbourhoods location data and build an interactive map with the average house value per neighbourhood. Use a `scatter_mapbox` from Plotly express to create the visualization. Remember, you will need your Mapbox API key for this."
   ]
  },
  {
   "cell_type": "markdown",
   "metadata": {},
   "source": [
    "### Load Location Data"
   ]
  },
  {
   "cell_type": "code",
   "execution_count": 136,
   "metadata": {},
   "outputs": [
    {
     "data": {
      "text/html": [
       "<div>\n",
       "<style scoped>\n",
       "    .dataframe tbody tr th:only-of-type {\n",
       "        vertical-align: middle;\n",
       "    }\n",
       "\n",
       "    .dataframe tbody tr th {\n",
       "        vertical-align: top;\n",
       "    }\n",
       "\n",
       "    .dataframe thead th {\n",
       "        text-align: right;\n",
       "    }\n",
       "</style>\n",
       "<table border=\"1\" class=\"dataframe\">\n",
       "  <thead>\n",
       "    <tr style=\"text-align: right;\">\n",
       "      <th></th>\n",
       "      <th>neighbourhood</th>\n",
       "      <th>lat</th>\n",
       "      <th>lon</th>\n",
       "    </tr>\n",
       "  </thead>\n",
       "  <tbody>\n",
       "    <tr>\n",
       "      <th>0</th>\n",
       "      <td>Agincourt North</td>\n",
       "      <td>43.805441</td>\n",
       "      <td>-79.266712</td>\n",
       "    </tr>\n",
       "    <tr>\n",
       "      <th>1</th>\n",
       "      <td>Agincourt South-Malvern West</td>\n",
       "      <td>43.788658</td>\n",
       "      <td>-79.265612</td>\n",
       "    </tr>\n",
       "    <tr>\n",
       "      <th>2</th>\n",
       "      <td>Alderwood</td>\n",
       "      <td>43.604937</td>\n",
       "      <td>-79.541611</td>\n",
       "    </tr>\n",
       "    <tr>\n",
       "      <th>3</th>\n",
       "      <td>Annex</td>\n",
       "      <td>43.671585</td>\n",
       "      <td>-79.404001</td>\n",
       "    </tr>\n",
       "    <tr>\n",
       "      <th>4</th>\n",
       "      <td>Banbury-Don Mills</td>\n",
       "      <td>43.737657</td>\n",
       "      <td>-79.349718</td>\n",
       "    </tr>\n",
       "  </tbody>\n",
       "</table>\n",
       "</div>"
      ],
      "text/plain": [
       "                  neighbourhood        lat        lon\n",
       "0               Agincourt North  43.805441 -79.266712\n",
       "1  Agincourt South-Malvern West  43.788658 -79.265612\n",
       "2                     Alderwood  43.604937 -79.541611\n",
       "3                         Annex  43.671585 -79.404001\n",
       "4             Banbury-Don Mills  43.737657 -79.349718"
      ]
     },
     "execution_count": 136,
     "metadata": {},
     "output_type": "execute_result"
    }
   ],
   "source": [
    "# Load neighbourhoods coordinates data\n",
    "file_path = Path(\"Data/toronto_neighbourhoods_coordinates.csv\")\n",
    "df_neighbourhood_locations = pd.read_csv(file_path)\n",
    "df_neighbourhood_locations.head()"
   ]
  },
  {
   "cell_type": "markdown",
   "metadata": {},
   "source": [
    "### Data Preparation\n",
    "\n",
    "You will need to join the location data with the mean values per neighbourhood.\n",
    "\n",
    "1. Calculate the mean values for each neighbourhood.\n",
    "\n",
    "2. Join the average values with the neighbourhood locations."
   ]
  },
  {
   "cell_type": "code",
   "execution_count": 139,
   "metadata": {},
   "outputs": [
    {
     "data": {
      "text/html": [
       "<div>\n",
       "<style scoped>\n",
       "    .dataframe tbody tr th:only-of-type {\n",
       "        vertical-align: middle;\n",
       "    }\n",
       "\n",
       "    .dataframe tbody tr th {\n",
       "        vertical-align: top;\n",
       "    }\n",
       "\n",
       "    .dataframe thead th {\n",
       "        text-align: right;\n",
       "    }\n",
       "</style>\n",
       "<table border=\"1\" class=\"dataframe\">\n",
       "  <thead>\n",
       "    <tr style=\"text-align: right;\">\n",
       "      <th></th>\n",
       "      <th>neighbourhood</th>\n",
       "      <th>single_detached_house</th>\n",
       "      <th>apartment_five_storeys_plus</th>\n",
       "      <th>movable_dwelling</th>\n",
       "      <th>semi_detached_house</th>\n",
       "      <th>row_house</th>\n",
       "      <th>duplex</th>\n",
       "      <th>apartment_five_storeys_less</th>\n",
       "      <th>other_house</th>\n",
       "      <th>average_house_value</th>\n",
       "      <th>shelter_costs_owned</th>\n",
       "      <th>shelter_costs_rented</th>\n",
       "    </tr>\n",
       "  </thead>\n",
       "  <tbody>\n",
       "    <tr>\n",
       "      <th>0</th>\n",
       "      <td>Agincourt North</td>\n",
       "      <td>3435.00</td>\n",
       "      <td>1947.50</td>\n",
       "      <td>2.50</td>\n",
       "      <td>863.75</td>\n",
       "      <td>1406.25</td>\n",
       "      <td>512.50</td>\n",
       "      <td>547.50</td>\n",
       "      <td>10.00</td>\n",
       "      <td>329811.5</td>\n",
       "      <td>1109.00</td>\n",
       "      <td>983.50</td>\n",
       "    </tr>\n",
       "    <tr>\n",
       "      <th>1</th>\n",
       "      <td>Agincourt South-Malvern West</td>\n",
       "      <td>2897.50</td>\n",
       "      <td>2180.00</td>\n",
       "      <td>1.25</td>\n",
       "      <td>375.00</td>\n",
       "      <td>456.25</td>\n",
       "      <td>523.75</td>\n",
       "      <td>628.75</td>\n",
       "      <td>32.50</td>\n",
       "      <td>334189.0</td>\n",
       "      <td>1131.25</td>\n",
       "      <td>985.00</td>\n",
       "    </tr>\n",
       "    <tr>\n",
       "      <th>2</th>\n",
       "      <td>Alderwood</td>\n",
       "      <td>2903.75</td>\n",
       "      <td>302.50</td>\n",
       "      <td>1.25</td>\n",
       "      <td>503.75</td>\n",
       "      <td>76.25</td>\n",
       "      <td>302.50</td>\n",
       "      <td>502.50</td>\n",
       "      <td>1.25</td>\n",
       "      <td>427922.5</td>\n",
       "      <td>1166.75</td>\n",
       "      <td>1003.25</td>\n",
       "    </tr>\n",
       "    <tr>\n",
       "      <th>3</th>\n",
       "      <td>Annex</td>\n",
       "      <td>751.25</td>\n",
       "      <td>7235.00</td>\n",
       "      <td>1.25</td>\n",
       "      <td>1375.00</td>\n",
       "      <td>613.75</td>\n",
       "      <td>355.00</td>\n",
       "      <td>4605.00</td>\n",
       "      <td>83.75</td>\n",
       "      <td>746977.0</td>\n",
       "      <td>1692.75</td>\n",
       "      <td>1315.25</td>\n",
       "    </tr>\n",
       "    <tr>\n",
       "      <th>4</th>\n",
       "      <td>Banbury-Don Mills</td>\n",
       "      <td>3572.50</td>\n",
       "      <td>5388.75</td>\n",
       "      <td>1.25</td>\n",
       "      <td>273.75</td>\n",
       "      <td>626.25</td>\n",
       "      <td>32.50</td>\n",
       "      <td>1340.00</td>\n",
       "      <td>0.00</td>\n",
       "      <td>612039.0</td>\n",
       "      <td>1463.50</td>\n",
       "      <td>1242.75</td>\n",
       "    </tr>\n",
       "  </tbody>\n",
       "</table>\n",
       "</div>"
      ],
      "text/plain": [
       "                  neighbourhood  single_detached_house  \\\n",
       "0               Agincourt North                3435.00   \n",
       "1  Agincourt South-Malvern West                2897.50   \n",
       "2                     Alderwood                2903.75   \n",
       "3                         Annex                 751.25   \n",
       "4             Banbury-Don Mills                3572.50   \n",
       "\n",
       "   apartment_five_storeys_plus  movable_dwelling  semi_detached_house  \\\n",
       "0                      1947.50              2.50               863.75   \n",
       "1                      2180.00              1.25               375.00   \n",
       "2                       302.50              1.25               503.75   \n",
       "3                      7235.00              1.25              1375.00   \n",
       "4                      5388.75              1.25               273.75   \n",
       "\n",
       "   row_house  duplex  apartment_five_storeys_less  other_house  \\\n",
       "0    1406.25  512.50                       547.50        10.00   \n",
       "1     456.25  523.75                       628.75        32.50   \n",
       "2      76.25  302.50                       502.50         1.25   \n",
       "3     613.75  355.00                      4605.00        83.75   \n",
       "4     626.25   32.50                      1340.00         0.00   \n",
       "\n",
       "   average_house_value  shelter_costs_owned  shelter_costs_rented  \n",
       "0             329811.5              1109.00                983.50  \n",
       "1             334189.0              1131.25                985.00  \n",
       "2             427922.5              1166.75               1003.25  \n",
       "3             746977.0              1692.75               1315.25  \n",
       "4             612039.0              1463.50               1242.75  "
      ]
     },
     "execution_count": 139,
     "metadata": {},
     "output_type": "execute_result"
    }
   ],
   "source": [
    "# Calculate the mean values for each neighborhood\n",
    "mean_neighbourhoods = to_data.groupby('neighbourhood').mean().reset_index()\n",
    "mean_neighbourhoods.head()"
   ]
  },
  {
   "cell_type": "code",
   "execution_count": 143,
   "metadata": {},
   "outputs": [
    {
     "data": {
      "text/html": [
       "<div>\n",
       "<style scoped>\n",
       "    .dataframe tbody tr th:only-of-type {\n",
       "        vertical-align: middle;\n",
       "    }\n",
       "\n",
       "    .dataframe tbody tr th {\n",
       "        vertical-align: top;\n",
       "    }\n",
       "\n",
       "    .dataframe thead th {\n",
       "        text-align: right;\n",
       "    }\n",
       "</style>\n",
       "<table border=\"1\" class=\"dataframe\">\n",
       "  <thead>\n",
       "    <tr style=\"text-align: right;\">\n",
       "      <th></th>\n",
       "      <th>neighbourhood</th>\n",
       "      <th>lat</th>\n",
       "      <th>lon</th>\n",
       "      <th>single_detached_house</th>\n",
       "      <th>apartment_five_storeys_plus</th>\n",
       "      <th>movable_dwelling</th>\n",
       "      <th>semi_detached_house</th>\n",
       "      <th>row_house</th>\n",
       "      <th>duplex</th>\n",
       "      <th>apartment_five_storeys_less</th>\n",
       "      <th>other_house</th>\n",
       "      <th>average_house_value</th>\n",
       "      <th>shelter_costs_owned</th>\n",
       "      <th>shelter_costs_rented</th>\n",
       "    </tr>\n",
       "  </thead>\n",
       "  <tbody>\n",
       "    <tr>\n",
       "      <th>0</th>\n",
       "      <td>Agincourt North</td>\n",
       "      <td>43.805441</td>\n",
       "      <td>-79.266712</td>\n",
       "      <td>3435.00</td>\n",
       "      <td>1947.50</td>\n",
       "      <td>2.50</td>\n",
       "      <td>863.75</td>\n",
       "      <td>1406.25</td>\n",
       "      <td>512.50</td>\n",
       "      <td>547.50</td>\n",
       "      <td>10.00</td>\n",
       "      <td>329811.5</td>\n",
       "      <td>1109.00</td>\n",
       "      <td>983.50</td>\n",
       "    </tr>\n",
       "    <tr>\n",
       "      <th>1</th>\n",
       "      <td>Agincourt South-Malvern West</td>\n",
       "      <td>43.788658</td>\n",
       "      <td>-79.265612</td>\n",
       "      <td>2897.50</td>\n",
       "      <td>2180.00</td>\n",
       "      <td>1.25</td>\n",
       "      <td>375.00</td>\n",
       "      <td>456.25</td>\n",
       "      <td>523.75</td>\n",
       "      <td>628.75</td>\n",
       "      <td>32.50</td>\n",
       "      <td>334189.0</td>\n",
       "      <td>1131.25</td>\n",
       "      <td>985.00</td>\n",
       "    </tr>\n",
       "    <tr>\n",
       "      <th>2</th>\n",
       "      <td>Alderwood</td>\n",
       "      <td>43.604937</td>\n",
       "      <td>-79.541611</td>\n",
       "      <td>2903.75</td>\n",
       "      <td>302.50</td>\n",
       "      <td>1.25</td>\n",
       "      <td>503.75</td>\n",
       "      <td>76.25</td>\n",
       "      <td>302.50</td>\n",
       "      <td>502.50</td>\n",
       "      <td>1.25</td>\n",
       "      <td>427922.5</td>\n",
       "      <td>1166.75</td>\n",
       "      <td>1003.25</td>\n",
       "    </tr>\n",
       "    <tr>\n",
       "      <th>3</th>\n",
       "      <td>Annex</td>\n",
       "      <td>43.671585</td>\n",
       "      <td>-79.404001</td>\n",
       "      <td>751.25</td>\n",
       "      <td>7235.00</td>\n",
       "      <td>1.25</td>\n",
       "      <td>1375.00</td>\n",
       "      <td>613.75</td>\n",
       "      <td>355.00</td>\n",
       "      <td>4605.00</td>\n",
       "      <td>83.75</td>\n",
       "      <td>746977.0</td>\n",
       "      <td>1692.75</td>\n",
       "      <td>1315.25</td>\n",
       "    </tr>\n",
       "    <tr>\n",
       "      <th>4</th>\n",
       "      <td>Banbury-Don Mills</td>\n",
       "      <td>43.737657</td>\n",
       "      <td>-79.349718</td>\n",
       "      <td>3572.50</td>\n",
       "      <td>5388.75</td>\n",
       "      <td>1.25</td>\n",
       "      <td>273.75</td>\n",
       "      <td>626.25</td>\n",
       "      <td>32.50</td>\n",
       "      <td>1340.00</td>\n",
       "      <td>0.00</td>\n",
       "      <td>612039.0</td>\n",
       "      <td>1463.50</td>\n",
       "      <td>1242.75</td>\n",
       "    </tr>\n",
       "  </tbody>\n",
       "</table>\n",
       "</div>"
      ],
      "text/plain": [
       "                  neighbourhood        lat        lon  single_detached_house  \\\n",
       "0               Agincourt North  43.805441 -79.266712                3435.00   \n",
       "1  Agincourt South-Malvern West  43.788658 -79.265612                2897.50   \n",
       "2                     Alderwood  43.604937 -79.541611                2903.75   \n",
       "3                         Annex  43.671585 -79.404001                 751.25   \n",
       "4             Banbury-Don Mills  43.737657 -79.349718                3572.50   \n",
       "\n",
       "   apartment_five_storeys_plus  movable_dwelling  semi_detached_house  \\\n",
       "0                      1947.50              2.50               863.75   \n",
       "1                      2180.00              1.25               375.00   \n",
       "2                       302.50              1.25               503.75   \n",
       "3                      7235.00              1.25              1375.00   \n",
       "4                      5388.75              1.25               273.75   \n",
       "\n",
       "   row_house  duplex  apartment_five_storeys_less  other_house  \\\n",
       "0    1406.25  512.50                       547.50        10.00   \n",
       "1     456.25  523.75                       628.75        32.50   \n",
       "2      76.25  302.50                       502.50         1.25   \n",
       "3     613.75  355.00                      4605.00        83.75   \n",
       "4     626.25   32.50                      1340.00         0.00   \n",
       "\n",
       "   average_house_value  shelter_costs_owned  shelter_costs_rented  \n",
       "0             329811.5              1109.00                983.50  \n",
       "1             334189.0              1131.25                985.00  \n",
       "2             427922.5              1166.75               1003.25  \n",
       "3             746977.0              1692.75               1315.25  \n",
       "4             612039.0              1463.50               1242.75  "
      ]
     },
     "execution_count": 143,
     "metadata": {},
     "output_type": "execute_result"
    }
   ],
   "source": [
    "# Join the average values with the neighbourhood locations\n",
    "df_all_neighbourhoods = pd.merge(\n",
    "    df_neighbourhood_locations,\n",
    "    mean_neighbourhoods,\n",
    "    on='neighbourhood',\n",
    "    how='inner')\n",
    "df_all_neighbourhoods.head()"
   ]
  },
  {
   "cell_type": "markdown",
   "metadata": {},
   "source": [
    "### Mapbox Visualization\n",
    "\n",
    "Plot the average values per neighbourhood using a Plotly express `scatter_mapbox` visualization."
   ]
  },
  {
   "cell_type": "code",
   "execution_count": 157,
   "metadata": {},
   "outputs": [
    {
     "data": {
      "application/vnd.plotly.v1+json": {
       "config": {
        "plotlyServerURL": "https://plot.ly"
       },
       "data": [
        {
         "hovertemplate": "average_house_value=%{marker.color}<br>lat=%{lat}<br>lon=%{lon}<extra></extra>",
         "lat": [
          43.80544058,
          43.78865755,
          43.6049369,
          43.67158544,
          43.737657,
          43.76481331,
          43.65751135,
          43.77636052,
          43.79680187,
          43.73148623,
          43.69321649,
          43.76036631,
          43.69468198,
          43.76489025,
          43.67617288,
          43.69902438,
          43.73101314,
          43.68882512,
          43.70132631,
          43.66764773,
          43.68856865,
          43.6818521,
          43.7823765,
          43.65964886,
          43.71359238,
          43.74197843,
          43.72112117,
          43.67766091,
          43.68402547,
          43.68946809,
          43.78329369,
          43.75927437,
          43.66567693,
          43.73329235,
          43.65542833,
          43.68417388,
          43.67088591,
          43.7409223,
          43.72151887,
          43.72034467,
          43.65801676,
          43.64506262,
          43.71592975,
          43.70421756,
          43.69452576,
          43.74563575,
          43.67261231,
          43.74882934,
          43.77114414,
          43.65756491,
          43.64506458,
          43.79077477,
          43.80298783,
          43.6922328,
          43.75891975,
          43.74342952,
          43.69136981,
          43.73536441,
          43.63346335,
          43.66788977,
          43.68572747,
          43.72555572,
          43.65355413,
          43.69899257,
          43.65352043,
          43.79571603,
          43.65742013,
          43.75427115,
          43.73006017,
          43.7172117,
          43.70379663,
          43.64753593,
          43.59236169,
          43.80365820000001,
          43.71557394,
          43.63354175,
          43.82069079,
          43.61592386,
          43.78239861,
          43.65651762,
          43.68814409,
          43.7468678,
          43.70485217,
          43.70443517,
          43.6005886,
          43.79153579,
          43.78582994,
          43.63668088,
          43.67199515,
          43.66962341,
          43.70680049,
          43.69740813,
          43.68856556,
          43.69678127,
          43.6591571,
          43.75503347,
          43.7175146,
          43.67970047,
          43.78698176,
          43.6660506,
          43.65999214,
          43.72372548,
          43.67479045,
          43.64612299,
          43.68282043,
          43.82120126,
          43.65926882,
          43.71160912,
          43.73865186,
          43.63669952,
          43.64929206,
          43.75624583,
          43.81295883,
          43.63551813,
          43.78012985,
          43.69499819,
          43.67104999,
          43.73798792,
          43.70774921,
          43.6501763,
          43.6625062,
          43.72848902,
          43.63388036,
          43.76749026,
          43.7161804,
          43.77881322,
          43.70271605,
          43.67396204,
          43.74857214,
          43.77060226,
          43.77121049,
          43.68364496,
          43.76674024,
          43.67677292,
          43.69410674,
          43.67691927,
          43.70468937,
          43.68785887,
          43.76573649,
          43.71467153
         ],
         "legendgroup": "",
         "lon": [
          -79.26671217,
          -79.2656118,
          -79.54161093,
          -79.40400062,
          -79.34971798,
          -79.45605516,
          -79.38572125,
          -79.37711686,
          -79.38211795,
          -79.42022735,
          -79.47947251,
          -79.25740037,
          -79.26509259,
          -79.52197932,
          -79.33739417,
          -79.45285129999999,
          -79.37890418,
          -79.35562951,
          -79.48558926,
          -79.36610666,
          -79.45521208,
          -79.40800665,
          -79.15084327,
          -79.37901717,
          -79.28138178,
          -79.44630258,
          -79.23552957,
          -79.44746933,
          -79.32981941,
          -79.33140338,
          -79.35364413,
          -79.27890794,
          -79.4385407,
          -79.49049735,
          -79.43734104,
          -79.29935867,
          -79.52245776,
          -79.24559804,
          -79.54898272,
          -79.43740855,
          -79.58044524,
          -79.56893877,
          -79.33264597,
          -79.42814316,
          -79.41431786,
          -79.51346532,
          -79.32431802,
          -79.19505535,
          -79.34124067,
          -79.46630217,
          -79.46787222,
          -79.17747247,
          -79.354804,
          -79.5224162,
          -79.55617474,
          -79.54236712,
          -79.42768335,
          -79.27247049,
          -79.54331654,
          -79.47143987,
          -79.47143711,
          -79.26038221,
          -79.39723988,
          -79.54786331,
          -79.5105768,
          -79.31408424,
          -79.49604526,
          -79.42474772,
          -79.40397836,
          -79.40603941,
          -79.36607234,
          -79.43032271,
          -79.53334545,
          -79.22251662,
          -79.48075802,
          -79.57343155,
          -79.27500892,
          -79.50013664,
          -79.20704119,
          -79.36729703,
          -79.49998906,
          -79.58725926,
          -79.38492395,
          -79.39335955,
          -79.51035809,
          -79.40593745,
          -79.43142151,
          -79.4124204,
          -79.35126041,
          -79.37524658,
          -79.31222777,
          -79.27970834,
          -79.43978548,
          -79.33548836,
          -79.41840873,
          -79.33017952,
          -79.5282822,
          -79.35488729,
          -79.33494843,
          -79.54455929,
          -79.36050881,
          -79.56622841,
          -79.49442045,
          -79.44299245,
          -79.3796694,
          -79.18634345,
          -79.48570818,
          -79.49809147,
          -79.21681262,
          -79.43933783,
          -79.33565132,
          -79.37903709,
          -79.32120701,
          -79.50112821,
          -79.30291871,
          -79.29590112,
          -79.29960129999999,
          -79.56349102,
          -79.34998361,
          -79.41534216,
          -79.40117975,
          -79.31487383,
          -79.37720231,
          -79.17667603,
          -79.59635645,
          -79.45241823,
          -79.51572255,
          -79.46024391,
          -79.29863657,
          -79.40148379,
          -79.4275578,
          -79.55422105,
          -79.22858577,
          -79.31540738,
          -79.31116353,
          -79.42551495,
          -79.40359017,
          -79.39787077,
          -79.48888293,
          -79.45710807
         ],
         "marker": {
          "color": [
           329811.5,
           334189,
           427922.5,
           746977,
           612039,
           501576.75,
           423653.5,
           539258.75,
           565413.5,
           930415.25,
           370927.75,
           301123.25,
           437315,
           260841.75,
           511437,
           365524.5,
           1526485.75,
           443373.25,
           350943,
           494110.5,
           361714.25,
           981064.25,
           409862.75,
           406117.5,
           354555.25,
           551561.25,
           417422,
           419930.5,
           466943,
           421679.25,
           398010.25,
           262000.25,
           434699.5,
           381415.5,
           457588.75,
           478054.25,
           796162.5,
           268966.5,
           268341.25,
           568936.75,
           397781.75,
           309412,
           207799,
           851680.5,
           1195992.5,
           327597.75,
           387055.5,
           369373.5,
           369958,
           532497,
           582977.75,
           428838.5,
           395023,
           449150.5,
           352082.5,
           319783.75,
           697085.5,
           287685.75,
           451685.25,
           433269.25,
           322774.75,
           287233.5,
           440485.75,
           338344.75,
           843234.25,
           650307.75,
           336617.75,
           613216.5,
           759392.5,
           1094027.75,
           806471.75,
           540192.5,
           385830.25,
           256880.25,
           453229,
           443974.75,
           344988.25,
           393490.5,
           285013.5,
           409456,
           262308.75,
           253182.25,
           677370.25,
           468181.75,
           407812,
           559573.25,
           460568.5,
           369993,
           703063.25,
           411455.75,
           298315.75,
           422257.5,
           441202.75,
           443413.5,
           622191.75,
           454652.5,
           405431.25,
           648859.25,
           373375.25,
           765746.5,
           392578.25,
           360999.25,
           345660.25,
           508937.25,
           1093640,
           376286.75,
           552082,
           431090.5,
           329835.75,
           447478.5,
           455020.5,
           999107,
           376014.5,
           550432.25,
           353926.5,
           239414,
           666306,
           375864,
           255264.75,
           534465.75,
           618316.75,
           352133,
           376863,
           284647.5,
           343254.25,
           349320.25,
           308007.75,
           351802,
           348319.25,
           469045.5,
           466134.75,
           464278,
           298505.75,
           445382.75,
           369918.5,
           565976.5,
           809745.75,
           813220.25,
           305899.5,
           430861.25
          ],
          "coloraxis": "coloraxis",
          "size": [
           329811.5,
           334189,
           427922.5,
           746977,
           612039,
           501576.75,
           423653.5,
           539258.75,
           565413.5,
           930415.25,
           370927.75,
           301123.25,
           437315,
           260841.75,
           511437,
           365524.5,
           1526485.75,
           443373.25,
           350943,
           494110.5,
           361714.25,
           981064.25,
           409862.75,
           406117.5,
           354555.25,
           551561.25,
           417422,
           419930.5,
           466943,
           421679.25,
           398010.25,
           262000.25,
           434699.5,
           381415.5,
           457588.75,
           478054.25,
           796162.5,
           268966.5,
           268341.25,
           568936.75,
           397781.75,
           309412,
           207799,
           851680.5,
           1195992.5,
           327597.75,
           387055.5,
           369373.5,
           369958,
           532497,
           582977.75,
           428838.5,
           395023,
           449150.5,
           352082.5,
           319783.75,
           697085.5,
           287685.75,
           451685.25,
           433269.25,
           322774.75,
           287233.5,
           440485.75,
           338344.75,
           843234.25,
           650307.75,
           336617.75,
           613216.5,
           759392.5,
           1094027.75,
           806471.75,
           540192.5,
           385830.25,
           256880.25,
           453229,
           443974.75,
           344988.25,
           393490.5,
           285013.5,
           409456,
           262308.75,
           253182.25,
           677370.25,
           468181.75,
           407812,
           559573.25,
           460568.5,
           369993,
           703063.25,
           411455.75,
           298315.75,
           422257.5,
           441202.75,
           443413.5,
           622191.75,
           454652.5,
           405431.25,
           648859.25,
           373375.25,
           765746.5,
           392578.25,
           360999.25,
           345660.25,
           508937.25,
           1093640,
           376286.75,
           552082,
           431090.5,
           329835.75,
           447478.5,
           455020.5,
           999107,
           376014.5,
           550432.25,
           353926.5,
           239414,
           666306,
           375864,
           255264.75,
           534465.75,
           618316.75,
           352133,
           376863,
           284647.5,
           343254.25,
           349320.25,
           308007.75,
           351802,
           348319.25,
           469045.5,
           466134.75,
           464278,
           298505.75,
           445382.75,
           369918.5,
           565976.5,
           809745.75,
           813220.25,
           305899.5,
           430861.25
          ],
          "sizemode": "area",
          "sizeref": 6784.381111111111
         },
         "mode": "markers",
         "name": "",
         "showlegend": false,
         "subplot": "mapbox",
         "type": "scattermapbox"
        }
       ],
       "layout": {
        "autosize": true,
        "coloraxis": {
         "colorbar": {
          "title": {
           "text": "average_house_value"
          }
         },
         "colorscale": [
          [
           0,
           "#0d0887"
          ],
          [
           0.1111111111111111,
           "#46039f"
          ],
          [
           0.2222222222222222,
           "#7201a8"
          ],
          [
           0.3333333333333333,
           "#9c179e"
          ],
          [
           0.4444444444444444,
           "#bd3786"
          ],
          [
           0.5555555555555556,
           "#d8576b"
          ],
          [
           0.6666666666666666,
           "#ed7953"
          ],
          [
           0.7777777777777778,
           "#fb9f3a"
          ],
          [
           0.8888888888888888,
           "#fdca26"
          ],
          [
           1,
           "#f0f921"
          ]
         ]
        },
        "legend": {
         "itemsizing": "constant",
         "tracegroupgap": 0
        },
        "mapbox": {
         "accesstoken": "pk.eyJ1IjoiZGF2ZWR3YXJha2FuIiwiYSI6ImNrbWtsNHliMTBmbmEzMXBsMWFrYTJzdTQifQ.0tM_uOgzyiWrzED66AJe8w",
         "bearing": 0,
         "center": {
          "lat": 43.28516297802929,
          "lon": -75.60731683588352
         },
         "domain": {
          "x": [
           0,
           1
          ],
          "y": [
           0,
           1
          ]
         },
         "pitch": 0,
         "zoom": 5.017323748094493
        },
        "template": {
         "data": {
          "bar": [
           {
            "error_x": {
             "color": "#2a3f5f"
            },
            "error_y": {
             "color": "#2a3f5f"
            },
            "marker": {
             "line": {
              "color": "#E5ECF6",
              "width": 0.5
             }
            },
            "type": "bar"
           }
          ],
          "barpolar": [
           {
            "marker": {
             "line": {
              "color": "#E5ECF6",
              "width": 0.5
             }
            },
            "type": "barpolar"
           }
          ],
          "carpet": [
           {
            "aaxis": {
             "endlinecolor": "#2a3f5f",
             "gridcolor": "white",
             "linecolor": "white",
             "minorgridcolor": "white",
             "startlinecolor": "#2a3f5f"
            },
            "baxis": {
             "endlinecolor": "#2a3f5f",
             "gridcolor": "white",
             "linecolor": "white",
             "minorgridcolor": "white",
             "startlinecolor": "#2a3f5f"
            },
            "type": "carpet"
           }
          ],
          "choropleth": [
           {
            "colorbar": {
             "outlinewidth": 0,
             "ticks": ""
            },
            "type": "choropleth"
           }
          ],
          "contour": [
           {
            "colorbar": {
             "outlinewidth": 0,
             "ticks": ""
            },
            "colorscale": [
             [
              0,
              "#0d0887"
             ],
             [
              0.1111111111111111,
              "#46039f"
             ],
             [
              0.2222222222222222,
              "#7201a8"
             ],
             [
              0.3333333333333333,
              "#9c179e"
             ],
             [
              0.4444444444444444,
              "#bd3786"
             ],
             [
              0.5555555555555556,
              "#d8576b"
             ],
             [
              0.6666666666666666,
              "#ed7953"
             ],
             [
              0.7777777777777778,
              "#fb9f3a"
             ],
             [
              0.8888888888888888,
              "#fdca26"
             ],
             [
              1,
              "#f0f921"
             ]
            ],
            "type": "contour"
           }
          ],
          "contourcarpet": [
           {
            "colorbar": {
             "outlinewidth": 0,
             "ticks": ""
            },
            "type": "contourcarpet"
           }
          ],
          "heatmap": [
           {
            "colorbar": {
             "outlinewidth": 0,
             "ticks": ""
            },
            "colorscale": [
             [
              0,
              "#0d0887"
             ],
             [
              0.1111111111111111,
              "#46039f"
             ],
             [
              0.2222222222222222,
              "#7201a8"
             ],
             [
              0.3333333333333333,
              "#9c179e"
             ],
             [
              0.4444444444444444,
              "#bd3786"
             ],
             [
              0.5555555555555556,
              "#d8576b"
             ],
             [
              0.6666666666666666,
              "#ed7953"
             ],
             [
              0.7777777777777778,
              "#fb9f3a"
             ],
             [
              0.8888888888888888,
              "#fdca26"
             ],
             [
              1,
              "#f0f921"
             ]
            ],
            "type": "heatmap"
           }
          ],
          "heatmapgl": [
           {
            "colorbar": {
             "outlinewidth": 0,
             "ticks": ""
            },
            "colorscale": [
             [
              0,
              "#0d0887"
             ],
             [
              0.1111111111111111,
              "#46039f"
             ],
             [
              0.2222222222222222,
              "#7201a8"
             ],
             [
              0.3333333333333333,
              "#9c179e"
             ],
             [
              0.4444444444444444,
              "#bd3786"
             ],
             [
              0.5555555555555556,
              "#d8576b"
             ],
             [
              0.6666666666666666,
              "#ed7953"
             ],
             [
              0.7777777777777778,
              "#fb9f3a"
             ],
             [
              0.8888888888888888,
              "#fdca26"
             ],
             [
              1,
              "#f0f921"
             ]
            ],
            "type": "heatmapgl"
           }
          ],
          "histogram": [
           {
            "marker": {
             "colorbar": {
              "outlinewidth": 0,
              "ticks": ""
             }
            },
            "type": "histogram"
           }
          ],
          "histogram2d": [
           {
            "colorbar": {
             "outlinewidth": 0,
             "ticks": ""
            },
            "colorscale": [
             [
              0,
              "#0d0887"
             ],
             [
              0.1111111111111111,
              "#46039f"
             ],
             [
              0.2222222222222222,
              "#7201a8"
             ],
             [
              0.3333333333333333,
              "#9c179e"
             ],
             [
              0.4444444444444444,
              "#bd3786"
             ],
             [
              0.5555555555555556,
              "#d8576b"
             ],
             [
              0.6666666666666666,
              "#ed7953"
             ],
             [
              0.7777777777777778,
              "#fb9f3a"
             ],
             [
              0.8888888888888888,
              "#fdca26"
             ],
             [
              1,
              "#f0f921"
             ]
            ],
            "type": "histogram2d"
           }
          ],
          "histogram2dcontour": [
           {
            "colorbar": {
             "outlinewidth": 0,
             "ticks": ""
            },
            "colorscale": [
             [
              0,
              "#0d0887"
             ],
             [
              0.1111111111111111,
              "#46039f"
             ],
             [
              0.2222222222222222,
              "#7201a8"
             ],
             [
              0.3333333333333333,
              "#9c179e"
             ],
             [
              0.4444444444444444,
              "#bd3786"
             ],
             [
              0.5555555555555556,
              "#d8576b"
             ],
             [
              0.6666666666666666,
              "#ed7953"
             ],
             [
              0.7777777777777778,
              "#fb9f3a"
             ],
             [
              0.8888888888888888,
              "#fdca26"
             ],
             [
              1,
              "#f0f921"
             ]
            ],
            "type": "histogram2dcontour"
           }
          ],
          "mesh3d": [
           {
            "colorbar": {
             "outlinewidth": 0,
             "ticks": ""
            },
            "type": "mesh3d"
           }
          ],
          "parcoords": [
           {
            "line": {
             "colorbar": {
              "outlinewidth": 0,
              "ticks": ""
             }
            },
            "type": "parcoords"
           }
          ],
          "pie": [
           {
            "automargin": true,
            "type": "pie"
           }
          ],
          "scatter": [
           {
            "marker": {
             "colorbar": {
              "outlinewidth": 0,
              "ticks": ""
             }
            },
            "type": "scatter"
           }
          ],
          "scatter3d": [
           {
            "line": {
             "colorbar": {
              "outlinewidth": 0,
              "ticks": ""
             }
            },
            "marker": {
             "colorbar": {
              "outlinewidth": 0,
              "ticks": ""
             }
            },
            "type": "scatter3d"
           }
          ],
          "scattercarpet": [
           {
            "marker": {
             "colorbar": {
              "outlinewidth": 0,
              "ticks": ""
             }
            },
            "type": "scattercarpet"
           }
          ],
          "scattergeo": [
           {
            "marker": {
             "colorbar": {
              "outlinewidth": 0,
              "ticks": ""
             }
            },
            "type": "scattergeo"
           }
          ],
          "scattergl": [
           {
            "marker": {
             "colorbar": {
              "outlinewidth": 0,
              "ticks": ""
             }
            },
            "type": "scattergl"
           }
          ],
          "scattermapbox": [
           {
            "marker": {
             "colorbar": {
              "outlinewidth": 0,
              "ticks": ""
             }
            },
            "type": "scattermapbox"
           }
          ],
          "scatterpolar": [
           {
            "marker": {
             "colorbar": {
              "outlinewidth": 0,
              "ticks": ""
             }
            },
            "type": "scatterpolar"
           }
          ],
          "scatterpolargl": [
           {
            "marker": {
             "colorbar": {
              "outlinewidth": 0,
              "ticks": ""
             }
            },
            "type": "scatterpolargl"
           }
          ],
          "scatterternary": [
           {
            "marker": {
             "colorbar": {
              "outlinewidth": 0,
              "ticks": ""
             }
            },
            "type": "scatterternary"
           }
          ],
          "surface": [
           {
            "colorbar": {
             "outlinewidth": 0,
             "ticks": ""
            },
            "colorscale": [
             [
              0,
              "#0d0887"
             ],
             [
              0.1111111111111111,
              "#46039f"
             ],
             [
              0.2222222222222222,
              "#7201a8"
             ],
             [
              0.3333333333333333,
              "#9c179e"
             ],
             [
              0.4444444444444444,
              "#bd3786"
             ],
             [
              0.5555555555555556,
              "#d8576b"
             ],
             [
              0.6666666666666666,
              "#ed7953"
             ],
             [
              0.7777777777777778,
              "#fb9f3a"
             ],
             [
              0.8888888888888888,
              "#fdca26"
             ],
             [
              1,
              "#f0f921"
             ]
            ],
            "type": "surface"
           }
          ],
          "table": [
           {
            "cells": {
             "fill": {
              "color": "#EBF0F8"
             },
             "line": {
              "color": "white"
             }
            },
            "header": {
             "fill": {
              "color": "#C8D4E3"
             },
             "line": {
              "color": "white"
             }
            },
            "type": "table"
           }
          ]
         },
         "layout": {
          "annotationdefaults": {
           "arrowcolor": "#2a3f5f",
           "arrowhead": 0,
           "arrowwidth": 1
          },
          "autotypenumbers": "strict",
          "coloraxis": {
           "colorbar": {
            "outlinewidth": 0,
            "ticks": ""
           }
          },
          "colorscale": {
           "diverging": [
            [
             0,
             "#8e0152"
            ],
            [
             0.1,
             "#c51b7d"
            ],
            [
             0.2,
             "#de77ae"
            ],
            [
             0.3,
             "#f1b6da"
            ],
            [
             0.4,
             "#fde0ef"
            ],
            [
             0.5,
             "#f7f7f7"
            ],
            [
             0.6,
             "#e6f5d0"
            ],
            [
             0.7,
             "#b8e186"
            ],
            [
             0.8,
             "#7fbc41"
            ],
            [
             0.9,
             "#4d9221"
            ],
            [
             1,
             "#276419"
            ]
           ],
           "sequential": [
            [
             0,
             "#0d0887"
            ],
            [
             0.1111111111111111,
             "#46039f"
            ],
            [
             0.2222222222222222,
             "#7201a8"
            ],
            [
             0.3333333333333333,
             "#9c179e"
            ],
            [
             0.4444444444444444,
             "#bd3786"
            ],
            [
             0.5555555555555556,
             "#d8576b"
            ],
            [
             0.6666666666666666,
             "#ed7953"
            ],
            [
             0.7777777777777778,
             "#fb9f3a"
            ],
            [
             0.8888888888888888,
             "#fdca26"
            ],
            [
             1,
             "#f0f921"
            ]
           ],
           "sequentialminus": [
            [
             0,
             "#0d0887"
            ],
            [
             0.1111111111111111,
             "#46039f"
            ],
            [
             0.2222222222222222,
             "#7201a8"
            ],
            [
             0.3333333333333333,
             "#9c179e"
            ],
            [
             0.4444444444444444,
             "#bd3786"
            ],
            [
             0.5555555555555556,
             "#d8576b"
            ],
            [
             0.6666666666666666,
             "#ed7953"
            ],
            [
             0.7777777777777778,
             "#fb9f3a"
            ],
            [
             0.8888888888888888,
             "#fdca26"
            ],
            [
             1,
             "#f0f921"
            ]
           ]
          },
          "colorway": [
           "#636efa",
           "#EF553B",
           "#00cc96",
           "#ab63fa",
           "#FFA15A",
           "#19d3f3",
           "#FF6692",
           "#B6E880",
           "#FF97FF",
           "#FECB52"
          ],
          "font": {
           "color": "#2a3f5f"
          },
          "geo": {
           "bgcolor": "white",
           "lakecolor": "white",
           "landcolor": "#E5ECF6",
           "showlakes": true,
           "showland": true,
           "subunitcolor": "white"
          },
          "hoverlabel": {
           "align": "left"
          },
          "hovermode": "closest",
          "mapbox": {
           "style": "light"
          },
          "paper_bgcolor": "white",
          "plot_bgcolor": "#E5ECF6",
          "polar": {
           "angularaxis": {
            "gridcolor": "white",
            "linecolor": "white",
            "ticks": ""
           },
           "bgcolor": "#E5ECF6",
           "radialaxis": {
            "gridcolor": "white",
            "linecolor": "white",
            "ticks": ""
           }
          },
          "scene": {
           "xaxis": {
            "backgroundcolor": "#E5ECF6",
            "gridcolor": "white",
            "gridwidth": 2,
            "linecolor": "white",
            "showbackground": true,
            "ticks": "",
            "zerolinecolor": "white"
           },
           "yaxis": {
            "backgroundcolor": "#E5ECF6",
            "gridcolor": "white",
            "gridwidth": 2,
            "linecolor": "white",
            "showbackground": true,
            "ticks": "",
            "zerolinecolor": "white"
           },
           "zaxis": {
            "backgroundcolor": "#E5ECF6",
            "gridcolor": "white",
            "gridwidth": 2,
            "linecolor": "white",
            "showbackground": true,
            "ticks": "",
            "zerolinecolor": "white"
           }
          },
          "shapedefaults": {
           "line": {
            "color": "#2a3f5f"
           }
          },
          "ternary": {
           "aaxis": {
            "gridcolor": "white",
            "linecolor": "white",
            "ticks": ""
           },
           "baxis": {
            "gridcolor": "white",
            "linecolor": "white",
            "ticks": ""
           },
           "bgcolor": "#E5ECF6",
           "caxis": {
            "gridcolor": "white",
            "linecolor": "white",
            "ticks": ""
           }
          },
          "title": {
           "x": 0.05
          },
          "xaxis": {
           "automargin": true,
           "gridcolor": "white",
           "linecolor": "white",
           "ticks": "",
           "title": {
            "standoff": 15
           },
           "zerolinecolor": "white",
           "zerolinewidth": 2
          },
          "yaxis": {
           "automargin": true,
           "gridcolor": "white",
           "linecolor": "white",
           "ticks": "",
           "title": {
            "standoff": 15
           },
           "zerolinecolor": "white",
           "zerolinewidth": 2
          }
         }
        },
        "title": {
         "text": "Average House Value in Toronto"
        }
       }
      },
      "image/png": "[encoded data removed]",
      "text/html": [
       "<div>                            <div id=\"293e07af-fd48-473f-8cf9-02bbf64b267d\" class=\"plotly-graph-div\" style=\"height:525px; width:100%;\"></div>            <script type=\"text/javascript\">                require([\"plotly\"], function(Plotly) {                    window.PLOTLYENV=window.PLOTLYENV || {};                                    if (document.getElementById(\"293e07af-fd48-473f-8cf9-02bbf64b267d\")) {                    Plotly.newPlot(                        \"293e07af-fd48-473f-8cf9-02bbf64b267d\",                        [{\"hovertemplate\": \"average_house_value=%{marker.color}<br>lat=%{lat}<br>lon=%{lon}<extra></extra>\", \"lat\": [43.80544058, 43.78865755, 43.6049369, 43.67158544, 43.737657, 43.76481331, 43.65751135, 43.77636052, 43.79680187, 43.73148623, 43.69321649, 43.76036631, 43.69468198, 43.76489025, 43.67617288, 43.69902438, 43.73101314, 43.68882512, 43.70132631, 43.66764773, 43.68856865, 43.6818521, 43.7823765, 43.65964886, 43.71359238, 43.74197843, 43.72112117, 43.67766091, 43.68402547, 43.68946809, 43.78329369, 43.75927437, 43.66567693, 43.73329235, 43.65542833, 43.68417388, 43.67088591, 43.7409223, 43.72151887, 43.72034467, 43.65801676, 43.64506262, 43.71592975, 43.70421756, 43.69452576, 43.74563575, 43.67261231, 43.74882934, 43.77114414, 43.65756491, 43.64506458, 43.79077477, 43.80298783, 43.6922328, 43.75891975, 43.74342952, 43.69136981, 43.73536441, 43.63346335, 43.66788977, 43.68572747, 43.72555572, 43.65355413, 43.69899257, 43.65352043, 43.79571603, 43.65742013, 43.75427115, 43.73006017, 43.7172117, 43.70379663, 43.64753593, 43.59236169, 43.80365820000001, 43.71557394, 43.63354175, 43.82069079, 43.61592386, 43.78239861, 43.65651762, 43.68814409, 43.7468678, 43.70485217, 43.70443517, 43.6005886, 43.79153579, 43.78582994, 43.63668088, 43.67199515, 43.66962341, 43.70680049, 43.69740813, 43.68856556, 43.69678127, 43.6591571, 43.75503347, 43.7175146, 43.67970047, 43.78698176, 43.6660506, 43.65999214, 43.72372548, 43.67479045, 43.64612299, 43.68282043, 43.82120126, 43.65926882, 43.71160912, 43.73865186, 43.63669952, 43.64929206, 43.75624583, 43.81295883, 43.63551813, 43.78012985, 43.69499819, 43.67104999, 43.73798792, 43.70774921, 43.6501763, 43.6625062, 43.72848902, 43.63388036, 43.76749026, 43.7161804, 43.77881322, 43.70271605, 43.67396204, 43.74857214, 43.77060226, 43.77121049, 43.68364496, 43.76674024, 43.67677292, 43.69410674, 43.67691927, 43.70468937, 43.68785887, 43.76573649, 43.71467153], \"legendgroup\": \"\", \"lon\": [-79.26671217, -79.2656118, -79.54161093, -79.40400062, -79.34971798, -79.45605516, -79.38572125, -79.37711686, -79.38211795, -79.42022735, -79.47947251, -79.25740037, -79.26509259, -79.52197932, -79.33739417, -79.45285129999999, -79.37890418, -79.35562951, -79.48558926, -79.36610666, -79.45521208, -79.40800665, -79.15084327, -79.37901717, -79.28138178, -79.44630258, -79.23552957, -79.44746933, -79.32981941, -79.33140338, -79.35364413, -79.27890794, -79.4385407, -79.49049735, -79.43734104, -79.29935867, -79.52245776, -79.24559804, -79.54898272, -79.43740855, -79.58044524, -79.56893877, -79.33264597, -79.42814316, -79.41431786, -79.51346532, -79.32431802, -79.19505535, -79.34124067, -79.46630217, -79.46787222, -79.17747247, -79.354804, -79.5224162, -79.55617474, -79.54236712, -79.42768335, -79.27247049, -79.54331654, -79.47143987, -79.47143711, -79.26038221, -79.39723988, -79.54786331, -79.5105768, -79.31408424, -79.49604526, -79.42474772, -79.40397836, -79.40603941, -79.36607234, -79.43032271, -79.53334545, -79.22251662, -79.48075802, -79.57343155, -79.27500892, -79.50013664, -79.20704119, -79.36729703, -79.49998906, -79.58725926, -79.38492395, -79.39335955, -79.51035809, -79.40593745, -79.43142151, -79.4124204, -79.35126041, -79.37524658, -79.31222777, -79.27970834, -79.43978548, -79.33548836, -79.41840873, -79.33017952, -79.5282822, -79.35488729, -79.33494843, -79.54455929, -79.36050881, -79.56622841, -79.49442045, -79.44299245, -79.3796694, -79.18634345, -79.48570818, -79.49809147, -79.21681262, -79.43933783, -79.33565132, -79.37903709, -79.32120701, -79.50112821, -79.30291871, -79.29590112, -79.29960129999999, -79.56349102, -79.34998361, -79.41534216, -79.40117975, -79.31487383, -79.37720231, -79.17667603, -79.59635645, -79.45241823, -79.51572255, -79.46024391, -79.29863657, -79.40148379, -79.4275578, -79.55422105, -79.22858577, -79.31540738, -79.31116353, -79.42551495, -79.40359017, -79.39787077, -79.48888293, -79.45710807], \"marker\": {\"color\": [329811.5, 334189.0, 427922.5, 746977.0, 612039.0, 501576.75, 423653.5, 539258.75, 565413.5, 930415.25, 370927.75, 301123.25, 437315.0, 260841.75, 511437.0, 365524.5, 1526485.75, 443373.25, 350943.0, 494110.5, 361714.25, 981064.25, 409862.75, 406117.5, 354555.25, 551561.25, 417422.0, 419930.5, 466943.0, 421679.25, 398010.25, 262000.25, 434699.5, 381415.5, 457588.75, 478054.25, 796162.5, 268966.5, 268341.25, 568936.75, 397781.75, 309412.0, 207799.0, 851680.5, 1195992.5, 327597.75, 387055.5, 369373.5, 369958.0, 532497.0, 582977.75, 428838.5, 395023.0, 449150.5, 352082.5, 319783.75, 697085.5, 287685.75, 451685.25, 433269.25, 322774.75, 287233.5, 440485.75, 338344.75, 843234.25, 650307.75, 336617.75, 613216.5, 759392.5, 1094027.75, 806471.75, 540192.5, 385830.25, 256880.25, 453229.0, 443974.75, 344988.25, 393490.5, 285013.5, 409456.0, 262308.75, 253182.25, 677370.25, 468181.75, 407812.0, 559573.25, 460568.5, 369993.0, 703063.25, 411455.75, 298315.75, 422257.5, 441202.75, 443413.5, 622191.75, 454652.5, 405431.25, 648859.25, 373375.25, 765746.5, 392578.25, 360999.25, 345660.25, 508937.25, 1093640.0, 376286.75, 552082.0, 431090.5, 329835.75, 447478.5, 455020.5, 999107.0, 376014.5, 550432.25, 353926.5, 239414.0, 666306.0, 375864.0, 255264.75, 534465.75, 618316.75, 352133.0, 376863.0, 284647.5, 343254.25, 349320.25, 308007.75, 351802.0, 348319.25, 469045.5, 466134.75, 464278.0, 298505.75, 445382.75, 369918.5, 565976.5, 809745.75, 813220.25, 305899.5, 430861.25], \"coloraxis\": \"coloraxis\", \"size\": [329811.5, 334189.0, 427922.5, 746977.0, 612039.0, 501576.75, 423653.5, 539258.75, 565413.5, 930415.25, 370927.75, 301123.25, 437315.0, 260841.75, 511437.0, 365524.5, 1526485.75, 443373.25, 350943.0, 494110.5, 361714.25, 981064.25, 409862.75, 406117.5, 354555.25, 551561.25, 417422.0, 419930.5, 466943.0, 421679.25, 398010.25, 262000.25, 434699.5, 381415.5, 457588.75, 478054.25, 796162.5, 268966.5, 268341.25, 568936.75, 397781.75, 309412.0, 207799.0, 851680.5, 1195992.5, 327597.75, 387055.5, 369373.5, 369958.0, 532497.0, 582977.75, 428838.5, 395023.0, 449150.5, 352082.5, 319783.75, 697085.5, 287685.75, 451685.25, 433269.25, 322774.75, 287233.5, 440485.75, 338344.75, 843234.25, 650307.75, 336617.75, 613216.5, 759392.5, 1094027.75, 806471.75, 540192.5, 385830.25, 256880.25, 453229.0, 443974.75, 344988.25, 393490.5, 285013.5, 409456.0, 262308.75, 253182.25, 677370.25, 468181.75, 407812.0, 559573.25, 460568.5, 369993.0, 703063.25, 411455.75, 298315.75, 422257.5, 441202.75, 443413.5, 622191.75, 454652.5, 405431.25, 648859.25, 373375.25, 765746.5, 392578.25, 360999.25, 345660.25, 508937.25, 1093640.0, 376286.75, 552082.0, 431090.5, 329835.75, 447478.5, 455020.5, 999107.0, 376014.5, 550432.25, 353926.5, 239414.0, 666306.0, 375864.0, 255264.75, 534465.75, 618316.75, 352133.0, 376863.0, 284647.5, 343254.25, 349320.25, 308007.75, 351802.0, 348319.25, 469045.5, 466134.75, 464278.0, 298505.75, 445382.75, 369918.5, 565976.5, 809745.75, 813220.25, 305899.5, 430861.25], \"sizemode\": \"area\", \"sizeref\": 6784.381111111111}, \"mode\": \"markers\", \"name\": \"\", \"showlegend\": false, \"subplot\": \"mapbox\", \"type\": \"scattermapbox\"}],                        {\"coloraxis\": {\"colorbar\": {\"title\": {\"text\": \"average_house_value\"}}, \"colorscale\": [[0.0, \"#0d0887\"], [0.1111111111111111, \"#46039f\"], [0.2222222222222222, \"#7201a8\"], [0.3333333333333333, \"#9c179e\"], [0.4444444444444444, \"#bd3786\"], [0.5555555555555556, \"#d8576b\"], [0.6666666666666666, \"#ed7953\"], [0.7777777777777778, \"#fb9f3a\"], [0.8888888888888888, \"#fdca26\"], [1.0, \"#f0f921\"]]}, \"legend\": {\"itemsizing\": \"constant\", \"tracegroupgap\": 0}, \"mapbox\": {\"accesstoken\": \"pk.eyJ1IjoiZGF2ZWR3YXJha2FuIiwiYSI6ImNrbWtsNHliMTBmbmEzMXBsMWFrYTJzdTQifQ.0tM_uOgzyiWrzED66AJe8w\", \"center\": {\"lat\": 43.708840577642846, \"lon\": -79.4001855035}, \"domain\": {\"x\": [0.0, 1.0], \"y\": [0.0, 1.0]}, \"zoom\": 9}, \"template\": {\"data\": {\"bar\": [{\"error_x\": {\"color\": \"#2a3f5f\"}, \"error_y\": {\"color\": \"#2a3f5f\"}, \"marker\": {\"line\": {\"color\": \"#E5ECF6\", \"width\": 0.5}}, \"type\": \"bar\"}], \"barpolar\": [{\"marker\": {\"line\": {\"color\": \"#E5ECF6\", \"width\": 0.5}}, \"type\": \"barpolar\"}], \"carpet\": [{\"aaxis\": {\"endlinecolor\": \"#2a3f5f\", \"gridcolor\": \"white\", \"linecolor\": \"white\", \"minorgridcolor\": \"white\", \"startlinecolor\": \"#2a3f5f\"}, \"baxis\": {\"endlinecolor\": \"#2a3f5f\", \"gridcolor\": \"white\", \"linecolor\": \"white\", \"minorgridcolor\": \"white\", \"startlinecolor\": \"#2a3f5f\"}, \"type\": \"carpet\"}], \"choropleth\": [{\"colorbar\": {\"outlinewidth\": 0, \"ticks\": \"\"}, \"type\": \"choropleth\"}], \"contour\": [{\"colorbar\": {\"outlinewidth\": 0, \"ticks\": \"\"}, \"colorscale\": [[0.0, \"#0d0887\"], [0.1111111111111111, \"#46039f\"], [0.2222222222222222, \"#7201a8\"], [0.3333333333333333, \"#9c179e\"], [0.4444444444444444, \"#bd3786\"], [0.5555555555555556, \"#d8576b\"], [0.6666666666666666, \"#ed7953\"], [0.7777777777777778, \"#fb9f3a\"], [0.8888888888888888, \"#fdca26\"], [1.0, \"#f0f921\"]], \"type\": \"contour\"}], \"contourcarpet\": [{\"colorbar\": {\"outlinewidth\": 0, \"ticks\": \"\"}, \"type\": \"contourcarpet\"}], \"heatmap\": [{\"colorbar\": {\"outlinewidth\": 0, \"ticks\": \"\"}, \"colorscale\": [[0.0, \"#0d0887\"], [0.1111111111111111, \"#46039f\"], [0.2222222222222222, \"#7201a8\"], [0.3333333333333333, \"#9c179e\"], [0.4444444444444444, \"#bd3786\"], [0.5555555555555556, \"#d8576b\"], [0.6666666666666666, \"#ed7953\"], [0.7777777777777778, \"#fb9f3a\"], [0.8888888888888888, \"#fdca26\"], [1.0, \"#f0f921\"]], \"type\": \"heatmap\"}], \"heatmapgl\": [{\"colorbar\": {\"outlinewidth\": 0, \"ticks\": \"\"}, \"colorscale\": [[0.0, \"#0d0887\"], [0.1111111111111111, \"#46039f\"], [0.2222222222222222, \"#7201a8\"], [0.3333333333333333, \"#9c179e\"], [0.4444444444444444, \"#bd3786\"], [0.5555555555555556, \"#d8576b\"], [0.6666666666666666, \"#ed7953\"], [0.7777777777777778, \"#fb9f3a\"], [0.8888888888888888, \"#fdca26\"], [1.0, \"#f0f921\"]], \"type\": \"heatmapgl\"}], \"histogram\": [{\"marker\": {\"colorbar\": {\"outlinewidth\": 0, \"ticks\": \"\"}}, \"type\": \"histogram\"}], \"histogram2d\": [{\"colorbar\": {\"outlinewidth\": 0, \"ticks\": \"\"}, \"colorscale\": [[0.0, \"#0d0887\"], [0.1111111111111111, \"#46039f\"], [0.2222222222222222, \"#7201a8\"], [0.3333333333333333, \"#9c179e\"], [0.4444444444444444, \"#bd3786\"], [0.5555555555555556, \"#d8576b\"], [0.6666666666666666, \"#ed7953\"], [0.7777777777777778, \"#fb9f3a\"], [0.8888888888888888, \"#fdca26\"], [1.0, \"#f0f921\"]], \"type\": \"histogram2d\"}], \"histogram2dcontour\": [{\"colorbar\": {\"outlinewidth\": 0, \"ticks\": \"\"}, \"colorscale\": [[0.0, \"#0d0887\"], [0.1111111111111111, \"#46039f\"], [0.2222222222222222, \"#7201a8\"], [0.3333333333333333, \"#9c179e\"], [0.4444444444444444, \"#bd3786\"], [0.5555555555555556, \"#d8576b\"], [0.6666666666666666, \"#ed7953\"], [0.7777777777777778, \"#fb9f3a\"], [0.8888888888888888, \"#fdca26\"], [1.0, \"#f0f921\"]], \"type\": \"histogram2dcontour\"}], \"mesh3d\": [{\"colorbar\": {\"outlinewidth\": 0, \"ticks\": \"\"}, \"type\": \"mesh3d\"}], \"parcoords\": [{\"line\": {\"colorbar\": {\"outlinewidth\": 0, \"ticks\": \"\"}}, \"type\": \"parcoords\"}], \"pie\": [{\"automargin\": true, \"type\": \"pie\"}], \"scatter\": [{\"marker\": {\"colorbar\": {\"outlinewidth\": 0, \"ticks\": \"\"}}, \"type\": \"scatter\"}], \"scatter3d\": [{\"line\": {\"colorbar\": {\"outlinewidth\": 0, \"ticks\": \"\"}}, \"marker\": {\"colorbar\": {\"outlinewidth\": 0, \"ticks\": \"\"}}, \"type\": \"scatter3d\"}], \"scattercarpet\": [{\"marker\": {\"colorbar\": {\"outlinewidth\": 0, \"ticks\": \"\"}}, \"type\": \"scattercarpet\"}], \"scattergeo\": [{\"marker\": {\"colorbar\": {\"outlinewidth\": 0, \"ticks\": \"\"}}, \"type\": \"scattergeo\"}], \"scattergl\": [{\"marker\": {\"colorbar\": {\"outlinewidth\": 0, \"ticks\": \"\"}}, \"type\": \"scattergl\"}], \"scattermapbox\": [{\"marker\": {\"colorbar\": {\"outlinewidth\": 0, \"ticks\": \"\"}}, \"type\": \"scattermapbox\"}], \"scatterpolar\": [{\"marker\": {\"colorbar\": {\"outlinewidth\": 0, \"ticks\": \"\"}}, \"type\": \"scatterpolar\"}], \"scatterpolargl\": [{\"marker\": {\"colorbar\": {\"outlinewidth\": 0, \"ticks\": \"\"}}, \"type\": \"scatterpolargl\"}], \"scatterternary\": [{\"marker\": {\"colorbar\": {\"outlinewidth\": 0, \"ticks\": \"\"}}, \"type\": \"scatterternary\"}], \"surface\": [{\"colorbar\": {\"outlinewidth\": 0, \"ticks\": \"\"}, \"colorscale\": [[0.0, \"#0d0887\"], [0.1111111111111111, \"#46039f\"], [0.2222222222222222, \"#7201a8\"], [0.3333333333333333, \"#9c179e\"], [0.4444444444444444, \"#bd3786\"], [0.5555555555555556, \"#d8576b\"], [0.6666666666666666, \"#ed7953\"], [0.7777777777777778, \"#fb9f3a\"], [0.8888888888888888, \"#fdca26\"], [1.0, \"#f0f921\"]], \"type\": \"surface\"}], \"table\": [{\"cells\": {\"fill\": {\"color\": \"#EBF0F8\"}, \"line\": {\"color\": \"white\"}}, \"header\": {\"fill\": {\"color\": \"#C8D4E3\"}, \"line\": {\"color\": \"white\"}}, \"type\": \"table\"}]}, \"layout\": {\"annotationdefaults\": {\"arrowcolor\": \"#2a3f5f\", \"arrowhead\": 0, \"arrowwidth\": 1}, \"autotypenumbers\": \"strict\", \"coloraxis\": {\"colorbar\": {\"outlinewidth\": 0, \"ticks\": \"\"}}, \"colorscale\": {\"diverging\": [[0, \"#8e0152\"], [0.1, \"#c51b7d\"], [0.2, \"#de77ae\"], [0.3, \"#f1b6da\"], [0.4, \"#fde0ef\"], [0.5, \"#f7f7f7\"], [0.6, \"#e6f5d0\"], [0.7, \"#b8e186\"], [0.8, \"#7fbc41\"], [0.9, \"#4d9221\"], [1, \"#276419\"]], \"sequential\": [[0.0, \"#0d0887\"], [0.1111111111111111, \"#46039f\"], [0.2222222222222222, \"#7201a8\"], [0.3333333333333333, \"#9c179e\"], [0.4444444444444444, \"#bd3786\"], [0.5555555555555556, \"#d8576b\"], [0.6666666666666666, \"#ed7953\"], [0.7777777777777778, \"#fb9f3a\"], [0.8888888888888888, \"#fdca26\"], [1.0, \"#f0f921\"]], \"sequentialminus\": [[0.0, \"#0d0887\"], [0.1111111111111111, \"#46039f\"], [0.2222222222222222, \"#7201a8\"], [0.3333333333333333, \"#9c179e\"], [0.4444444444444444, \"#bd3786\"], [0.5555555555555556, \"#d8576b\"], [0.6666666666666666, \"#ed7953\"], [0.7777777777777778, \"#fb9f3a\"], [0.8888888888888888, \"#fdca26\"], [1.0, \"#f0f921\"]]}, \"colorway\": [\"#636efa\", \"#EF553B\", \"#00cc96\", \"#ab63fa\", \"#FFA15A\", \"#19d3f3\", \"#FF6692\", \"#B6E880\", \"#FF97FF\", \"#FECB52\"], \"font\": {\"color\": \"#2a3f5f\"}, \"geo\": {\"bgcolor\": \"white\", \"lakecolor\": \"white\", \"landcolor\": \"#E5ECF6\", \"showlakes\": true, \"showland\": true, \"subunitcolor\": \"white\"}, \"hoverlabel\": {\"align\": \"left\"}, \"hovermode\": \"closest\", \"mapbox\": {\"style\": \"light\"}, \"paper_bgcolor\": \"white\", \"plot_bgcolor\": \"#E5ECF6\", \"polar\": {\"angularaxis\": {\"gridcolor\": \"white\", \"linecolor\": \"white\", \"ticks\": \"\"}, \"bgcolor\": \"#E5ECF6\", \"radialaxis\": {\"gridcolor\": \"white\", \"linecolor\": \"white\", \"ticks\": \"\"}}, \"scene\": {\"xaxis\": {\"backgroundcolor\": \"#E5ECF6\", \"gridcolor\": \"white\", \"gridwidth\": 2, \"linecolor\": \"white\", \"showbackground\": true, \"ticks\": \"\", \"zerolinecolor\": \"white\"}, \"yaxis\": {\"backgroundcolor\": \"#E5ECF6\", \"gridcolor\": \"white\", \"gridwidth\": 2, \"linecolor\": \"white\", \"showbackground\": true, \"ticks\": \"\", \"zerolinecolor\": \"white\"}, \"zaxis\": {\"backgroundcolor\": \"#E5ECF6\", \"gridcolor\": \"white\", \"gridwidth\": 2, \"linecolor\": \"white\", \"showbackground\": true, \"ticks\": \"\", \"zerolinecolor\": \"white\"}}, \"shapedefaults\": {\"line\": {\"color\": \"#2a3f5f\"}}, \"ternary\": {\"aaxis\": {\"gridcolor\": \"white\", \"linecolor\": \"white\", \"ticks\": \"\"}, \"baxis\": {\"gridcolor\": \"white\", \"linecolor\": \"white\", \"ticks\": \"\"}, \"bgcolor\": \"#E5ECF6\", \"caxis\": {\"gridcolor\": \"white\", \"linecolor\": \"white\", \"ticks\": \"\"}}, \"title\": {\"x\": 0.05}, \"xaxis\": {\"automargin\": true, \"gridcolor\": \"white\", \"linecolor\": \"white\", \"ticks\": \"\", \"title\": {\"standoff\": 15}, \"zerolinecolor\": \"white\", \"zerolinewidth\": 2}, \"yaxis\": {\"automargin\": true, \"gridcolor\": \"white\", \"linecolor\": \"white\", \"ticks\": \"\", \"title\": {\"standoff\": 15}, \"zerolinecolor\": \"white\", \"zerolinewidth\": 2}}}, \"title\": {\"text\": \"Average House Value in Toronto\"}},                        {\"responsive\": true}                    ).then(function(){\n",
       "                            \n",
       "var gd = document.getElementById('293e07af-fd48-473f-8cf9-02bbf64b267d');\n",
       "var x = new MutationObserver(function (mutations, observer) {{\n",
       "        var display = window.getComputedStyle(gd).display;\n",
       "        if (!display || display === 'none') {{\n",
       "            console.log([gd, 'removed!']);\n",
       "            Plotly.purge(gd);\n",
       "            observer.disconnect();\n",
       "        }}\n",
       "}});\n",
       "\n",
       "// Listen for the removal of the full notebook cells\n",
       "var notebookContainer = gd.closest('#notebook-container');\n",
       "if (notebookContainer) {{\n",
       "    x.observe(notebookContainer, {childList: true});\n",
       "}}\n",
       "\n",
       "// Listen for the clearing of the current output cell\n",
       "var outputEl = gd.closest('.output');\n",
       "if (outputEl) {{\n",
       "    x.observe(outputEl, {childList: true});\n",
       "}}\n",
       "\n",
       "                        })                };                });            </script>        </div>"
      ]
     },
     "metadata": {},
     "output_type": "display_data"
    }
   ],
   "source": [
    "# Create a scatter mapbox to analyze neighbourhood info\n",
    "px.set_mapbox_access_token(map_box_api)\n",
    "neighbourhood_map = px.scatter_mapbox(\n",
    "df_all_neoghbourhoods,\n",
    "lat=\"lat\",\n",
    "lon=\"lon\",\n",
    "size='average_house_value',\n",
    "color='average_house_value',\n",
    "title='Average House Value in Toronto',\n",
    "size_max=15,\n",
    "zoom=9\n",
    ")\n",
    "neighbourhood_map.show()"
   ]
  },
  {
   "cell_type": "markdown",
   "metadata": {},
   "source": [
    "- - -"
   ]
  },
  {
   "cell_type": "markdown",
   "metadata": {},
   "source": [
    "## Cost Analysis - Optional Challenge\n",
    "\n",
    "In this section, you will use Plotly express to a couple of plots that investors can interactively filter and explore various factors related to the house value of the Toronto's neighbourhoods. \n",
    "\n",
    "### Create a bar chart row facet to plot the average house values for all Toronto's neighbourhoods per year"
   ]
  },
  {
   "cell_type": "code",
   "execution_count": 23,
   "metadata": {},
   "outputs": [
    {
     "data": {
      "application/vnd.plotly.v1+json": {
       "config": {
        "plotlyServerURL": "https://plotly.com"
       },
       "data": [
        {
         "alignmentgroup": "True",
         "hovertemplate": "year=2001<br>Neighbourhoods=%{x}<br>Avg. House Value=%{marker.color}<extra></extra>",
         "legendgroup": "",
         "marker": {
          "color": [
           200388,
           203047,
           259998,
           453850,
           371864,
           304749,
           257404,
           327644,
           343535,
           565304,
           225369,
           182957,
           265705,
           158483,
           310740,
           222086,
           927466,
           269386,
           213227,
           300213,
           219771,
           596077,
           249025,
           246750,
           215421,
           335119,
           253618,
           255142,
           283706,
           256205,
           241824,
           159187,
           264116,
           231741,
           278023,
           290457,
           483734,
           163419,
           163039,
           345676,
           241685,
           187993,
           126255,
           517466,
           726664,
           199043,
           235168,
           224425,
           224780,
           323536,
           354207,
           260555,
           240009,
           272896,
           213919,
           194295,
           423537,
           174793,
           274436,
           263247,
           196112,
           174518,
           267631,
           205572,
           512334,
           395115,
           204523,
           372579,
           461393,
           664712,
           489998,
           328211,
           234424,
           156076,
           275374,
           269751,
           209609,
           239078,
           173169,
           248778,
           159374,
           153829,
           411558,
           284459,
           247779,
           339987,
           279833,
           224801,
           427169,
           249993,
           181251,
           256556,
           268067,
           269410,
           378033,
           276239,
           246333,
           394235,
           226856,
           465254,
           238524,
           219337,
           210017,
           309221,
           664476,
           228625,
           335435,
           261923,
           200402,
           271880,
           276462,
           607040,
           228460,
           334433,
           215039,
           145464,
           404836,
           228368,
           155094,
           324732,
           375678,
           213950,
           228975,
           172947,
           208555,
           212241,
           187140,
           213749,
           211633,
           284984,
           283215,
           282087,
           181367,
           270607,
           224756,
           343877,
           491987,
           494098,
           185859,
           261784
          ],
          "coloraxis": "coloraxis"
         },
         "name": "",
         "offsetgroup": "",
         "orientation": "v",
         "showlegend": false,
         "textposition": "auto",
         "type": "bar",
         "x": [
          "Agincourt North",
          "Agincourt South-Malvern West",
          "Alderwood",
          "Annex",
          "Banbury-Don Mills",
          "Bathurst Manor",
          "Bay Street Corridor",
          "Bayview Village",
          "Bayview Woods-Steeles",
          "Bedford Park-Nortown",
          "Beechborough-Greenbrook",
          "Bendale",
          "Birchcliffe-Cliffside",
          "Black Creek",
          "Blake-Jones",
          "Briar Hill-Belgravia",
          "Bridle Path-Sunnybrook-York Mills",
          "Broadview North",
          "Brookhaven-Amesbury",
          "Cabbagetown-South St.James Town",
          "Caledonia-Fairbank",
          "Casa Loma",
          "Centennial Scarborough",
          "Church-Yonge Corridor",
          "Clairlea-Birchmount",
          "Clanton Park",
          "Cliffcrest",
          "Corso Italia-Davenport",
          "Danforth",
          "Danforth-East York",
          "Don Valley Village",
          "Dorset Park",
          "Dovercourt-Wallace Emerson-Juncti",
          "Downsview-Roding-CFB",
          "Dufferin Grove",
          "East End-Danforth",
          "Edenbridge-Humber Valley",
          "Eglinton East",
          "Elms-Old Rexdale",
          "Englemount-Lawrence",
          "Eringate-Centennial-West Deane",
          "Etobicoke West Mall",
          "Flemingdon Park",
          "Forest Hill North",
          "Forest Hill South",
          "Glenfield-Jane Heights",
          "Greenwood-Coxwell",
          "Guildwood",
          "Henry Farm",
          "High Park North",
          "High Park-Swansea",
          "Highland Creek",
          "Hillcrest Village",
          "Humber Heights-Westmount",
          "Humber Summit",
          "Humbermede",
          "Humewood-Cedarvale",
          "Ionview",
          "Islington-City Centre West",
          "Junction Area",
          "Keelesdale-Eglinton West",
          "Kennedy Park",
          "Kensington-Chinatown",
          "Kingsview Village-The Westway",
          "Kingsway South",
          "L'Amoreaux",
          "Lambton Baby Point",
          "Lansing-Westgate",
          "Lawrence Park North",
          "Lawrence Park South",
          "Leaside-Bennington",
          "Little Portugal",
          "Long Branch",
          "Malvern",
          "Maple Leaf",
          "Markland Wood",
          "Milliken",
          "Mimico",
          "Morningside",
          "Moss Park",
          "Mount Dennis",
          "Mount Olive-Silverstone-Jamestown",
          "Mount Pleasant East",
          "Mount Pleasant West",
          "New Toronto",
          "Newtonbrook East",
          "Newtonbrook West",
          "Niagara",
          "North Riverdale",
          "North St.James Town",
          "O'Connor-Parkview",
          "Oakridge",
          "Oakwood Village",
          "Old East York",
          "Palmerston-Little Italy",
          "Parkwoods-Donalda",
          "Pelmo Park-Humberlea",
          "Playter Estates-Danforth",
          "Pleasant View",
          "Princess-Rosethorn",
          "Regent Park",
          "Rexdale-Kipling",
          "Rockcliffe-Smythe",
          "Roncesvalles",
          "Rosedale-Moore Park",
          "Rouge",
          "Runnymede-Bloor West Village",
          "Rustic",
          "Scarborough Village",
          "South Parkdale",
          "South Riverdale",
          "St.Andrew-Windfields",
          "Steeles",
          "Stonegate-Queensway",
          "Tam O'Shanter-Sullivan",
          "Taylor-Massey",
          "The Beaches",
          "Thistletown-Beaumond Heights",
          "Thorncliffe Park",
          "Trinity-Bellwoods",
          "University",
          "Victoria Village",
          "Waterfront Communities-The Island",
          "West Hill",
          "West Humber-Clairville",
          "Westminster-Branson",
          "Weston",
          "Weston-Pellam Park",
          "Wexford/Maryvale",
          "Willowdale East",
          "Willowdale West",
          "Willowridge-Martingrove-Richview",
          "Woburn",
          "Woodbine Corridor",
          "Woodbine-Lumsden",
          "Wychwood",
          "Yonge-Eglinton",
          "Yonge-St.Clair",
          "York University Heights",
          "Yorkdale-Glen Park"
         ],
         "xaxis": "x4",
         "y": [
          200388,
          203047,
          259998,
          453850,
          371864,
          304749,
          257404,
          327644,
          343535,
          565304,
          225369,
          182957,
          265705,
          158483,
          310740,
          222086,
          927466,
          269386,
          213227,
          300213,
          219771,
          596077,
          249025,
          246750,
          215421,
          335119,
          253618,
          255142,
          283706,
          256205,
          241824,
          159187,
          264116,
          231741,
          278023,
          290457,
          483734,
          163419,
          163039,
          345676,
          241685,
          187993,
          126255,
          517466,
          726664,
          199043,
          235168,
          224425,
          224780,
          323536,
          354207,
          260555,
          240009,
          272896,
          213919,
          194295,
          423537,
          174793,
          274436,
          263247,
          196112,
          174518,
          267631,
          205572,
          512334,
          395115,
          204523,
          372579,
          461393,
          664712,
          489998,
          328211,
          234424,
          156076,
          275374,
          269751,
          209609,
          239078,
          173169,
          248778,
          159374,
          153829,
          411558,
          284459,
          247779,
          339987,
          279833,
          224801,
          427169,
          249993,
          181251,
          256556,
          268067,
          269410,
          378033,
          276239,
          246333,
          394235,
          226856,
          465254,
          238524,
          219337,
          210017,
          309221,
          664476,
          228625,
          335435,
          261923,
          200402,
          271880,
          276462,
          607040,
          228460,
          334433,
          215039,
          145464,
          404836,
          228368,
          155094,
          324732,
          375678,
          213950,
          228975,
          172947,
          208555,
          212241,
          187140,
          213749,
          211633,
          284984,
          283215,
          282087,
          181367,
          270607,
          224756,
          343877,
          491987,
          494098,
          185859,
          261784
         ],
         "yaxis": "y4"
        },
        {
         "alignmentgroup": "True",
         "hovertemplate": "year=2006<br>Neighbourhoods=%{x}<br>Avg. House Value=%{marker.color}<extra></extra>",
         "legendgroup": "",
         "marker": {
          "color": [
           293140,
           297031,
           380342,
           663921,
           543987,
           445807,
           376548,
           479299,
           502546,
           826963,
           329685,
           267642,
           388690,
           231839,
           454571,
           324882,
           1356757,
           394075,
           311922,
           439171,
           321496,
           871981,
           364291,
           360962,
           315133,
           490234,
           371009,
           373239,
           415024,
           374793,
           353756,
           232869,
           386366,
           339006,
           406710,
           424900,
           707638,
           239060,
           238505,
           505677,
           353553,
           275009,
           184694,
           756983,
           1063011,
           291172,
           344019,
           328303,
           328823,
           473289,
           518157,
           381156,
           351101,
           399210,
           312935,
           284227,
           619577,
           255698,
           401463,
           385094,
           286886,
           255296,
           391509,
           300725,
           749476,
           578001,
           299190,
           545034,
           674957,
           972384,
           716801,
           480129,
           342930,
           228318,
           402835,
           394610,
           306629,
           349739,
           253323,
           363929,
           233143,
           225031,
           602054,
           416125,
           362468,
           497355,
           409358,
           328854,
           624890,
           365706,
           265146,
           375307,
           392146,
           394111,
           553011,
           404100,
           360352,
           576713,
           331860,
           680604,
           348928,
           320860,
           307227,
           452349,
           972039,
           334448,
           490697,
           383158,
           293162,
           397724,
           404427,
           888017,
           334206,
           489230,
           314574,
           212794,
           592220,
           334072,
           226882,
           475039,
           549567,
           312980,
           334960,
           252998,
           305088,
           310480,
           273761,
           312685,
           309590,
           416893,
           414306,
           412655,
           265315,
           395861,
           328788,
           503046,
           719711,
           722799,
           271887,
           382954
          ],
          "coloraxis": "coloraxis"
         },
         "name": "",
         "offsetgroup": "",
         "orientation": "v",
         "showlegend": false,
         "textposition": "auto",
         "type": "bar",
         "x": [
          "Agincourt North",
          "Agincourt South-Malvern West",
          "Alderwood",
          "Annex",
          "Banbury-Don Mills",
          "Bathurst Manor",
          "Bay Street Corridor",
          "Bayview Village",
          "Bayview Woods-Steeles",
          "Bedford Park-Nortown",
          "Beechborough-Greenbrook",
          "Bendale",
          "Birchcliffe-Cliffside",
          "Black Creek",
          "Blake-Jones",
          "Briar Hill-Belgravia",
          "Bridle Path-Sunnybrook-York Mills",
          "Broadview North",
          "Brookhaven-Amesbury",
          "Cabbagetown-South St.James Town",
          "Caledonia-Fairbank",
          "Casa Loma",
          "Centennial Scarborough",
          "Church-Yonge Corridor",
          "Clairlea-Birchmount",
          "Clanton Park",
          "Cliffcrest",
          "Corso Italia-Davenport",
          "Danforth",
          "Danforth-East York",
          "Don Valley Village",
          "Dorset Park",
          "Dovercourt-Wallace Emerson-Juncti",
          "Downsview-Roding-CFB",
          "Dufferin Grove",
          "East End-Danforth",
          "Edenbridge-Humber Valley",
          "Eglinton East",
          "Elms-Old Rexdale",
          "Englemount-Lawrence",
          "Eringate-Centennial-West Deane",
          "Etobicoke West Mall",
          "Flemingdon Park",
          "Forest Hill North",
          "Forest Hill South",
          "Glenfield-Jane Heights",
          "Greenwood-Coxwell",
          "Guildwood",
          "Henry Farm",
          "High Park North",
          "High Park-Swansea",
          "Highland Creek",
          "Hillcrest Village",
          "Humber Heights-Westmount",
          "Humber Summit",
          "Humbermede",
          "Humewood-Cedarvale",
          "Ionview",
          "Islington-City Centre West",
          "Junction Area",
          "Keelesdale-Eglinton West",
          "Kennedy Park",
          "Kensington-Chinatown",
          "Kingsview Village-The Westway",
          "Kingsway South",
          "L'Amoreaux",
          "Lambton Baby Point",
          "Lansing-Westgate",
          "Lawrence Park North",
          "Lawrence Park South",
          "Leaside-Bennington",
          "Little Portugal",
          "Long Branch",
          "Malvern",
          "Maple Leaf",
          "Markland Wood",
          "Milliken",
          "Mimico",
          "Morningside",
          "Moss Park",
          "Mount Dennis",
          "Mount Olive-Silverstone-Jamestown",
          "Mount Pleasant East",
          "Mount Pleasant West",
          "New Toronto",
          "Newtonbrook East",
          "Newtonbrook West",
          "Niagara",
          "North Riverdale",
          "North St.James Town",
          "O'Connor-Parkview",
          "Oakridge",
          "Oakwood Village",
          "Old East York",
          "Palmerston-Little Italy",
          "Parkwoods-Donalda",
          "Pelmo Park-Humberlea",
          "Playter Estates-Danforth",
          "Pleasant View",
          "Princess-Rosethorn",
          "Regent Park",
          "Rexdale-Kipling",
          "Rockcliffe-Smythe",
          "Roncesvalles",
          "Rosedale-Moore Park",
          "Rouge",
          "Runnymede-Bloor West Village",
          "Rustic",
          "Scarborough Village",
          "South Parkdale",
          "South Riverdale",
          "St.Andrew-Windfields",
          "Steeles",
          "Stonegate-Queensway",
          "Tam O'Shanter-Sullivan",
          "Taylor-Massey",
          "The Beaches",
          "Thistletown-Beaumond Heights",
          "Thorncliffe Park",
          "Trinity-Bellwoods",
          "University",
          "Victoria Village",
          "Waterfront Communities-The Island",
          "West Hill",
          "West Humber-Clairville",
          "Westminster-Branson",
          "Weston",
          "Weston-Pellam Park",
          "Wexford/Maryvale",
          "Willowdale East",
          "Willowdale West",
          "Willowridge-Martingrove-Richview",
          "Woburn",
          "Woodbine Corridor",
          "Woodbine-Lumsden",
          "Wychwood",
          "Yonge-Eglinton",
          "Yonge-St.Clair",
          "York University Heights",
          "Yorkdale-Glen Park"
         ],
         "xaxis": "x3",
         "y": [
          293140,
          297031,
          380342,
          663921,
          543987,
          445807,
          376548,
          479299,
          502546,
          826963,
          329685,
          267642,
          388690,
          231839,
          454571,
          324882,
          1356757,
          394075,
          311922,
          439171,
          321496,
          871981,
          364291,
          360962,
          315133,
          490234,
          371009,
          373239,
          415024,
          374793,
          353756,
          232869,
          386366,
          339006,
          406710,
          424900,
          707638,
          239060,
          238505,
          505677,
          353553,
          275009,
          184694,
          756983,
          1063011,
          291172,
          344019,
          328303,
          328823,
          473289,
          518157,
          381156,
          351101,
          399210,
          312935,
          284227,
          619577,
          255698,
          401463,
          385094,
          286886,
          255296,
          391509,
          300725,
          749476,
          578001,
          299190,
          545034,
          674957,
          972384,
          716801,
          480129,
          342930,
          228318,
          402835,
          394610,
          306629,
          349739,
          253323,
          363929,
          233143,
          225031,
          602054,
          416125,
          362468,
          497355,
          409358,
          328854,
          624890,
          365706,
          265146,
          375307,
          392146,
          394111,
          553011,
          404100,
          360352,
          576713,
          331860,
          680604,
          348928,
          320860,
          307227,
          452349,
          972039,
          334448,
          490697,
          383158,
          293162,
          397724,
          404427,
          888017,
          334206,
          489230,
          314574,
          212794,
          592220,
          334072,
          226882,
          475039,
          549567,
          312980,
          334960,
          252998,
          305088,
          310480,
          273761,
          312685,
          309590,
          416893,
          414306,
          412655,
          265315,
          395861,
          328788,
          503046,
          719711,
          722799,
          271887,
          382954
         ],
         "yaxis": "y3"
        },
        {
         "alignmentgroup": "True",
         "hovertemplate": "year=2011<br>Neighbourhoods=%{x}<br>Avg. House Value=%{marker.color}<extra></extra>",
         "legendgroup": "",
         "marker": {
          "color": [
           366667,
           371534,
           475742,
           830450,
           680433,
           557627,
           470996,
           599520,
           628597,
           1034387,
           412378,
           334773,
           486184,
           289990,
           568589,
           406371,
           1697067,
           492919,
           390160,
           549326,
           402135,
           1090696,
           455664,
           451500,
           394176,
           613197,
           464068,
           466857,
           519123,
           468801,
           442487,
           291278,
           483276,
           424038,
           508723,
           531476,
           885132,
           299023,
           298328,
           632514,
           442233,
           343988,
           231020,
           946854,
           1329642,
           364206,
           430308,
           410650,
           411300,
           592002,
           648124,
           476760,
           439166,
           499342,
           391427,
           355519,
           774983,
           319834,
           502160,
           481686,
           358844,
           319331,
           489709,
           376154,
           937464,
           722978,
           374234,
           681742,
           844253,
           1216283,
           896593,
           600558,
           428946,
           285586,
           503876,
           493588,
           383540,
           437462,
           316863,
           455212,
           291621,
           281475,
           753065,
           520500,
           453384,
           622104,
           512036,
           411339,
           781629,
           457435,
           331652,
           469444,
           490506,
           492964,
           691720,
           505459,
           450737,
           721368,
           415099,
           851317,
           436448,
           401340,
           384287,
           565810,
           1215852,
           418336,
           613776,
           479264,
           366694,
           497483,
           505868,
           1110755,
           418033,
           611942,
           393477,
           266168,
           740764,
           417866,
           283790,
           594191,
           687412,
           391483,
           418977,
           316456,
           381612,
           388356,
           342427,
           391115,
           387243,
           521460,
           518224,
           516160,
           331863,
           495153,
           411256,
           629223,
           900233,
           904096,
           340083,
           479009
          ],
          "coloraxis": "coloraxis"
         },
         "name": "",
         "offsetgroup": "",
         "orientation": "v",
         "showlegend": false,
         "textposition": "auto",
         "type": "bar",
         "x": [
          "Agincourt North",
          "Agincourt South-Malvern West",
          "Alderwood",
          "Annex",
          "Banbury-Don Mills",
          "Bathurst Manor",
          "Bay Street Corridor",
          "Bayview Village",
          "Bayview Woods-Steeles",
          "Bedford Park-Nortown",
          "Beechborough-Greenbrook",
          "Bendale",
          "Birchcliffe-Cliffside",
          "Black Creek",
          "Blake-Jones",
          "Briar Hill-Belgravia",
          "Bridle Path-Sunnybrook-York Mills",
          "Broadview North",
          "Brookhaven-Amesbury",
          "Cabbagetown-South St.James Town",
          "Caledonia-Fairbank",
          "Casa Loma",
          "Centennial Scarborough",
          "Church-Yonge Corridor",
          "Clairlea-Birchmount",
          "Clanton Park",
          "Cliffcrest",
          "Corso Italia-Davenport",
          "Danforth",
          "Danforth-East York",
          "Don Valley Village",
          "Dorset Park",
          "Dovercourt-Wallace Emerson-Juncti",
          "Downsview-Roding-CFB",
          "Dufferin Grove",
          "East End-Danforth",
          "Edenbridge-Humber Valley",
          "Eglinton East",
          "Elms-Old Rexdale",
          "Englemount-Lawrence",
          "Eringate-Centennial-West Deane",
          "Etobicoke West Mall",
          "Flemingdon Park",
          "Forest Hill North",
          "Forest Hill South",
          "Glenfield-Jane Heights",
          "Greenwood-Coxwell",
          "Guildwood",
          "Henry Farm",
          "High Park North",
          "High Park-Swansea",
          "Highland Creek",
          "Hillcrest Village",
          "Humber Heights-Westmount",
          "Humber Summit",
          "Humbermede",
          "Humewood-Cedarvale",
          "Ionview",
          "Islington-City Centre West",
          "Junction Area",
          "Keelesdale-Eglinton West",
          "Kennedy Park",
          "Kensington-Chinatown",
          "Kingsview Village-The Westway",
          "Kingsway South",
          "L'Amoreaux",
          "Lambton Baby Point",
          "Lansing-Westgate",
          "Lawrence Park North",
          "Lawrence Park South",
          "Leaside-Bennington",
          "Little Portugal",
          "Long Branch",
          "Malvern",
          "Maple Leaf",
          "Markland Wood",
          "Milliken",
          "Mimico",
          "Morningside",
          "Moss Park",
          "Mount Dennis",
          "Mount Olive-Silverstone-Jamestown",
          "Mount Pleasant East",
          "Mount Pleasant West",
          "New Toronto",
          "Newtonbrook East",
          "Newtonbrook West",
          "Niagara",
          "North Riverdale",
          "North St.James Town",
          "O'Connor-Parkview",
          "Oakridge",
          "Oakwood Village",
          "Old East York",
          "Palmerston-Little Italy",
          "Parkwoods-Donalda",
          "Pelmo Park-Humberlea",
          "Playter Estates-Danforth",
          "Pleasant View",
          "Princess-Rosethorn",
          "Regent Park",
          "Rexdale-Kipling",
          "Rockcliffe-Smythe",
          "Roncesvalles",
          "Rosedale-Moore Park",
          "Rouge",
          "Runnymede-Bloor West Village",
          "Rustic",
          "Scarborough Village",
          "South Parkdale",
          "South Riverdale",
          "St.Andrew-Windfields",
          "Steeles",
          "Stonegate-Queensway",
          "Tam O'Shanter-Sullivan",
          "Taylor-Massey",
          "The Beaches",
          "Thistletown-Beaumond Heights",
          "Thorncliffe Park",
          "Trinity-Bellwoods",
          "University",
          "Victoria Village",
          "Waterfront Communities-The Island",
          "West Hill",
          "West Humber-Clairville",
          "Westminster-Branson",
          "Weston",
          "Weston-Pellam Park",
          "Wexford/Maryvale",
          "Willowdale East",
          "Willowdale West",
          "Willowridge-Martingrove-Richview",
          "Woburn",
          "Woodbine Corridor",
          "Woodbine-Lumsden",
          "Wychwood",
          "Yonge-Eglinton",
          "Yonge-St.Clair",
          "York University Heights",
          "Yorkdale-Glen Park"
         ],
         "xaxis": "x2",
         "y": [
          366667,
          371534,
          475742,
          830450,
          680433,
          557627,
          470996,
          599520,
          628597,
          1034387,
          412378,
          334773,
          486184,
          289990,
          568589,
          406371,
          1697067,
          492919,
          390160,
          549326,
          402135,
          1090696,
          455664,
          451500,
          394176,
          613197,
          464068,
          466857,
          519123,
          468801,
          442487,
          291278,
          483276,
          424038,
          508723,
          531476,
          885132,
          299023,
          298328,
          632514,
          442233,
          343988,
          231020,
          946854,
          1329642,
          364206,
          430308,
          410650,
          411300,
          592002,
          648124,
          476760,
          439166,
          499342,
          391427,
          355519,
          774983,
          319834,
          502160,
          481686,
          358844,
          319331,
          489709,
          376154,
          937464,
          722978,
          374234,
          681742,
          844253,
          1216283,
          896593,
          600558,
          428946,
          285586,
          503876,
          493588,
          383540,
          437462,
          316863,
          455212,
          291621,
          281475,
          753065,
          520500,
          453384,
          622104,
          512036,
          411339,
          781629,
          457435,
          331652,
          469444,
          490506,
          492964,
          691720,
          505459,
          450737,
          721368,
          415099,
          851317,
          436448,
          401340,
          384287,
          565810,
          1215852,
          418336,
          613776,
          479264,
          366694,
          497483,
          505868,
          1110755,
          418033,
          611942,
          393477,
          266168,
          740764,
          417866,
          283790,
          594191,
          687412,
          391483,
          418977,
          316456,
          381612,
          388356,
          342427,
          391115,
          387243,
          521460,
          518224,
          516160,
          331863,
          495153,
          411256,
          629223,
          900233,
          904096,
          340083,
          479009
         ],
         "yaxis": "y2"
        },
        {
         "alignmentgroup": "True",
         "hovertemplate": "year=2016<br>Neighbourhoods=%{x}<br>Avg. House Value=%{marker.color}<extra></extra>",
         "legendgroup": "",
         "marker": {
          "color": [
           459051,
           465144,
           595608,
           1039687,
           851872,
           698124,
           589666,
           750572,
           786976,
           1295007,
           516279,
           419121,
           608681,
           363055,
           711848,
           508759,
           2124653,
           617113,
           488463,
           687732,
           503455,
           1365503,
           570471,
           565258,
           493491,
           767695,
           580993,
           584484,
           649919,
           586918,
           553974,
           364667,
           605040,
           530877,
           636899,
           665384,
           1108146,
           374364,
           373493,
           791880,
           553656,
           430658,
           289227,
           1185419,
           1664653,
           455970,
           538727,
           514116,
           514929,
           741161,
           811423,
           596883,
           549816,
           625154,
           490049,
           445094,
           970245,
           400418,
           628682,
           603050,
           449257,
           399789,
           613094,
           470928,
           1173663,
           905137,
           468524,
           853511,
           1056967,
           1522732,
           1122495,
           751872,
           537021,
           357541,
           630831,
           617950,
           480175,
           547683,
           396699,
           569905,
           365097,
           352394,
           942804,
           651643,
           567617,
           778847,
           641047,
           514978,
           978565,
           572689,
           415214,
           587723,
           614092,
           617169,
           866003,
           632812,
           564303,
           903121,
           519686,
           1065811,
           546413,
           502460,
           481110,
           708369,
           1522193,
           523738,
           768420,
           600017,
           459085,
           622827,
           633325,
           1390616,
           523359,
           766124,
           492616,
           333230,
           927404,
           523150,
           355293,
           743901,
           860610,
           490119,
           524540,
           396189,
           477762,
           486204,
           428703,
           489659,
           484811,
           652845,
           648794,
           646210,
           415478,
           619910,
           514874,
           787760,
           1127052,
           1131888,
           425769,
           599698
          ],
          "coloraxis": "coloraxis"
         },
         "name": "",
         "offsetgroup": "",
         "orientation": "v",
         "showlegend": false,
         "textposition": "auto",
         "type": "bar",
         "x": [
          "Agincourt North",
          "Agincourt South-Malvern West",
          "Alderwood",
          "Annex",
          "Banbury-Don Mills",
          "Bathurst Manor",
          "Bay Street Corridor",
          "Bayview Village",
          "Bayview Woods-Steeles",
          "Bedford Park-Nortown",
          "Beechborough-Greenbrook",
          "Bendale",
          "Birchcliffe-Cliffside",
          "Black Creek",
          "Blake-Jones",
          "Briar Hill-Belgravia",
          "Bridle Path-Sunnybrook-York Mills",
          "Broadview North",
          "Brookhaven-Amesbury",
          "Cabbagetown-South St.James Town",
          "Caledonia-Fairbank",
          "Casa Loma",
          "Centennial Scarborough",
          "Church-Yonge Corridor",
          "Clairlea-Birchmount",
          "Clanton Park",
          "Cliffcrest",
          "Corso Italia-Davenport",
          "Danforth",
          "Danforth-East York",
          "Don Valley Village",
          "Dorset Park",
          "Dovercourt-Wallace Emerson-Juncti",
          "Downsview-Roding-CFB",
          "Dufferin Grove",
          "East End-Danforth",
          "Edenbridge-Humber Valley",
          "Eglinton East",
          "Elms-Old Rexdale",
          "Englemount-Lawrence",
          "Eringate-Centennial-West Deane",
          "Etobicoke West Mall",
          "Flemingdon Park",
          "Forest Hill North",
          "Forest Hill South",
          "Glenfield-Jane Heights",
          "Greenwood-Coxwell",
          "Guildwood",
          "Henry Farm",
          "High Park North",
          "High Park-Swansea",
          "Highland Creek",
          "Hillcrest Village",
          "Humber Heights-Westmount",
          "Humber Summit",
          "Humbermede",
          "Humewood-Cedarvale",
          "Ionview",
          "Islington-City Centre West",
          "Junction Area",
          "Keelesdale-Eglinton West",
          "Kennedy Park",
          "Kensington-Chinatown",
          "Kingsview Village-The Westway",
          "Kingsway South",
          "L'Amoreaux",
          "Lambton Baby Point",
          "Lansing-Westgate",
          "Lawrence Park North",
          "Lawrence Park South",
          "Leaside-Bennington",
          "Little Portugal",
          "Long Branch",
          "Malvern",
          "Maple Leaf",
          "Markland Wood",
          "Milliken",
          "Mimico",
          "Morningside",
          "Moss Park",
          "Mount Dennis",
          "Mount Olive-Silverstone-Jamestown",
          "Mount Pleasant East",
          "Mount Pleasant West",
          "New Toronto",
          "Newtonbrook East",
          "Newtonbrook West",
          "Niagara",
          "North Riverdale",
          "North St.James Town",
          "O'Connor-Parkview",
          "Oakridge",
          "Oakwood Village",
          "Old East York",
          "Palmerston-Little Italy",
          "Parkwoods-Donalda",
          "Pelmo Park-Humberlea",
          "Playter Estates-Danforth",
          "Pleasant View",
          "Princess-Rosethorn",
          "Regent Park",
          "Rexdale-Kipling",
          "Rockcliffe-Smythe",
          "Roncesvalles",
          "Rosedale-Moore Park",
          "Rouge",
          "Runnymede-Bloor West Village",
          "Rustic",
          "Scarborough Village",
          "South Parkdale",
          "South Riverdale",
          "St.Andrew-Windfields",
          "Steeles",
          "Stonegate-Queensway",
          "Tam O'Shanter-Sullivan",
          "Taylor-Massey",
          "The Beaches",
          "Thistletown-Beaumond Heights",
          "Thorncliffe Park",
          "Trinity-Bellwoods",
          "University",
          "Victoria Village",
          "Waterfront Communities-The Island",
          "West Hill",
          "West Humber-Clairville",
          "Westminster-Branson",
          "Weston",
          "Weston-Pellam Park",
          "Wexford/Maryvale",
          "Willowdale East",
          "Willowdale West",
          "Willowridge-Martingrove-Richview",
          "Woburn",
          "Woodbine Corridor",
          "Woodbine-Lumsden",
          "Wychwood",
          "Yonge-Eglinton",
          "Yonge-St.Clair",
          "York University Heights",
          "Yorkdale-Glen Park"
         ],
         "xaxis": "x",
         "y": [
          459051,
          465144,
          595608,
          1039687,
          851872,
          698124,
          589666,
          750572,
          786976,
          1295007,
          516279,
          419121,
          608681,
          363055,
          711848,
          508759,
          2124653,
          617113,
          488463,
          687732,
          503455,
          1365503,
          570471,
          565258,
          493491,
          767695,
          580993,
          584484,
          649919,
          586918,
          553974,
          364667,
          605040,
          530877,
          636899,
          665384,
          1108146,
          374364,
          373493,
          791880,
          553656,
          430658,
          289227,
          1185419,
          1664653,
          455970,
          538727,
          514116,
          514929,
          741161,
          811423,
          596883,
          549816,
          625154,
          490049,
          445094,
          970245,
          400418,
          628682,
          603050,
          449257,
          399789,
          613094,
          470928,
          1173663,
          905137,
          468524,
          853511,
          1056967,
          1522732,
          1122495,
          751872,
          537021,
          357541,
          630831,
          617950,
          480175,
          547683,
          396699,
          569905,
          365097,
          352394,
          942804,
          651643,
          567617,
          778847,
          641047,
          514978,
          978565,
          572689,
          415214,
          587723,
          614092,
          617169,
          866003,
          632812,
          564303,
          903121,
          519686,
          1065811,
          546413,
          502460,
          481110,
          708369,
          1522193,
          523738,
          768420,
          600017,
          459085,
          622827,
          633325,
          1390616,
          523359,
          766124,
          492616,
          333230,
          927404,
          523150,
          355293,
          743901,
          860610,
          490119,
          524540,
          396189,
          477762,
          486204,
          428703,
          489659,
          484811,
          652845,
          648794,
          646210,
          415478,
          619910,
          514874,
          787760,
          1127052,
          1131888,
          425769,
          599698
         ],
         "yaxis": "y"
        }
       ],
       "layout": {
        "annotations": [
         {
          "font": {},
          "showarrow": false,
          "text": "year=2016",
          "textangle": 90,
          "x": 0.98,
          "xanchor": "left",
          "xref": "paper",
          "y": 0.11375,
          "yanchor": "middle",
          "yref": "paper"
         },
         {
          "font": {},
          "showarrow": false,
          "text": "year=2011",
          "textangle": 90,
          "x": 0.98,
          "xanchor": "left",
          "xref": "paper",
          "y": 0.37124999999999997,
          "yanchor": "middle",
          "yref": "paper"
         },
         {
          "font": {},
          "showarrow": false,
          "text": "year=2006",
          "textangle": 90,
          "x": 0.98,
          "xanchor": "left",
          "xref": "paper",
          "y": 0.62875,
          "yanchor": "middle",
          "yref": "paper"
         },
         {
          "font": {},
          "showarrow": false,
          "text": "year=2001",
          "textangle": 90,
          "x": 0.98,
          "xanchor": "left",
          "xref": "paper",
          "y": 0.88625,
          "yanchor": "middle",
          "yref": "paper"
         }
        ],
        "autosize": true,
        "barmode": "relative",
        "coloraxis": {
         "colorbar": {
          "title": {
           "text": "Avg. House Value"
          }
         },
         "colorscale": [
          [
           0,
           "#0d0887"
          ],
          [
           0.1111111111111111,
           "#46039f"
          ],
          [
           0.2222222222222222,
           "#7201a8"
          ],
          [
           0.3333333333333333,
           "#9c179e"
          ],
          [
           0.4444444444444444,
           "#bd3786"
          ],
          [
           0.5555555555555556,
           "#d8576b"
          ],
          [
           0.6666666666666666,
           "#ed7953"
          ],
          [
           0.7777777777777778,
           "#fb9f3a"
          ],
          [
           0.8888888888888888,
           "#fdca26"
          ],
          [
           1,
           "#f0f921"
          ]
         ]
        },
        "legend": {
         "tracegroupgap": 0
        },
        "template": {
         "data": {
          "bar": [
           {
            "error_x": {
             "color": "#2a3f5f"
            },
            "error_y": {
             "color": "#2a3f5f"
            },
            "marker": {
             "line": {
              "color": "#E5ECF6",
              "width": 0.5
             }
            },
            "type": "bar"
           }
          ],
          "barpolar": [
           {
            "marker": {
             "line": {
              "color": "#E5ECF6",
              "width": 0.5
             }
            },
            "type": "barpolar"
           }
          ],
          "carpet": [
           {
            "aaxis": {
             "endlinecolor": "#2a3f5f",
             "gridcolor": "white",
             "linecolor": "white",
             "minorgridcolor": "white",
             "startlinecolor": "#2a3f5f"
            },
            "baxis": {
             "endlinecolor": "#2a3f5f",
             "gridcolor": "white",
             "linecolor": "white",
             "minorgridcolor": "white",
             "startlinecolor": "#2a3f5f"
            },
            "type": "carpet"
           }
          ],
          "choropleth": [
           {
            "colorbar": {
             "outlinewidth": 0,
             "ticks": ""
            },
            "type": "choropleth"
           }
          ],
          "contour": [
           {
            "colorbar": {
             "outlinewidth": 0,
             "ticks": ""
            },
            "colorscale": [
             [
              0,
              "#0d0887"
             ],
             [
              0.1111111111111111,
              "#46039f"
             ],
             [
              0.2222222222222222,
              "#7201a8"
             ],
             [
              0.3333333333333333,
              "#9c179e"
             ],
             [
              0.4444444444444444,
              "#bd3786"
             ],
             [
              0.5555555555555556,
              "#d8576b"
             ],
             [
              0.6666666666666666,
              "#ed7953"
             ],
             [
              0.7777777777777778,
              "#fb9f3a"
             ],
             [
              0.8888888888888888,
              "#fdca26"
             ],
             [
              1,
              "#f0f921"
             ]
            ],
            "type": "contour"
           }
          ],
          "contourcarpet": [
           {
            "colorbar": {
             "outlinewidth": 0,
             "ticks": ""
            },
            "type": "contourcarpet"
           }
          ],
          "heatmap": [
           {
            "colorbar": {
             "outlinewidth": 0,
             "ticks": ""
            },
            "colorscale": [
             [
              0,
              "#0d0887"
             ],
             [
              0.1111111111111111,
              "#46039f"
             ],
             [
              0.2222222222222222,
              "#7201a8"
             ],
             [
              0.3333333333333333,
              "#9c179e"
             ],
             [
              0.4444444444444444,
              "#bd3786"
             ],
             [
              0.5555555555555556,
              "#d8576b"
             ],
             [
              0.6666666666666666,
              "#ed7953"
             ],
             [
              0.7777777777777778,
              "#fb9f3a"
             ],
             [
              0.8888888888888888,
              "#fdca26"
             ],
             [
              1,
              "#f0f921"
             ]
            ],
            "type": "heatmap"
           }
          ],
          "heatmapgl": [
           {
            "colorbar": {
             "outlinewidth": 0,
             "ticks": ""
            },
            "colorscale": [
             [
              0,
              "#0d0887"
             ],
             [
              0.1111111111111111,
              "#46039f"
             ],
             [
              0.2222222222222222,
              "#7201a8"
             ],
             [
              0.3333333333333333,
              "#9c179e"
             ],
             [
              0.4444444444444444,
              "#bd3786"
             ],
             [
              0.5555555555555556,
              "#d8576b"
             ],
             [
              0.6666666666666666,
              "#ed7953"
             ],
             [
              0.7777777777777778,
              "#fb9f3a"
             ],
             [
              0.8888888888888888,
              "#fdca26"
             ],
             [
              1,
              "#f0f921"
             ]
            ],
            "type": "heatmapgl"
           }
          ],
          "histogram": [
           {
            "marker": {
             "colorbar": {
              "outlinewidth": 0,
              "ticks": ""
             }
            },
            "type": "histogram"
           }
          ],
          "histogram2d": [
           {
            "colorbar": {
             "outlinewidth": 0,
             "ticks": ""
            },
            "colorscale": [
             [
              0,
              "#0d0887"
             ],
             [
              0.1111111111111111,
              "#46039f"
             ],
             [
              0.2222222222222222,
              "#7201a8"
             ],
             [
              0.3333333333333333,
              "#9c179e"
             ],
             [
              0.4444444444444444,
              "#bd3786"
             ],
             [
              0.5555555555555556,
              "#d8576b"
             ],
             [
              0.6666666666666666,
              "#ed7953"
             ],
             [
              0.7777777777777778,
              "#fb9f3a"
             ],
             [
              0.8888888888888888,
              "#fdca26"
             ],
             [
              1,
              "#f0f921"
             ]
            ],
            "type": "histogram2d"
           }
          ],
          "histogram2dcontour": [
           {
            "colorbar": {
             "outlinewidth": 0,
             "ticks": ""
            },
            "colorscale": [
             [
              0,
              "#0d0887"
             ],
             [
              0.1111111111111111,
              "#46039f"
             ],
             [
              0.2222222222222222,
              "#7201a8"
             ],
             [
              0.3333333333333333,
              "#9c179e"
             ],
             [
              0.4444444444444444,
              "#bd3786"
             ],
             [
              0.5555555555555556,
              "#d8576b"
             ],
             [
              0.6666666666666666,
              "#ed7953"
             ],
             [
              0.7777777777777778,
              "#fb9f3a"
             ],
             [
              0.8888888888888888,
              "#fdca26"
             ],
             [
              1,
              "#f0f921"
             ]
            ],
            "type": "histogram2dcontour"
           }
          ],
          "mesh3d": [
           {
            "colorbar": {
             "outlinewidth": 0,
             "ticks": ""
            },
            "type": "mesh3d"
           }
          ],
          "parcoords": [
           {
            "line": {
             "colorbar": {
              "outlinewidth": 0,
              "ticks": ""
             }
            },
            "type": "parcoords"
           }
          ],
          "pie": [
           {
            "automargin": true,
            "type": "pie"
           }
          ],
          "scatter": [
           {
            "marker": {
             "colorbar": {
              "outlinewidth": 0,
              "ticks": ""
             }
            },
            "type": "scatter"
           }
          ],
          "scatter3d": [
           {
            "line": {
             "colorbar": {
              "outlinewidth": 0,
              "ticks": ""
             }
            },
            "marker": {
             "colorbar": {
              "outlinewidth": 0,
              "ticks": ""
             }
            },
            "type": "scatter3d"
           }
          ],
          "scattercarpet": [
           {
            "marker": {
             "colorbar": {
              "outlinewidth": 0,
              "ticks": ""
             }
            },
            "type": "scattercarpet"
           }
          ],
          "scattergeo": [
           {
            "marker": {
             "colorbar": {
              "outlinewidth": 0,
              "ticks": ""
             }
            },
            "type": "scattergeo"
           }
          ],
          "scattergl": [
           {
            "marker": {
             "colorbar": {
              "outlinewidth": 0,
              "ticks": ""
             }
            },
            "type": "scattergl"
           }
          ],
          "scattermapbox": [
           {
            "marker": {
             "colorbar": {
              "outlinewidth": 0,
              "ticks": ""
             }
            },
            "type": "scattermapbox"
           }
          ],
          "scatterpolar": [
           {
            "marker": {
             "colorbar": {
              "outlinewidth": 0,
              "ticks": ""
             }
            },
            "type": "scatterpolar"
           }
          ],
          "scatterpolargl": [
           {
            "marker": {
             "colorbar": {
              "outlinewidth": 0,
              "ticks": ""
             }
            },
            "type": "scatterpolargl"
           }
          ],
          "scatterternary": [
           {
            "marker": {
             "colorbar": {
              "outlinewidth": 0,
              "ticks": ""
             }
            },
            "type": "scatterternary"
           }
          ],
          "surface": [
           {
            "colorbar": {
             "outlinewidth": 0,
             "ticks": ""
            },
            "colorscale": [
             [
              0,
              "#0d0887"
             ],
             [
              0.1111111111111111,
              "#46039f"
             ],
             [
              0.2222222222222222,
              "#7201a8"
             ],
             [
              0.3333333333333333,
              "#9c179e"
             ],
             [
              0.4444444444444444,
              "#bd3786"
             ],
             [
              0.5555555555555556,
              "#d8576b"
             ],
             [
              0.6666666666666666,
              "#ed7953"
             ],
             [
              0.7777777777777778,
              "#fb9f3a"
             ],
             [
              0.8888888888888888,
              "#fdca26"
             ],
             [
              1,
              "#f0f921"
             ]
            ],
            "type": "surface"
           }
          ],
          "table": [
           {
            "cells": {
             "fill": {
              "color": "#EBF0F8"
             },
             "line": {
              "color": "white"
             }
            },
            "header": {
             "fill": {
              "color": "#C8D4E3"
             },
             "line": {
              "color": "white"
             }
            },
            "type": "table"
           }
          ]
         },
         "layout": {
          "annotationdefaults": {
           "arrowcolor": "#2a3f5f",
           "arrowhead": 0,
           "arrowwidth": 1
          },
          "coloraxis": {
           "colorbar": {
            "outlinewidth": 0,
            "ticks": ""
           }
          },
          "colorscale": {
           "diverging": [
            [
             0,
             "#8e0152"
            ],
            [
             0.1,
             "#c51b7d"
            ],
            [
             0.2,
             "#de77ae"
            ],
            [
             0.3,
             "#f1b6da"
            ],
            [
             0.4,
             "#fde0ef"
            ],
            [
             0.5,
             "#f7f7f7"
            ],
            [
             0.6,
             "#e6f5d0"
            ],
            [
             0.7,
             "#b8e186"
            ],
            [
             0.8,
             "#7fbc41"
            ],
            [
             0.9,
             "#4d9221"
            ],
            [
             1,
             "#276419"
            ]
           ],
           "sequential": [
            [
             0,
             "#0d0887"
            ],
            [
             0.1111111111111111,
             "#46039f"
            ],
            [
             0.2222222222222222,
             "#7201a8"
            ],
            [
             0.3333333333333333,
             "#9c179e"
            ],
            [
             0.4444444444444444,
             "#bd3786"
            ],
            [
             0.5555555555555556,
             "#d8576b"
            ],
            [
             0.6666666666666666,
             "#ed7953"
            ],
            [
             0.7777777777777778,
             "#fb9f3a"
            ],
            [
             0.8888888888888888,
             "#fdca26"
            ],
            [
             1,
             "#f0f921"
            ]
           ],
           "sequentialminus": [
            [
             0,
             "#0d0887"
            ],
            [
             0.1111111111111111,
             "#46039f"
            ],
            [
             0.2222222222222222,
             "#7201a8"
            ],
            [
             0.3333333333333333,
             "#9c179e"
            ],
            [
             0.4444444444444444,
             "#bd3786"
            ],
            [
             0.5555555555555556,
             "#d8576b"
            ],
            [
             0.6666666666666666,
             "#ed7953"
            ],
            [
             0.7777777777777778,
             "#fb9f3a"
            ],
            [
             0.8888888888888888,
             "#fdca26"
            ],
            [
             1,
             "#f0f921"
            ]
           ]
          },
          "colorway": [
           "#636efa",
           "#EF553B",
           "#00cc96",
           "#ab63fa",
           "#FFA15A",
           "#19d3f3",
           "#FF6692",
           "#B6E880",
           "#FF97FF",
           "#FECB52"
          ],
          "font": {
           "color": "#2a3f5f"
          },
          "geo": {
           "bgcolor": "white",
           "lakecolor": "white",
           "landcolor": "#E5ECF6",
           "showlakes": true,
           "showland": true,
           "subunitcolor": "white"
          },
          "hoverlabel": {
           "align": "left"
          },
          "hovermode": "closest",
          "mapbox": {
           "style": "light"
          },
          "paper_bgcolor": "white",
          "plot_bgcolor": "#E5ECF6",
          "polar": {
           "angularaxis": {
            "gridcolor": "white",
            "linecolor": "white",
            "ticks": ""
           },
           "bgcolor": "#E5ECF6",
           "radialaxis": {
            "gridcolor": "white",
            "linecolor": "white",
            "ticks": ""
           }
          },
          "scene": {
           "xaxis": {
            "backgroundcolor": "#E5ECF6",
            "gridcolor": "white",
            "gridwidth": 2,
            "linecolor": "white",
            "showbackground": true,
            "ticks": "",
            "zerolinecolor": "white"
           },
           "yaxis": {
            "backgroundcolor": "#E5ECF6",
            "gridcolor": "white",
            "gridwidth": 2,
            "linecolor": "white",
            "showbackground": true,
            "ticks": "",
            "zerolinecolor": "white"
           },
           "zaxis": {
            "backgroundcolor": "#E5ECF6",
            "gridcolor": "white",
            "gridwidth": 2,
            "linecolor": "white",
            "showbackground": true,
            "ticks": "",
            "zerolinecolor": "white"
           }
          },
          "shapedefaults": {
           "line": {
            "color": "#2a3f5f"
           }
          },
          "ternary": {
           "aaxis": {
            "gridcolor": "white",
            "linecolor": "white",
            "ticks": ""
           },
           "baxis": {
            "gridcolor": "white",
            "linecolor": "white",
            "ticks": ""
           },
           "bgcolor": "#E5ECF6",
           "caxis": {
            "gridcolor": "white",
            "linecolor": "white",
            "ticks": ""
           }
          },
          "title": {
           "x": 0.05
          },
          "xaxis": {
           "automargin": true,
           "gridcolor": "white",
           "linecolor": "white",
           "ticks": "",
           "title": {
            "standoff": 15
           },
           "zerolinecolor": "white",
           "zerolinewidth": 2
          },
          "yaxis": {
           "automargin": true,
           "gridcolor": "white",
           "linecolor": "white",
           "ticks": "",
           "title": {
            "standoff": 15
           },
           "zerolinecolor": "white",
           "zerolinewidth": 2
          }
         }
        },
        "title": {
         "text": "Average House Values in Toronto per Neighbourhood"
        },
        "xaxis": {
         "anchor": "y",
         "autorange": true,
         "domain": [
          0,
          0.98
         ],
         "range": [
          -0.5,
          139.5
         ],
         "title": {
          "text": "Neighbourhoods"
         },
         "type": "category"
        },
        "xaxis2": {
         "anchor": "y2",
         "autorange": true,
         "domain": [
          0,
          0.98
         ],
         "matches": "x",
         "range": [
          -0.5,
          139.5
         ],
         "showticklabels": false,
         "type": "category"
        },
        "xaxis3": {
         "anchor": "y3",
         "autorange": true,
         "domain": [
          0,
          0.98
         ],
         "matches": "x",
         "range": [
          -0.5,
          139.5
         ],
         "showticklabels": false,
         "type": "category"
        },
        "xaxis4": {
         "anchor": "y4",
         "autorange": true,
         "domain": [
          0,
          0.98
         ],
         "matches": "x",
         "range": [
          -0.5,
          139.5
         ],
         "showticklabels": false,
         "type": "category"
        },
        "yaxis": {
         "anchor": "x",
         "autorange": true,
         "domain": [
          0,
          0.2275
         ],
         "range": [
          0,
          2236476.8421052634
         ],
         "title": {
          "text": "Avg. House Value"
         },
         "type": "linear"
        },
        "yaxis2": {
         "anchor": "x2",
         "autorange": true,
         "domain": [
          0.2575,
          0.485
         ],
         "matches": "y",
         "range": [
          0,
          2236476.8421052634
         ],
         "title": {
          "text": "Avg. House Value"
         },
         "type": "linear"
        },
        "yaxis3": {
         "anchor": "x3",
         "autorange": true,
         "domain": [
          0.515,
          0.7425
         ],
         "matches": "y",
         "range": [
          0,
          2236476.8421052634
         ],
         "title": {
          "text": "Avg. House Value"
         },
         "type": "linear"
        },
        "yaxis4": {
         "anchor": "x4",
         "autorange": true,
         "domain": [
          0.7725,
          1
         ],
         "matches": "y",
         "range": [
          0,
          2236476.8421052634
         ],
         "title": {
          "text": "Avg. House Value"
         },
         "type": "linear"
        }
       }
      },
      "image/png": "[encoded data removed]",
      "text/html": [
       "<div>\n",
       "        \n",
       "        \n",
       "            <div id=\"24b6f220-d63c-4d5e-866b-af04270df0c1\" class=\"plotly-graph-div\" style=\"height:1024px; width:100%;\"></div>\n",
       "            <script type=\"text/javascript\">\n",
       "                require([\"plotly\"], function(Plotly) {\n",
       "                    window.PLOTLYENV=window.PLOTLYENV || {};\n",
       "                    \n",
       "                if (document.getElementById(\"24b6f220-d63c-4d5e-866b-af04270df0c1\")) {\n",
       "                    Plotly.newPlot(\n",
       "                        '24b6f220-d63c-4d5e-866b-af04270df0c1',\n",
       "                        [{\"alignmentgroup\": \"True\", \"hovertemplate\": \"year=2001<br>Neighbourhoods=%{x}<br>Avg. House Value=%{marker.color}<extra></extra>\", \"legendgroup\": \"\", \"marker\": {\"color\": [200388, 203047, 259998, 453850, 371864, 304749, 257404, 327644, 343535, 565304, 225369, 182957, 265705, 158483, 310740, 222086, 927466, 269386, 213227, 300213, 219771, 596077, 249025, 246750, 215421, 335119, 253618, 255142, 283706, 256205, 241824, 159187, 264116, 231741, 278023, 290457, 483734, 163419, 163039, 345676, 241685, 187993, 126255, 517466, 726664, 199043, 235168, 224425, 224780, 323536, 354207, 260555, 240009, 272896, 213919, 194295, 423537, 174793, 274436, 263247, 196112, 174518, 267631, 205572, 512334, 395115, 204523, 372579, 461393, 664712, 489998, 328211, 234424, 156076, 275374, 269751, 209609, 239078, 173169, 248778, 159374, 153829, 411558, 284459, 247779, 339987, 279833, 224801, 427169, 249993, 181251, 256556, 268067, 269410, 378033, 276239, 246333, 394235, 226856, 465254, 238524, 219337, 210017, 309221, 664476, 228625, 335435, 261923, 200402, 271880, 276462, 607040, 228460, 334433, 215039, 145464, 404836, 228368, 155094, 324732, 375678, 213950, 228975, 172947, 208555, 212241, 187140, 213749, 211633, 284984, 283215, 282087, 181367, 270607, 224756, 343877, 491987, 494098, 185859, 261784], \"coloraxis\": \"coloraxis\"}, \"name\": \"\", \"offsetgroup\": \"\", \"orientation\": \"v\", \"showlegend\": false, \"textposition\": \"auto\", \"type\": \"bar\", \"x\": [\"Agincourt North\", \"Agincourt South-Malvern West\", \"Alderwood\", \"Annex\", \"Banbury-Don Mills\", \"Bathurst Manor\", \"Bay Street Corridor\", \"Bayview Village\", \"Bayview Woods-Steeles\", \"Bedford Park-Nortown\", \"Beechborough-Greenbrook\", \"Bendale\", \"Birchcliffe-Cliffside\", \"Black Creek\", \"Blake-Jones\", \"Briar Hill-Belgravia\", \"Bridle Path-Sunnybrook-York Mills\", \"Broadview North\", \"Brookhaven-Amesbury\", \"Cabbagetown-South St.James Town\", \"Caledonia-Fairbank\", \"Casa Loma\", \"Centennial Scarborough\", \"Church-Yonge Corridor\", \"Clairlea-Birchmount\", \"Clanton Park\", \"Cliffcrest\", \"Corso Italia-Davenport\", \"Danforth\", \"Danforth-East York\", \"Don Valley Village\", \"Dorset Park\", \"Dovercourt-Wallace Emerson-Juncti\", \"Downsview-Roding-CFB\", \"Dufferin Grove\", \"East End-Danforth\", \"Edenbridge-Humber Valley\", \"Eglinton East\", \"Elms-Old Rexdale\", \"Englemount-Lawrence\", \"Eringate-Centennial-West Deane\", \"Etobicoke West Mall\", \"Flemingdon Park\", \"Forest Hill North\", \"Forest Hill South\", \"Glenfield-Jane Heights\", \"Greenwood-Coxwell\", \"Guildwood\", \"Henry Farm\", \"High Park North\", \"High Park-Swansea\", \"Highland Creek\", \"Hillcrest Village\", \"Humber Heights-Westmount\", \"Humber Summit\", \"Humbermede\", \"Humewood-Cedarvale\", \"Ionview\", \"Islington-City Centre West\", \"Junction Area\", \"Keelesdale-Eglinton West\", \"Kennedy Park\", \"Kensington-Chinatown\", \"Kingsview Village-The Westway\", \"Kingsway South\", \"L'Amoreaux\", \"Lambton Baby Point\", \"Lansing-Westgate\", \"Lawrence Park North\", \"Lawrence Park South\", \"Leaside-Bennington\", \"Little Portugal\", \"Long Branch\", \"Malvern\", \"Maple Leaf\", \"Markland Wood\", \"Milliken\", \"Mimico\", \"Morningside\", \"Moss Park\", \"Mount Dennis\", \"Mount Olive-Silverstone-Jamestown\", \"Mount Pleasant East\", \"Mount Pleasant West\", \"New Toronto\", \"Newtonbrook East\", \"Newtonbrook West\", \"Niagara\", \"North Riverdale\", \"North St.James Town\", \"O'Connor-Parkview\", \"Oakridge\", \"Oakwood Village\", \"Old East York\", \"Palmerston-Little Italy\", \"Parkwoods-Donalda\", \"Pelmo Park-Humberlea\", \"Playter Estates-Danforth\", \"Pleasant View\", \"Princess-Rosethorn\", \"Regent Park\", \"Rexdale-Kipling\", \"Rockcliffe-Smythe\", \"Roncesvalles\", \"Rosedale-Moore Park\", \"Rouge\", \"Runnymede-Bloor West Village\", \"Rustic\", \"Scarborough Village\", \"South Parkdale\", \"South Riverdale\", \"St.Andrew-Windfields\", \"Steeles\", \"Stonegate-Queensway\", \"Tam O'Shanter-Sullivan\", \"Taylor-Massey\", \"The Beaches\", \"Thistletown-Beaumond Heights\", \"Thorncliffe Park\", \"Trinity-Bellwoods\", \"University\", \"Victoria Village\", \"Waterfront Communities-The Island\", \"West Hill\", \"West Humber-Clairville\", \"Westminster-Branson\", \"Weston\", \"Weston-Pellam Park\", \"Wexford/Maryvale\", \"Willowdale East\", \"Willowdale West\", \"Willowridge-Martingrove-Richview\", \"Woburn\", \"Woodbine Corridor\", \"Woodbine-Lumsden\", \"Wychwood\", \"Yonge-Eglinton\", \"Yonge-St.Clair\", \"York University Heights\", \"Yorkdale-Glen Park\"], \"xaxis\": \"x4\", \"y\": [200388, 203047, 259998, 453850, 371864, 304749, 257404, 327644, 343535, 565304, 225369, 182957, 265705, 158483, 310740, 222086, 927466, 269386, 213227, 300213, 219771, 596077, 249025, 246750, 215421, 335119, 253618, 255142, 283706, 256205, 241824, 159187, 264116, 231741, 278023, 290457, 483734, 163419, 163039, 345676, 241685, 187993, 126255, 517466, 726664, 199043, 235168, 224425, 224780, 323536, 354207, 260555, 240009, 272896, 213919, 194295, 423537, 174793, 274436, 263247, 196112, 174518, 267631, 205572, 512334, 395115, 204523, 372579, 461393, 664712, 489998, 328211, 234424, 156076, 275374, 269751, 209609, 239078, 173169, 248778, 159374, 153829, 411558, 284459, 247779, 339987, 279833, 224801, 427169, 249993, 181251, 256556, 268067, 269410, 378033, 276239, 246333, 394235, 226856, 465254, 238524, 219337, 210017, 309221, 664476, 228625, 335435, 261923, 200402, 271880, 276462, 607040, 228460, 334433, 215039, 145464, 404836, 228368, 155094, 324732, 375678, 213950, 228975, 172947, 208555, 212241, 187140, 213749, 211633, 284984, 283215, 282087, 181367, 270607, 224756, 343877, 491987, 494098, 185859, 261784], \"yaxis\": \"y4\"}, {\"alignmentgroup\": \"True\", \"hovertemplate\": \"year=2006<br>Neighbourhoods=%{x}<br>Avg. House Value=%{marker.color}<extra></extra>\", \"legendgroup\": \"\", \"marker\": {\"color\": [293140, 297031, 380342, 663921, 543987, 445807, 376548, 479299, 502546, 826963, 329685, 267642, 388690, 231839, 454571, 324882, 1356757, 394075, 311922, 439171, 321496, 871981, 364291, 360962, 315133, 490234, 371009, 373239, 415024, 374793, 353756, 232869, 386366, 339006, 406710, 424900, 707638, 239060, 238505, 505677, 353553, 275009, 184694, 756983, 1063011, 291172, 344019, 328303, 328823, 473289, 518157, 381156, 351101, 399210, 312935, 284227, 619577, 255698, 401463, 385094, 286886, 255296, 391509, 300725, 749476, 578001, 299190, 545034, 674957, 972384, 716801, 480129, 342930, 228318, 402835, 394610, 306629, 349739, 253323, 363929, 233143, 225031, 602054, 416125, 362468, 497355, 409358, 328854, 624890, 365706, 265146, 375307, 392146, 394111, 553011, 404100, 360352, 576713, 331860, 680604, 348928, 320860, 307227, 452349, 972039, 334448, 490697, 383158, 293162, 397724, 404427, 888017, 334206, 489230, 314574, 212794, 592220, 334072, 226882, 475039, 549567, 312980, 334960, 252998, 305088, 310480, 273761, 312685, 309590, 416893, 414306, 412655, 265315, 395861, 328788, 503046, 719711, 722799, 271887, 382954], \"coloraxis\": \"coloraxis\"}, \"name\": \"\", \"offsetgroup\": \"\", \"orientation\": \"v\", \"showlegend\": false, \"textposition\": \"auto\", \"type\": \"bar\", \"x\": [\"Agincourt North\", \"Agincourt South-Malvern West\", \"Alderwood\", \"Annex\", \"Banbury-Don Mills\", \"Bathurst Manor\", \"Bay Street Corridor\", \"Bayview Village\", \"Bayview Woods-Steeles\", \"Bedford Park-Nortown\", \"Beechborough-Greenbrook\", \"Bendale\", \"Birchcliffe-Cliffside\", \"Black Creek\", \"Blake-Jones\", \"Briar Hill-Belgravia\", \"Bridle Path-Sunnybrook-York Mills\", \"Broadview North\", \"Brookhaven-Amesbury\", \"Cabbagetown-South St.James Town\", \"Caledonia-Fairbank\", \"Casa Loma\", \"Centennial Scarborough\", \"Church-Yonge Corridor\", \"Clairlea-Birchmount\", \"Clanton Park\", \"Cliffcrest\", \"Corso Italia-Davenport\", \"Danforth\", \"Danforth-East York\", \"Don Valley Village\", \"Dorset Park\", \"Dovercourt-Wallace Emerson-Juncti\", \"Downsview-Roding-CFB\", \"Dufferin Grove\", \"East End-Danforth\", \"Edenbridge-Humber Valley\", \"Eglinton East\", \"Elms-Old Rexdale\", \"Englemount-Lawrence\", \"Eringate-Centennial-West Deane\", \"Etobicoke West Mall\", \"Flemingdon Park\", \"Forest Hill North\", \"Forest Hill South\", \"Glenfield-Jane Heights\", \"Greenwood-Coxwell\", \"Guildwood\", \"Henry Farm\", \"High Park North\", \"High Park-Swansea\", \"Highland Creek\", \"Hillcrest Village\", \"Humber Heights-Westmount\", \"Humber Summit\", \"Humbermede\", \"Humewood-Cedarvale\", \"Ionview\", \"Islington-City Centre West\", \"Junction Area\", \"Keelesdale-Eglinton West\", \"Kennedy Park\", \"Kensington-Chinatown\", \"Kingsview Village-The Westway\", \"Kingsway South\", \"L'Amoreaux\", \"Lambton Baby Point\", \"Lansing-Westgate\", \"Lawrence Park North\", \"Lawrence Park South\", \"Leaside-Bennington\", \"Little Portugal\", \"Long Branch\", \"Malvern\", \"Maple Leaf\", \"Markland Wood\", \"Milliken\", \"Mimico\", \"Morningside\", \"Moss Park\", \"Mount Dennis\", \"Mount Olive-Silverstone-Jamestown\", \"Mount Pleasant East\", \"Mount Pleasant West\", \"New Toronto\", \"Newtonbrook East\", \"Newtonbrook West\", \"Niagara\", \"North Riverdale\", \"North St.James Town\", \"O'Connor-Parkview\", \"Oakridge\", \"Oakwood Village\", \"Old East York\", \"Palmerston-Little Italy\", \"Parkwoods-Donalda\", \"Pelmo Park-Humberlea\", \"Playter Estates-Danforth\", \"Pleasant View\", \"Princess-Rosethorn\", \"Regent Park\", \"Rexdale-Kipling\", \"Rockcliffe-Smythe\", \"Roncesvalles\", \"Rosedale-Moore Park\", \"Rouge\", \"Runnymede-Bloor West Village\", \"Rustic\", \"Scarborough Village\", \"South Parkdale\", \"South Riverdale\", \"St.Andrew-Windfields\", \"Steeles\", \"Stonegate-Queensway\", \"Tam O'Shanter-Sullivan\", \"Taylor-Massey\", \"The Beaches\", \"Thistletown-Beaumond Heights\", \"Thorncliffe Park\", \"Trinity-Bellwoods\", \"University\", \"Victoria Village\", \"Waterfront Communities-The Island\", \"West Hill\", \"West Humber-Clairville\", \"Westminster-Branson\", \"Weston\", \"Weston-Pellam Park\", \"Wexford/Maryvale\", \"Willowdale East\", \"Willowdale West\", \"Willowridge-Martingrove-Richview\", \"Woburn\", \"Woodbine Corridor\", \"Woodbine-Lumsden\", \"Wychwood\", \"Yonge-Eglinton\", \"Yonge-St.Clair\", \"York University Heights\", \"Yorkdale-Glen Park\"], \"xaxis\": \"x3\", \"y\": [293140, 297031, 380342, 663921, 543987, 445807, 376548, 479299, 502546, 826963, 329685, 267642, 388690, 231839, 454571, 324882, 1356757, 394075, 311922, 439171, 321496, 871981, 364291, 360962, 315133, 490234, 371009, 373239, 415024, 374793, 353756, 232869, 386366, 339006, 406710, 424900, 707638, 239060, 238505, 505677, 353553, 275009, 184694, 756983, 1063011, 291172, 344019, 328303, 328823, 473289, 518157, 381156, 351101, 399210, 312935, 284227, 619577, 255698, 401463, 385094, 286886, 255296, 391509, 300725, 749476, 578001, 299190, 545034, 674957, 972384, 716801, 480129, 342930, 228318, 402835, 394610, 306629, 349739, 253323, 363929, 233143, 225031, 602054, 416125, 362468, 497355, 409358, 328854, 624890, 365706, 265146, 375307, 392146, 394111, 553011, 404100, 360352, 576713, 331860, 680604, 348928, 320860, 307227, 452349, 972039, 334448, 490697, 383158, 293162, 397724, 404427, 888017, 334206, 489230, 314574, 212794, 592220, 334072, 226882, 475039, 549567, 312980, 334960, 252998, 305088, 310480, 273761, 312685, 309590, 416893, 414306, 412655, 265315, 395861, 328788, 503046, 719711, 722799, 271887, 382954], \"yaxis\": \"y3\"}, {\"alignmentgroup\": \"True\", \"hovertemplate\": \"year=2011<br>Neighbourhoods=%{x}<br>Avg. House Value=%{marker.color}<extra></extra>\", \"legendgroup\": \"\", \"marker\": {\"color\": [366667, 371534, 475742, 830450, 680433, 557627, 470996, 599520, 628597, 1034387, 412378, 334773, 486184, 289990, 568589, 406371, 1697067, 492919, 390160, 549326, 402135, 1090696, 455664, 451500, 394176, 613197, 464068, 466857, 519123, 468801, 442487, 291278, 483276, 424038, 508723, 531476, 885132, 299023, 298328, 632514, 442233, 343988, 231020, 946854, 1329642, 364206, 430308, 410650, 411300, 592002, 648124, 476760, 439166, 499342, 391427, 355519, 774983, 319834, 502160, 481686, 358844, 319331, 489709, 376154, 937464, 722978, 374234, 681742, 844253, 1216283, 896593, 600558, 428946, 285586, 503876, 493588, 383540, 437462, 316863, 455212, 291621, 281475, 753065, 520500, 453384, 622104, 512036, 411339, 781629, 457435, 331652, 469444, 490506, 492964, 691720, 505459, 450737, 721368, 415099, 851317, 436448, 401340, 384287, 565810, 1215852, 418336, 613776, 479264, 366694, 497483, 505868, 1110755, 418033, 611942, 393477, 266168, 740764, 417866, 283790, 594191, 687412, 391483, 418977, 316456, 381612, 388356, 342427, 391115, 387243, 521460, 518224, 516160, 331863, 495153, 411256, 629223, 900233, 904096, 340083, 479009], \"coloraxis\": \"coloraxis\"}, \"name\": \"\", \"offsetgroup\": \"\", \"orientation\": \"v\", \"showlegend\": false, \"textposition\": \"auto\", \"type\": \"bar\", \"x\": [\"Agincourt North\", \"Agincourt South-Malvern West\", \"Alderwood\", \"Annex\", \"Banbury-Don Mills\", \"Bathurst Manor\", \"Bay Street Corridor\", \"Bayview Village\", \"Bayview Woods-Steeles\", \"Bedford Park-Nortown\", \"Beechborough-Greenbrook\", \"Bendale\", \"Birchcliffe-Cliffside\", \"Black Creek\", \"Blake-Jones\", \"Briar Hill-Belgravia\", \"Bridle Path-Sunnybrook-York Mills\", \"Broadview North\", \"Brookhaven-Amesbury\", \"Cabbagetown-South St.James Town\", \"Caledonia-Fairbank\", \"Casa Loma\", \"Centennial Scarborough\", \"Church-Yonge Corridor\", \"Clairlea-Birchmount\", \"Clanton Park\", \"Cliffcrest\", \"Corso Italia-Davenport\", \"Danforth\", \"Danforth-East York\", \"Don Valley Village\", \"Dorset Park\", \"Dovercourt-Wallace Emerson-Juncti\", \"Downsview-Roding-CFB\", \"Dufferin Grove\", \"East End-Danforth\", \"Edenbridge-Humber Valley\", \"Eglinton East\", \"Elms-Old Rexdale\", \"Englemount-Lawrence\", \"Eringate-Centennial-West Deane\", \"Etobicoke West Mall\", \"Flemingdon Park\", \"Forest Hill North\", \"Forest Hill South\", \"Glenfield-Jane Heights\", \"Greenwood-Coxwell\", \"Guildwood\", \"Henry Farm\", \"High Park North\", \"High Park-Swansea\", \"Highland Creek\", \"Hillcrest Village\", \"Humber Heights-Westmount\", \"Humber Summit\", \"Humbermede\", \"Humewood-Cedarvale\", \"Ionview\", \"Islington-City Centre West\", \"Junction Area\", \"Keelesdale-Eglinton West\", \"Kennedy Park\", \"Kensington-Chinatown\", \"Kingsview Village-The Westway\", \"Kingsway South\", \"L'Amoreaux\", \"Lambton Baby Point\", \"Lansing-Westgate\", \"Lawrence Park North\", \"Lawrence Park South\", \"Leaside-Bennington\", \"Little Portugal\", \"Long Branch\", \"Malvern\", \"Maple Leaf\", \"Markland Wood\", \"Milliken\", \"Mimico\", \"Morningside\", \"Moss Park\", \"Mount Dennis\", \"Mount Olive-Silverstone-Jamestown\", \"Mount Pleasant East\", \"Mount Pleasant West\", \"New Toronto\", \"Newtonbrook East\", \"Newtonbrook West\", \"Niagara\", \"North Riverdale\", \"North St.James Town\", \"O'Connor-Parkview\", \"Oakridge\", \"Oakwood Village\", \"Old East York\", \"Palmerston-Little Italy\", \"Parkwoods-Donalda\", \"Pelmo Park-Humberlea\", \"Playter Estates-Danforth\", \"Pleasant View\", \"Princess-Rosethorn\", \"Regent Park\", \"Rexdale-Kipling\", \"Rockcliffe-Smythe\", \"Roncesvalles\", \"Rosedale-Moore Park\", \"Rouge\", \"Runnymede-Bloor West Village\", \"Rustic\", \"Scarborough Village\", \"South Parkdale\", \"South Riverdale\", \"St.Andrew-Windfields\", \"Steeles\", \"Stonegate-Queensway\", \"Tam O'Shanter-Sullivan\", \"Taylor-Massey\", \"The Beaches\", \"Thistletown-Beaumond Heights\", \"Thorncliffe Park\", \"Trinity-Bellwoods\", \"University\", \"Victoria Village\", \"Waterfront Communities-The Island\", \"West Hill\", \"West Humber-Clairville\", \"Westminster-Branson\", \"Weston\", \"Weston-Pellam Park\", \"Wexford/Maryvale\", \"Willowdale East\", \"Willowdale West\", \"Willowridge-Martingrove-Richview\", \"Woburn\", \"Woodbine Corridor\", \"Woodbine-Lumsden\", \"Wychwood\", \"Yonge-Eglinton\", \"Yonge-St.Clair\", \"York University Heights\", \"Yorkdale-Glen Park\"], \"xaxis\": \"x2\", \"y\": [366667, 371534, 475742, 830450, 680433, 557627, 470996, 599520, 628597, 1034387, 412378, 334773, 486184, 289990, 568589, 406371, 1697067, 492919, 390160, 549326, 402135, 1090696, 455664, 451500, 394176, 613197, 464068, 466857, 519123, 468801, 442487, 291278, 483276, 424038, 508723, 531476, 885132, 299023, 298328, 632514, 442233, 343988, 231020, 946854, 1329642, 364206, 430308, 410650, 411300, 592002, 648124, 476760, 439166, 499342, 391427, 355519, 774983, 319834, 502160, 481686, 358844, 319331, 489709, 376154, 937464, 722978, 374234, 681742, 844253, 1216283, 896593, 600558, 428946, 285586, 503876, 493588, 383540, 437462, 316863, 455212, 291621, 281475, 753065, 520500, 453384, 622104, 512036, 411339, 781629, 457435, 331652, 469444, 490506, 492964, 691720, 505459, 450737, 721368, 415099, 851317, 436448, 401340, 384287, 565810, 1215852, 418336, 613776, 479264, 366694, 497483, 505868, 1110755, 418033, 611942, 393477, 266168, 740764, 417866, 283790, 594191, 687412, 391483, 418977, 316456, 381612, 388356, 342427, 391115, 387243, 521460, 518224, 516160, 331863, 495153, 411256, 629223, 900233, 904096, 340083, 479009], \"yaxis\": \"y2\"}, {\"alignmentgroup\": \"True\", \"hovertemplate\": \"year=2016<br>Neighbourhoods=%{x}<br>Avg. House Value=%{marker.color}<extra></extra>\", \"legendgroup\": \"\", \"marker\": {\"color\": [459051, 465144, 595608, 1039687, 851872, 698124, 589666, 750572, 786976, 1295007, 516279, 419121, 608681, 363055, 711848, 508759, 2124653, 617113, 488463, 687732, 503455, 1365503, 570471, 565258, 493491, 767695, 580993, 584484, 649919, 586918, 553974, 364667, 605040, 530877, 636899, 665384, 1108146, 374364, 373493, 791880, 553656, 430658, 289227, 1185419, 1664653, 455970, 538727, 514116, 514929, 741161, 811423, 596883, 549816, 625154, 490049, 445094, 970245, 400418, 628682, 603050, 449257, 399789, 613094, 470928, 1173663, 905137, 468524, 853511, 1056967, 1522732, 1122495, 751872, 537021, 357541, 630831, 617950, 480175, 547683, 396699, 569905, 365097, 352394, 942804, 651643, 567617, 778847, 641047, 514978, 978565, 572689, 415214, 587723, 614092, 617169, 866003, 632812, 564303, 903121, 519686, 1065811, 546413, 502460, 481110, 708369, 1522193, 523738, 768420, 600017, 459085, 622827, 633325, 1390616, 523359, 766124, 492616, 333230, 927404, 523150, 355293, 743901, 860610, 490119, 524540, 396189, 477762, 486204, 428703, 489659, 484811, 652845, 648794, 646210, 415478, 619910, 514874, 787760, 1127052, 1131888, 425769, 599698], \"coloraxis\": \"coloraxis\"}, \"name\": \"\", \"offsetgroup\": \"\", \"orientation\": \"v\", \"showlegend\": false, \"textposition\": \"auto\", \"type\": \"bar\", \"x\": [\"Agincourt North\", \"Agincourt South-Malvern West\", \"Alderwood\", \"Annex\", \"Banbury-Don Mills\", \"Bathurst Manor\", \"Bay Street Corridor\", \"Bayview Village\", \"Bayview Woods-Steeles\", \"Bedford Park-Nortown\", \"Beechborough-Greenbrook\", \"Bendale\", \"Birchcliffe-Cliffside\", \"Black Creek\", \"Blake-Jones\", \"Briar Hill-Belgravia\", \"Bridle Path-Sunnybrook-York Mills\", \"Broadview North\", \"Brookhaven-Amesbury\", \"Cabbagetown-South St.James Town\", \"Caledonia-Fairbank\", \"Casa Loma\", \"Centennial Scarborough\", \"Church-Yonge Corridor\", \"Clairlea-Birchmount\", \"Clanton Park\", \"Cliffcrest\", \"Corso Italia-Davenport\", \"Danforth\", \"Danforth-East York\", \"Don Valley Village\", \"Dorset Park\", \"Dovercourt-Wallace Emerson-Juncti\", \"Downsview-Roding-CFB\", \"Dufferin Grove\", \"East End-Danforth\", \"Edenbridge-Humber Valley\", \"Eglinton East\", \"Elms-Old Rexdale\", \"Englemount-Lawrence\", \"Eringate-Centennial-West Deane\", \"Etobicoke West Mall\", \"Flemingdon Park\", \"Forest Hill North\", \"Forest Hill South\", \"Glenfield-Jane Heights\", \"Greenwood-Coxwell\", \"Guildwood\", \"Henry Farm\", \"High Park North\", \"High Park-Swansea\", \"Highland Creek\", \"Hillcrest Village\", \"Humber Heights-Westmount\", \"Humber Summit\", \"Humbermede\", \"Humewood-Cedarvale\", \"Ionview\", \"Islington-City Centre West\", \"Junction Area\", \"Keelesdale-Eglinton West\", \"Kennedy Park\", \"Kensington-Chinatown\", \"Kingsview Village-The Westway\", \"Kingsway South\", \"L'Amoreaux\", \"Lambton Baby Point\", \"Lansing-Westgate\", \"Lawrence Park North\", \"Lawrence Park South\", \"Leaside-Bennington\", \"Little Portugal\", \"Long Branch\", \"Malvern\", \"Maple Leaf\", \"Markland Wood\", \"Milliken\", \"Mimico\", \"Morningside\", \"Moss Park\", \"Mount Dennis\", \"Mount Olive-Silverstone-Jamestown\", \"Mount Pleasant East\", \"Mount Pleasant West\", \"New Toronto\", \"Newtonbrook East\", \"Newtonbrook West\", \"Niagara\", \"North Riverdale\", \"North St.James Town\", \"O'Connor-Parkview\", \"Oakridge\", \"Oakwood Village\", \"Old East York\", \"Palmerston-Little Italy\", \"Parkwoods-Donalda\", \"Pelmo Park-Humberlea\", \"Playter Estates-Danforth\", \"Pleasant View\", \"Princess-Rosethorn\", \"Regent Park\", \"Rexdale-Kipling\", \"Rockcliffe-Smythe\", \"Roncesvalles\", \"Rosedale-Moore Park\", \"Rouge\", \"Runnymede-Bloor West Village\", \"Rustic\", \"Scarborough Village\", \"South Parkdale\", \"South Riverdale\", \"St.Andrew-Windfields\", \"Steeles\", \"Stonegate-Queensway\", \"Tam O'Shanter-Sullivan\", \"Taylor-Massey\", \"The Beaches\", \"Thistletown-Beaumond Heights\", \"Thorncliffe Park\", \"Trinity-Bellwoods\", \"University\", \"Victoria Village\", \"Waterfront Communities-The Island\", \"West Hill\", \"West Humber-Clairville\", \"Westminster-Branson\", \"Weston\", \"Weston-Pellam Park\", \"Wexford/Maryvale\", \"Willowdale East\", \"Willowdale West\", \"Willowridge-Martingrove-Richview\", \"Woburn\", \"Woodbine Corridor\", \"Woodbine-Lumsden\", \"Wychwood\", \"Yonge-Eglinton\", \"Yonge-St.Clair\", \"York University Heights\", \"Yorkdale-Glen Park\"], \"xaxis\": \"x\", \"y\": [459051, 465144, 595608, 1039687, 851872, 698124, 589666, 750572, 786976, 1295007, 516279, 419121, 608681, 363055, 711848, 508759, 2124653, 617113, 488463, 687732, 503455, 1365503, 570471, 565258, 493491, 767695, 580993, 584484, 649919, 586918, 553974, 364667, 605040, 530877, 636899, 665384, 1108146, 374364, 373493, 791880, 553656, 430658, 289227, 1185419, 1664653, 455970, 538727, 514116, 514929, 741161, 811423, 596883, 549816, 625154, 490049, 445094, 970245, 400418, 628682, 603050, 449257, 399789, 613094, 470928, 1173663, 905137, 468524, 853511, 1056967, 1522732, 1122495, 751872, 537021, 357541, 630831, 617950, 480175, 547683, 396699, 569905, 365097, 352394, 942804, 651643, 567617, 778847, 641047, 514978, 978565, 572689, 415214, 587723, 614092, 617169, 866003, 632812, 564303, 903121, 519686, 1065811, 546413, 502460, 481110, 708369, 1522193, 523738, 768420, 600017, 459085, 622827, 633325, 1390616, 523359, 766124, 492616, 333230, 927404, 523150, 355293, 743901, 860610, 490119, 524540, 396189, 477762, 486204, 428703, 489659, 484811, 652845, 648794, 646210, 415478, 619910, 514874, 787760, 1127052, 1131888, 425769, 599698], \"yaxis\": \"y\"}],\n",
       "                        {\"annotations\": [{\"font\": {}, \"showarrow\": false, \"text\": \"year=2016\", \"textangle\": 90, \"x\": 0.98, \"xanchor\": \"left\", \"xref\": \"paper\", \"y\": 0.11375, \"yanchor\": \"middle\", \"yref\": \"paper\"}, {\"font\": {}, \"showarrow\": false, \"text\": \"year=2011\", \"textangle\": 90, \"x\": 0.98, \"xanchor\": \"left\", \"xref\": \"paper\", \"y\": 0.37124999999999997, \"yanchor\": \"middle\", \"yref\": \"paper\"}, {\"font\": {}, \"showarrow\": false, \"text\": \"year=2006\", \"textangle\": 90, \"x\": 0.98, \"xanchor\": \"left\", \"xref\": \"paper\", \"y\": 0.62875, \"yanchor\": \"middle\", \"yref\": \"paper\"}, {\"font\": {}, \"showarrow\": false, \"text\": \"year=2001\", \"textangle\": 90, \"x\": 0.98, \"xanchor\": \"left\", \"xref\": \"paper\", \"y\": 0.88625, \"yanchor\": \"middle\", \"yref\": \"paper\"}], \"barmode\": \"relative\", \"coloraxis\": {\"colorbar\": {\"title\": {\"text\": \"Avg. House Value\"}}, \"colorscale\": [[0.0, \"#0d0887\"], [0.1111111111111111, \"#46039f\"], [0.2222222222222222, \"#7201a8\"], [0.3333333333333333, \"#9c179e\"], [0.4444444444444444, \"#bd3786\"], [0.5555555555555556, \"#d8576b\"], [0.6666666666666666, \"#ed7953\"], [0.7777777777777778, \"#fb9f3a\"], [0.8888888888888888, \"#fdca26\"], [1.0, \"#f0f921\"]]}, \"height\": 1024, \"legend\": {\"tracegroupgap\": 0}, \"template\": {\"data\": {\"bar\": [{\"error_x\": {\"color\": \"#2a3f5f\"}, \"error_y\": {\"color\": \"#2a3f5f\"}, \"marker\": {\"line\": {\"color\": \"#E5ECF6\", \"width\": 0.5}}, \"type\": \"bar\"}], \"barpolar\": [{\"marker\": {\"line\": {\"color\": \"#E5ECF6\", \"width\": 0.5}}, \"type\": \"barpolar\"}], \"carpet\": [{\"aaxis\": {\"endlinecolor\": \"#2a3f5f\", \"gridcolor\": \"white\", \"linecolor\": \"white\", \"minorgridcolor\": \"white\", \"startlinecolor\": \"#2a3f5f\"}, \"baxis\": {\"endlinecolor\": \"#2a3f5f\", \"gridcolor\": \"white\", \"linecolor\": \"white\", \"minorgridcolor\": \"white\", \"startlinecolor\": \"#2a3f5f\"}, \"type\": \"carpet\"}], \"choropleth\": [{\"colorbar\": {\"outlinewidth\": 0, \"ticks\": \"\"}, \"type\": \"choropleth\"}], \"contour\": [{\"colorbar\": {\"outlinewidth\": 0, \"ticks\": \"\"}, \"colorscale\": [[0.0, \"#0d0887\"], [0.1111111111111111, \"#46039f\"], [0.2222222222222222, \"#7201a8\"], [0.3333333333333333, \"#9c179e\"], [0.4444444444444444, \"#bd3786\"], [0.5555555555555556, \"#d8576b\"], [0.6666666666666666, \"#ed7953\"], [0.7777777777777778, \"#fb9f3a\"], [0.8888888888888888, \"#fdca26\"], [1.0, \"#f0f921\"]], \"type\": \"contour\"}], \"contourcarpet\": [{\"colorbar\": {\"outlinewidth\": 0, \"ticks\": \"\"}, \"type\": \"contourcarpet\"}], \"heatmap\": [{\"colorbar\": {\"outlinewidth\": 0, \"ticks\": \"\"}, \"colorscale\": [[0.0, \"#0d0887\"], [0.1111111111111111, \"#46039f\"], [0.2222222222222222, \"#7201a8\"], [0.3333333333333333, \"#9c179e\"], [0.4444444444444444, \"#bd3786\"], [0.5555555555555556, \"#d8576b\"], [0.6666666666666666, \"#ed7953\"], [0.7777777777777778, \"#fb9f3a\"], [0.8888888888888888, \"#fdca26\"], [1.0, \"#f0f921\"]], \"type\": \"heatmap\"}], \"heatmapgl\": [{\"colorbar\": {\"outlinewidth\": 0, \"ticks\": \"\"}, \"colorscale\": [[0.0, \"#0d0887\"], [0.1111111111111111, \"#46039f\"], [0.2222222222222222, \"#7201a8\"], [0.3333333333333333, \"#9c179e\"], [0.4444444444444444, \"#bd3786\"], [0.5555555555555556, \"#d8576b\"], [0.6666666666666666, \"#ed7953\"], [0.7777777777777778, \"#fb9f3a\"], [0.8888888888888888, \"#fdca26\"], [1.0, \"#f0f921\"]], \"type\": \"heatmapgl\"}], \"histogram\": [{\"marker\": {\"colorbar\": {\"outlinewidth\": 0, \"ticks\": \"\"}}, \"type\": \"histogram\"}], \"histogram2d\": [{\"colorbar\": {\"outlinewidth\": 0, \"ticks\": \"\"}, \"colorscale\": [[0.0, \"#0d0887\"], [0.1111111111111111, \"#46039f\"], [0.2222222222222222, \"#7201a8\"], [0.3333333333333333, \"#9c179e\"], [0.4444444444444444, \"#bd3786\"], [0.5555555555555556, \"#d8576b\"], [0.6666666666666666, \"#ed7953\"], [0.7777777777777778, \"#fb9f3a\"], [0.8888888888888888, \"#fdca26\"], [1.0, \"#f0f921\"]], \"type\": \"histogram2d\"}], \"histogram2dcontour\": [{\"colorbar\": {\"outlinewidth\": 0, \"ticks\": \"\"}, \"colorscale\": [[0.0, \"#0d0887\"], [0.1111111111111111, \"#46039f\"], [0.2222222222222222, \"#7201a8\"], [0.3333333333333333, \"#9c179e\"], [0.4444444444444444, \"#bd3786\"], [0.5555555555555556, \"#d8576b\"], [0.6666666666666666, \"#ed7953\"], [0.7777777777777778, \"#fb9f3a\"], [0.8888888888888888, \"#fdca26\"], [1.0, \"#f0f921\"]], \"type\": \"histogram2dcontour\"}], \"mesh3d\": [{\"colorbar\": {\"outlinewidth\": 0, \"ticks\": \"\"}, \"type\": \"mesh3d\"}], \"parcoords\": [{\"line\": {\"colorbar\": {\"outlinewidth\": 0, \"ticks\": \"\"}}, \"type\": \"parcoords\"}], \"pie\": [{\"automargin\": true, \"type\": \"pie\"}], \"scatter\": [{\"marker\": {\"colorbar\": {\"outlinewidth\": 0, \"ticks\": \"\"}}, \"type\": \"scatter\"}], \"scatter3d\": [{\"line\": {\"colorbar\": {\"outlinewidth\": 0, \"ticks\": \"\"}}, \"marker\": {\"colorbar\": {\"outlinewidth\": 0, \"ticks\": \"\"}}, \"type\": \"scatter3d\"}], \"scattercarpet\": [{\"marker\": {\"colorbar\": {\"outlinewidth\": 0, \"ticks\": \"\"}}, \"type\": \"scattercarpet\"}], \"scattergeo\": [{\"marker\": {\"colorbar\": {\"outlinewidth\": 0, \"ticks\": \"\"}}, \"type\": \"scattergeo\"}], \"scattergl\": [{\"marker\": {\"colorbar\": {\"outlinewidth\": 0, \"ticks\": \"\"}}, \"type\": \"scattergl\"}], \"scattermapbox\": [{\"marker\": {\"colorbar\": {\"outlinewidth\": 0, \"ticks\": \"\"}}, \"type\": \"scattermapbox\"}], \"scatterpolar\": [{\"marker\": {\"colorbar\": {\"outlinewidth\": 0, \"ticks\": \"\"}}, \"type\": \"scatterpolar\"}], \"scatterpolargl\": [{\"marker\": {\"colorbar\": {\"outlinewidth\": 0, \"ticks\": \"\"}}, \"type\": \"scatterpolargl\"}], \"scatterternary\": [{\"marker\": {\"colorbar\": {\"outlinewidth\": 0, \"ticks\": \"\"}}, \"type\": \"scatterternary\"}], \"surface\": [{\"colorbar\": {\"outlinewidth\": 0, \"ticks\": \"\"}, \"colorscale\": [[0.0, \"#0d0887\"], [0.1111111111111111, \"#46039f\"], [0.2222222222222222, \"#7201a8\"], [0.3333333333333333, \"#9c179e\"], [0.4444444444444444, \"#bd3786\"], [0.5555555555555556, \"#d8576b\"], [0.6666666666666666, \"#ed7953\"], [0.7777777777777778, \"#fb9f3a\"], [0.8888888888888888, \"#fdca26\"], [1.0, \"#f0f921\"]], \"type\": \"surface\"}], \"table\": [{\"cells\": {\"fill\": {\"color\": \"#EBF0F8\"}, \"line\": {\"color\": \"white\"}}, \"header\": {\"fill\": {\"color\": \"#C8D4E3\"}, \"line\": {\"color\": \"white\"}}, \"type\": \"table\"}]}, \"layout\": {\"annotationdefaults\": {\"arrowcolor\": \"#2a3f5f\", \"arrowhead\": 0, \"arrowwidth\": 1}, \"coloraxis\": {\"colorbar\": {\"outlinewidth\": 0, \"ticks\": \"\"}}, \"colorscale\": {\"diverging\": [[0, \"#8e0152\"], [0.1, \"#c51b7d\"], [0.2, \"#de77ae\"], [0.3, \"#f1b6da\"], [0.4, \"#fde0ef\"], [0.5, \"#f7f7f7\"], [0.6, \"#e6f5d0\"], [0.7, \"#b8e186\"], [0.8, \"#7fbc41\"], [0.9, \"#4d9221\"], [1, \"#276419\"]], \"sequential\": [[0.0, \"#0d0887\"], [0.1111111111111111, \"#46039f\"], [0.2222222222222222, \"#7201a8\"], [0.3333333333333333, \"#9c179e\"], [0.4444444444444444, \"#bd3786\"], [0.5555555555555556, \"#d8576b\"], [0.6666666666666666, \"#ed7953\"], [0.7777777777777778, \"#fb9f3a\"], [0.8888888888888888, \"#fdca26\"], [1.0, \"#f0f921\"]], \"sequentialminus\": [[0.0, \"#0d0887\"], [0.1111111111111111, \"#46039f\"], [0.2222222222222222, \"#7201a8\"], [0.3333333333333333, \"#9c179e\"], [0.4444444444444444, \"#bd3786\"], [0.5555555555555556, \"#d8576b\"], [0.6666666666666666, \"#ed7953\"], [0.7777777777777778, \"#fb9f3a\"], [0.8888888888888888, \"#fdca26\"], [1.0, \"#f0f921\"]]}, \"colorway\": [\"#636efa\", \"#EF553B\", \"#00cc96\", \"#ab63fa\", \"#FFA15A\", \"#19d3f3\", \"#FF6692\", \"#B6E880\", \"#FF97FF\", \"#FECB52\"], \"font\": {\"color\": \"#2a3f5f\"}, \"geo\": {\"bgcolor\": \"white\", \"lakecolor\": \"white\", \"landcolor\": \"#E5ECF6\", \"showlakes\": true, \"showland\": true, \"subunitcolor\": \"white\"}, \"hoverlabel\": {\"align\": \"left\"}, \"hovermode\": \"closest\", \"mapbox\": {\"style\": \"light\"}, \"paper_bgcolor\": \"white\", \"plot_bgcolor\": \"#E5ECF6\", \"polar\": {\"angularaxis\": {\"gridcolor\": \"white\", \"linecolor\": \"white\", \"ticks\": \"\"}, \"bgcolor\": \"#E5ECF6\", \"radialaxis\": {\"gridcolor\": \"white\", \"linecolor\": \"white\", \"ticks\": \"\"}}, \"scene\": {\"xaxis\": {\"backgroundcolor\": \"#E5ECF6\", \"gridcolor\": \"white\", \"gridwidth\": 2, \"linecolor\": \"white\", \"showbackground\": true, \"ticks\": \"\", \"zerolinecolor\": \"white\"}, \"yaxis\": {\"backgroundcolor\": \"#E5ECF6\", \"gridcolor\": \"white\", \"gridwidth\": 2, \"linecolor\": \"white\", \"showbackground\": true, \"ticks\": \"\", \"zerolinecolor\": \"white\"}, \"zaxis\": {\"backgroundcolor\": \"#E5ECF6\", \"gridcolor\": \"white\", \"gridwidth\": 2, \"linecolor\": \"white\", \"showbackground\": true, \"ticks\": \"\", \"zerolinecolor\": \"white\"}}, \"shapedefaults\": {\"line\": {\"color\": \"#2a3f5f\"}}, \"ternary\": {\"aaxis\": {\"gridcolor\": \"white\", \"linecolor\": \"white\", \"ticks\": \"\"}, \"baxis\": {\"gridcolor\": \"white\", \"linecolor\": \"white\", \"ticks\": \"\"}, \"bgcolor\": \"#E5ECF6\", \"caxis\": {\"gridcolor\": \"white\", \"linecolor\": \"white\", \"ticks\": \"\"}}, \"title\": {\"x\": 0.05}, \"xaxis\": {\"automargin\": true, \"gridcolor\": \"white\", \"linecolor\": \"white\", \"ticks\": \"\", \"title\": {\"standoff\": 15}, \"zerolinecolor\": \"white\", \"zerolinewidth\": 2}, \"yaxis\": {\"automargin\": true, \"gridcolor\": \"white\", \"linecolor\": \"white\", \"ticks\": \"\", \"title\": {\"standoff\": 15}, \"zerolinecolor\": \"white\", \"zerolinewidth\": 2}}}, \"title\": {\"text\": \"Average House Values in Toronto per Neighbourhood\"}, \"xaxis\": {\"anchor\": \"y\", \"domain\": [0.0, 0.98], \"title\": {\"text\": \"Neighbourhoods\"}}, \"xaxis2\": {\"anchor\": \"y2\", \"domain\": [0.0, 0.98], \"matches\": \"x\", \"showticklabels\": false}, \"xaxis3\": {\"anchor\": \"y3\", \"domain\": [0.0, 0.98], \"matches\": \"x\", \"showticklabels\": false}, \"xaxis4\": {\"anchor\": \"y4\", \"domain\": [0.0, 0.98], \"matches\": \"x\", \"showticklabels\": false}, \"yaxis\": {\"anchor\": \"x\", \"domain\": [0.0, 0.2275], \"title\": {\"text\": \"Avg. House Value\"}}, \"yaxis2\": {\"anchor\": \"x2\", \"domain\": [0.2575, 0.485], \"matches\": \"y\", \"title\": {\"text\": \"Avg. House Value\"}}, \"yaxis3\": {\"anchor\": \"x3\", \"domain\": [0.515, 0.7425], \"matches\": \"y\", \"title\": {\"text\": \"Avg. House Value\"}}, \"yaxis4\": {\"anchor\": \"x4\", \"domain\": [0.7725, 1.0], \"matches\": \"y\", \"title\": {\"text\": \"Avg. House Value\"}}},\n",
       "                        {\"responsive\": true}\n",
       "                    ).then(function(){\n",
       "                            \n",
       "var gd = document.getElementById('24b6f220-d63c-4d5e-866b-af04270df0c1');\n",
       "var x = new MutationObserver(function (mutations, observer) {{\n",
       "        var display = window.getComputedStyle(gd).display;\n",
       "        if (!display || display === 'none') {{\n",
       "            console.log([gd, 'removed!']);\n",
       "            Plotly.purge(gd);\n",
       "            observer.disconnect();\n",
       "        }}\n",
       "}});\n",
       "\n",
       "// Listen for the removal of the full notebook cells\n",
       "var notebookContainer = gd.closest('#notebook-container');\n",
       "if (notebookContainer) {{\n",
       "    x.observe(notebookContainer, {childList: true});\n",
       "}}\n",
       "\n",
       "// Listen for the clearing of the current output cell\n",
       "var outputEl = gd.closest('.output');\n",
       "if (outputEl) {{\n",
       "    x.observe(outputEl, {childList: true});\n",
       "}}\n",
       "\n",
       "                        })\n",
       "                };\n",
       "                });\n",
       "            </script>\n",
       "        </div>"
      ]
     },
     "metadata": {},
     "output_type": "display_data"
    }
   ],
   "source": [
    "# YOUR CODE HERE!"
   ]
  },
  {
   "cell_type": "markdown",
   "metadata": {},
   "source": [
    "### Create a sunburst chart to conduct a costs analysis of most expensive neighbourhoods in Toronto per year"
   ]
  },
  {
   "cell_type": "code",
   "execution_count": 24,
   "metadata": {},
   "outputs": [
    {
     "data": {
      "text/html": [
       "<div>\n",
       "<style scoped>\n",
       "    .dataframe tbody tr th:only-of-type {\n",
       "        vertical-align: middle;\n",
       "    }\n",
       "\n",
       "    .dataframe tbody tr th {\n",
       "        vertical-align: top;\n",
       "    }\n",
       "\n",
       "    .dataframe thead th {\n",
       "        text-align: right;\n",
       "    }\n",
       "</style>\n",
       "<table border=\"1\" class=\"dataframe\">\n",
       "  <thead>\n",
       "    <tr style=\"text-align: right;\">\n",
       "      <th></th>\n",
       "      <th>year</th>\n",
       "      <th>neighbourhood</th>\n",
       "      <th>single_detached_house</th>\n",
       "      <th>apartment_five_storeys_plus</th>\n",
       "      <th>movable_dwelling</th>\n",
       "      <th>semi_detached_house</th>\n",
       "      <th>row_house</th>\n",
       "      <th>duplex</th>\n",
       "      <th>apartment_five_storeys_less</th>\n",
       "      <th>other_house</th>\n",
       "      <th>average_house_value</th>\n",
       "      <th>shelter_costs_owned</th>\n",
       "      <th>shelter_costs_rented</th>\n",
       "    </tr>\n",
       "  </thead>\n",
       "  <tbody>\n",
       "    <tr>\n",
       "      <th>0</th>\n",
       "      <td>2001</td>\n",
       "      <td>Bedford Park-Nortown</td>\n",
       "      <td>4985</td>\n",
       "      <td>2080</td>\n",
       "      <td>0</td>\n",
       "      <td>45</td>\n",
       "      <td>40</td>\n",
       "      <td>210</td>\n",
       "      <td>1235</td>\n",
       "      <td>15</td>\n",
       "      <td>565304</td>\n",
       "      <td>933</td>\n",
       "      <td>1491</td>\n",
       "    </tr>\n",
       "    <tr>\n",
       "      <th>1</th>\n",
       "      <td>2001</td>\n",
       "      <td>Bridle Path-Sunnybrook-York Mills</td>\n",
       "      <td>2275</td>\n",
       "      <td>110</td>\n",
       "      <td>0</td>\n",
       "      <td>25</td>\n",
       "      <td>15</td>\n",
       "      <td>10</td>\n",
       "      <td>20</td>\n",
       "      <td>0</td>\n",
       "      <td>927466</td>\n",
       "      <td>1983</td>\n",
       "      <td>1790</td>\n",
       "    </tr>\n",
       "    <tr>\n",
       "      <th>2</th>\n",
       "      <td>2001</td>\n",
       "      <td>Casa Loma</td>\n",
       "      <td>1035</td>\n",
       "      <td>1700</td>\n",
       "      <td>0</td>\n",
       "      <td>415</td>\n",
       "      <td>190</td>\n",
       "      <td>185</td>\n",
       "      <td>1090</td>\n",
       "      <td>5</td>\n",
       "      <td>596077</td>\n",
       "      <td>1241</td>\n",
       "      <td>1500</td>\n",
       "    </tr>\n",
       "    <tr>\n",
       "      <th>3</th>\n",
       "      <td>2001</td>\n",
       "      <td>Forest Hill North</td>\n",
       "      <td>1565</td>\n",
       "      <td>3380</td>\n",
       "      <td>0</td>\n",
       "      <td>10</td>\n",
       "      <td>0</td>\n",
       "      <td>0</td>\n",
       "      <td>485</td>\n",
       "      <td>5</td>\n",
       "      <td>517466</td>\n",
       "      <td>940</td>\n",
       "      <td>1428</td>\n",
       "    </tr>\n",
       "    <tr>\n",
       "      <th>4</th>\n",
       "      <td>2001</td>\n",
       "      <td>Forest Hill South</td>\n",
       "      <td>1815</td>\n",
       "      <td>2440</td>\n",
       "      <td>5</td>\n",
       "      <td>65</td>\n",
       "      <td>45</td>\n",
       "      <td>85</td>\n",
       "      <td>1010</td>\n",
       "      <td>15</td>\n",
       "      <td>726664</td>\n",
       "      <td>1001</td>\n",
       "      <td>1469</td>\n",
       "    </tr>\n",
       "  </tbody>\n",
       "</table>\n",
       "</div>"
      ],
      "text/plain": [
       "   year                      neighbourhood  single_detached_house  \\\n",
       "0  2001               Bedford Park-Nortown                   4985   \n",
       "1  2001  Bridle Path-Sunnybrook-York Mills                   2275   \n",
       "2  2001                          Casa Loma                   1035   \n",
       "3  2001                  Forest Hill North                   1565   \n",
       "4  2001                  Forest Hill South                   1815   \n",
       "\n",
       "   apartment_five_storeys_plus  movable_dwelling  semi_detached_house  \\\n",
       "0                         2080                 0                   45   \n",
       "1                          110                 0                   25   \n",
       "2                         1700                 0                  415   \n",
       "3                         3380                 0                   10   \n",
       "4                         2440                 5                   65   \n",
       "\n",
       "   row_house  duplex  apartment_five_storeys_less  other_house  \\\n",
       "0         40     210                         1235           15   \n",
       "1         15      10                           20            0   \n",
       "2        190     185                         1090            5   \n",
       "3          0       0                          485            5   \n",
       "4         45      85                         1010           15   \n",
       "\n",
       "   average_house_value  shelter_costs_owned  shelter_costs_rented  \n",
       "0               565304                  933                  1491  \n",
       "1               927466                 1983                  1790  \n",
       "2               596077                 1241                  1500  \n",
       "3               517466                  940                  1428  \n",
       "4               726664                 1001                  1469  "
      ]
     },
     "execution_count": 24,
     "metadata": {},
     "output_type": "execute_result"
    }
   ],
   "source": [
    "# Fetch the data from all expensive neighbourhoods per year.\n",
    "# YOUR CODE HERE!"
   ]
  },
  {
   "cell_type": "code",
   "execution_count": 25,
   "metadata": {},
   "outputs": [
    {
     "data": {
      "application/vnd.plotly.v1+json": {
       "config": {
        "plotlyServerURL": "https://plotly.com"
       },
       "data": [
        {
         "branchvalues": "total",
         "customdata": [
          [
           933,
           1491,
           933
          ],
          [
           1808,
           1020,
           1808
          ],
          [
           1988,
           1124,
           1988
          ],
          [
           2418,
           1385,
           2418
          ],
          [
           1983,
           1790,
           1983
          ],
          [
           2170,
           2167,
           2170
          ],
          [
           2387,
           2388,
           2387
          ],
          [
           2903,
           2942,
           2903
          ],
          [
           1241,
           1500,
           1241
          ],
          [
           1819,
           1356,
           1819
          ],
          [
           2001,
           1494,
           2001
          ],
          [
           2434,
           1841,
           2434
          ],
          [
           940,
           1428,
           940
          ],
          [
           1731,
           1027,
           1731
          ],
          [
           1904,
           1132,
           1904
          ],
          [
           2316,
           1395,
           2316
          ],
          [
           1001,
           1469,
           1001
          ],
          [
           1781,
           1094,
           1781
          ],
          [
           1959,
           1206,
           1959
          ],
          [
           2383,
           1486,
           2383
          ],
          [
           1362,
           1340,
           1362
          ],
          [
           1625,
           1488,
           1625
          ],
          [
           1787,
           1640,
           1787
          ],
          [
           2173,
           2020,
           2173
          ],
          [
           1021,
           1630,
           1021
          ],
          [
           1977,
           1116,
           1977
          ],
          [
           2174,
           1230,
           2174
          ],
          [
           2644,
           1515,
           2644
          ],
          [
           1219,
           1540,
           1219
          ],
          [
           1868,
           1332,
           1868
          ],
          [
           2054,
           1468,
           2054
          ],
          [
           2498,
           1809,
           2498
          ],
          [
           1055,
           1551,
           1055
          ],
          [
           1881,
           1152,
           1881
          ],
          [
           2069,
           1270,
           2069
          ],
          [
           2516,
           1565,
           2516
          ],
          [
           1091,
           1351,
           1091
          ],
          [
           1638,
           1192,
           1638
          ],
          [
           1802,
           1314,
           1802
          ],
          [
           2192,
           1619,
           2192
          ],
          [
           "(?)",
           "(?)",
           1224.7502831983431
          ],
          [
           "(?)",
           "(?)",
           1856.058787788345
          ],
          [
           "(?)",
           "(?)",
           2041.3886794989783
          ],
          [
           "(?)",
           "(?)",
           2482.826591451349
          ]
         ],
         "domain": {
          "x": [
           0,
           1
          ],
          "y": [
           0,
           1
          ]
         },
         "hovertemplate": "labels=%{label}<br>average_house_value=%{value}<br>parent=%{parent}<br>id=%{id}<br>shelter_costs_owned=%{customdata[0]}<br>shelter_costs_rented=%{customdata[1]}<br>shelter_costs_ownedadditional_col_for_hover=%{color}<extra></extra>",
         "ids": [
          "2001/Bedford Park-Nortown",
          "2006/Bedford Park-Nortown",
          "2011/Bedford Park-Nortown",
          "2016/Bedford Park-Nortown",
          "2001/Bridle Path-Sunnybrook-York Mills",
          "2006/Bridle Path-Sunnybrook-York Mills",
          "2011/Bridle Path-Sunnybrook-York Mills",
          "2016/Bridle Path-Sunnybrook-York Mills",
          "2001/Casa Loma",
          "2006/Casa Loma",
          "2011/Casa Loma",
          "2016/Casa Loma",
          "2001/Forest Hill North",
          "2006/Forest Hill North",
          "2011/Forest Hill North",
          "2016/Forest Hill North",
          "2001/Forest Hill South",
          "2006/Forest Hill South",
          "2011/Forest Hill South",
          "2016/Forest Hill South",
          "2001/Kingsway South",
          "2006/Kingsway South",
          "2011/Kingsway South",
          "2016/Kingsway South",
          "2001/Lawrence Park South",
          "2006/Lawrence Park South",
          "2011/Lawrence Park South",
          "2016/Lawrence Park South",
          "2001/Rosedale-Moore Park",
          "2006/Rosedale-Moore Park",
          "2011/Rosedale-Moore Park",
          "2016/Rosedale-Moore Park",
          "2001/St.Andrew-Windfields",
          "2006/St.Andrew-Windfields",
          "2011/St.Andrew-Windfields",
          "2016/St.Andrew-Windfields",
          "2001/Yonge-St.Clair",
          "2006/Yonge-St.Clair",
          "2011/Yonge-St.Clair",
          "2016/Yonge-St.Clair",
          "2001",
          "2006",
          "2011",
          "2016"
         ],
         "labels": [
          "Bedford Park-Nortown",
          "Bedford Park-Nortown",
          "Bedford Park-Nortown",
          "Bedford Park-Nortown",
          "Bridle Path-Sunnybrook-York Mills",
          "Bridle Path-Sunnybrook-York Mills",
          "Bridle Path-Sunnybrook-York Mills",
          "Bridle Path-Sunnybrook-York Mills",
          "Casa Loma",
          "Casa Loma",
          "Casa Loma",
          "Casa Loma",
          "Forest Hill North",
          "Forest Hill North",
          "Forest Hill North",
          "Forest Hill North",
          "Forest Hill South",
          "Forest Hill South",
          "Forest Hill South",
          "Forest Hill South",
          "Kingsway South",
          "Kingsway South",
          "Kingsway South",
          "Kingsway South",
          "Lawrence Park South",
          "Lawrence Park South",
          "Lawrence Park South",
          "Lawrence Park South",
          "Rosedale-Moore Park",
          "Rosedale-Moore Park",
          "Rosedale-Moore Park",
          "Rosedale-Moore Park",
          "St.Andrew-Windfields",
          "St.Andrew-Windfields",
          "St.Andrew-Windfields",
          "St.Andrew-Windfields",
          "Yonge-St.Clair",
          "Yonge-St.Clair",
          "Yonge-St.Clair",
          "Yonge-St.Clair",
          "2001",
          "2006",
          "2011",
          "2016"
         ],
         "marker": {
          "coloraxis": "coloraxis",
          "colors": [
           933,
           1808,
           1988,
           2418,
           1983,
           2170,
           2387,
           2903,
           1241,
           1819,
           2001,
           2434,
           940,
           1731,
           1904,
           2316,
           1001,
           1781,
           1959,
           2383,
           1362,
           1625,
           1787,
           2173,
           1021,
           1977,
           2174,
           2644,
           1219,
           1868,
           2054,
           2498,
           1055,
           1881,
           2069,
           2516,
           1091,
           1638,
           1802,
           2192,
           1224.7502831983431,
           1856.058787788345,
           2041.3886794989783,
           2482.826591451349
          ]
         },
         "name": "",
         "parents": [
          "2001",
          "2006",
          "2011",
          "2016",
          "2001",
          "2006",
          "2011",
          "2016",
          "2001",
          "2006",
          "2011",
          "2016",
          "2001",
          "2006",
          "2011",
          "2016",
          "2001",
          "2006",
          "2011",
          "2016",
          "2001",
          "2006",
          "2011",
          "2016",
          "2001",
          "2006",
          "2011",
          "2016",
          "2001",
          "2006",
          "2011",
          "2016",
          "2001",
          "2006",
          "2011",
          "2016",
          "2001",
          "2006",
          "2011",
          "2016",
          "",
          "",
          "",
          ""
         ],
         "type": "sunburst",
         "values": [
          565304,
          826963,
          1034387,
          1295007,
          927466,
          1356757,
          1697067,
          2124653,
          596077,
          871981,
          1090696,
          1365503,
          517466,
          756983,
          946854,
          1185419,
          726664,
          1063011,
          1329642,
          1664653,
          512334,
          749476,
          937464,
          1173663,
          664712,
          972384,
          1216283,
          1522732,
          664476,
          972039,
          1215852,
          1522193,
          607040,
          888017,
          1110755,
          1390616,
          494098,
          722799,
          904096,
          1131888,
          6275637,
          9180410,
          11483096,
          14376327
         ]
        }
       ],
       "layout": {
        "autosize": true,
        "coloraxis": {
         "colorbar": {
          "title": {
           "text": "shelter_costs_ownedadditional_col_for_hover"
          }
         },
         "colorscale": [
          [
           0,
           "rgb(247,251,255)"
          ],
          [
           0.125,
           "rgb(222,235,247)"
          ],
          [
           0.25,
           "rgb(198,219,239)"
          ],
          [
           0.375,
           "rgb(158,202,225)"
          ],
          [
           0.5,
           "rgb(107,174,214)"
          ],
          [
           0.625,
           "rgb(66,146,198)"
          ],
          [
           0.75,
           "rgb(33,113,181)"
          ],
          [
           0.875,
           "rgb(8,81,156)"
          ],
          [
           1,
           "rgb(8,48,107)"
          ]
         ]
        },
        "legend": {
         "tracegroupgap": 0
        },
        "template": {
         "data": {
          "bar": [
           {
            "error_x": {
             "color": "#2a3f5f"
            },
            "error_y": {
             "color": "#2a3f5f"
            },
            "marker": {
             "line": {
              "color": "#E5ECF6",
              "width": 0.5
             }
            },
            "type": "bar"
           }
          ],
          "barpolar": [
           {
            "marker": {
             "line": {
              "color": "#E5ECF6",
              "width": 0.5
             }
            },
            "type": "barpolar"
           }
          ],
          "carpet": [
           {
            "aaxis": {
             "endlinecolor": "#2a3f5f",
             "gridcolor": "white",
             "linecolor": "white",
             "minorgridcolor": "white",
             "startlinecolor": "#2a3f5f"
            },
            "baxis": {
             "endlinecolor": "#2a3f5f",
             "gridcolor": "white",
             "linecolor": "white",
             "minorgridcolor": "white",
             "startlinecolor": "#2a3f5f"
            },
            "type": "carpet"
           }
          ],
          "choropleth": [
           {
            "colorbar": {
             "outlinewidth": 0,
             "ticks": ""
            },
            "type": "choropleth"
           }
          ],
          "contour": [
           {
            "colorbar": {
             "outlinewidth": 0,
             "ticks": ""
            },
            "colorscale": [
             [
              0,
              "#0d0887"
             ],
             [
              0.1111111111111111,
              "#46039f"
             ],
             [
              0.2222222222222222,
              "#7201a8"
             ],
             [
              0.3333333333333333,
              "#9c179e"
             ],
             [
              0.4444444444444444,
              "#bd3786"
             ],
             [
              0.5555555555555556,
              "#d8576b"
             ],
             [
              0.6666666666666666,
              "#ed7953"
             ],
             [
              0.7777777777777778,
              "#fb9f3a"
             ],
             [
              0.8888888888888888,
              "#fdca26"
             ],
             [
              1,
              "#f0f921"
             ]
            ],
            "type": "contour"
           }
          ],
          "contourcarpet": [
           {
            "colorbar": {
             "outlinewidth": 0,
             "ticks": ""
            },
            "type": "contourcarpet"
           }
          ],
          "heatmap": [
           {
            "colorbar": {
             "outlinewidth": 0,
             "ticks": ""
            },
            "colorscale": [
             [
              0,
              "#0d0887"
             ],
             [
              0.1111111111111111,
              "#46039f"
             ],
             [
              0.2222222222222222,
              "#7201a8"
             ],
             [
              0.3333333333333333,
              "#9c179e"
             ],
             [
              0.4444444444444444,
              "#bd3786"
             ],
             [
              0.5555555555555556,
              "#d8576b"
             ],
             [
              0.6666666666666666,
              "#ed7953"
             ],
             [
              0.7777777777777778,
              "#fb9f3a"
             ],
             [
              0.8888888888888888,
              "#fdca26"
             ],
             [
              1,
              "#f0f921"
             ]
            ],
            "type": "heatmap"
           }
          ],
          "heatmapgl": [
           {
            "colorbar": {
             "outlinewidth": 0,
             "ticks": ""
            },
            "colorscale": [
             [
              0,
              "#0d0887"
             ],
             [
              0.1111111111111111,
              "#46039f"
             ],
             [
              0.2222222222222222,
              "#7201a8"
             ],
             [
              0.3333333333333333,
              "#9c179e"
             ],
             [
              0.4444444444444444,
              "#bd3786"
             ],
             [
              0.5555555555555556,
              "#d8576b"
             ],
             [
              0.6666666666666666,
              "#ed7953"
             ],
             [
              0.7777777777777778,
              "#fb9f3a"
             ],
             [
              0.8888888888888888,
              "#fdca26"
             ],
             [
              1,
              "#f0f921"
             ]
            ],
            "type": "heatmapgl"
           }
          ],
          "histogram": [
           {
            "marker": {
             "colorbar": {
              "outlinewidth": 0,
              "ticks": ""
             }
            },
            "type": "histogram"
           }
          ],
          "histogram2d": [
           {
            "colorbar": {
             "outlinewidth": 0,
             "ticks": ""
            },
            "colorscale": [
             [
              0,
              "#0d0887"
             ],
             [
              0.1111111111111111,
              "#46039f"
             ],
             [
              0.2222222222222222,
              "#7201a8"
             ],
             [
              0.3333333333333333,
              "#9c179e"
             ],
             [
              0.4444444444444444,
              "#bd3786"
             ],
             [
              0.5555555555555556,
              "#d8576b"
             ],
             [
              0.6666666666666666,
              "#ed7953"
             ],
             [
              0.7777777777777778,
              "#fb9f3a"
             ],
             [
              0.8888888888888888,
              "#fdca26"
             ],
             [
              1,
              "#f0f921"
             ]
            ],
            "type": "histogram2d"
           }
          ],
          "histogram2dcontour": [
           {
            "colorbar": {
             "outlinewidth": 0,
             "ticks": ""
            },
            "colorscale": [
             [
              0,
              "#0d0887"
             ],
             [
              0.1111111111111111,
              "#46039f"
             ],
             [
              0.2222222222222222,
              "#7201a8"
             ],
             [
              0.3333333333333333,
              "#9c179e"
             ],
             [
              0.4444444444444444,
              "#bd3786"
             ],
             [
              0.5555555555555556,
              "#d8576b"
             ],
             [
              0.6666666666666666,
              "#ed7953"
             ],
             [
              0.7777777777777778,
              "#fb9f3a"
             ],
             [
              0.8888888888888888,
              "#fdca26"
             ],
             [
              1,
              "#f0f921"
             ]
            ],
            "type": "histogram2dcontour"
           }
          ],
          "mesh3d": [
           {
            "colorbar": {
             "outlinewidth": 0,
             "ticks": ""
            },
            "type": "mesh3d"
           }
          ],
          "parcoords": [
           {
            "line": {
             "colorbar": {
              "outlinewidth": 0,
              "ticks": ""
             }
            },
            "type": "parcoords"
           }
          ],
          "pie": [
           {
            "automargin": true,
            "type": "pie"
           }
          ],
          "scatter": [
           {
            "marker": {
             "colorbar": {
              "outlinewidth": 0,
              "ticks": ""
             }
            },
            "type": "scatter"
           }
          ],
          "scatter3d": [
           {
            "line": {
             "colorbar": {
              "outlinewidth": 0,
              "ticks": ""
             }
            },
            "marker": {
             "colorbar": {
              "outlinewidth": 0,
              "ticks": ""
             }
            },
            "type": "scatter3d"
           }
          ],
          "scattercarpet": [
           {
            "marker": {
             "colorbar": {
              "outlinewidth": 0,
              "ticks": ""
             }
            },
            "type": "scattercarpet"
           }
          ],
          "scattergeo": [
           {
            "marker": {
             "colorbar": {
              "outlinewidth": 0,
              "ticks": ""
             }
            },
            "type": "scattergeo"
           }
          ],
          "scattergl": [
           {
            "marker": {
             "colorbar": {
              "outlinewidth": 0,
              "ticks": ""
             }
            },
            "type": "scattergl"
           }
          ],
          "scattermapbox": [
           {
            "marker": {
             "colorbar": {
              "outlinewidth": 0,
              "ticks": ""
             }
            },
            "type": "scattermapbox"
           }
          ],
          "scatterpolar": [
           {
            "marker": {
             "colorbar": {
              "outlinewidth": 0,
              "ticks": ""
             }
            },
            "type": "scatterpolar"
           }
          ],
          "scatterpolargl": [
           {
            "marker": {
             "colorbar": {
              "outlinewidth": 0,
              "ticks": ""
             }
            },
            "type": "scatterpolargl"
           }
          ],
          "scatterternary": [
           {
            "marker": {
             "colorbar": {
              "outlinewidth": 0,
              "ticks": ""
             }
            },
            "type": "scatterternary"
           }
          ],
          "surface": [
           {
            "colorbar": {
             "outlinewidth": 0,
             "ticks": ""
            },
            "colorscale": [
             [
              0,
              "#0d0887"
             ],
             [
              0.1111111111111111,
              "#46039f"
             ],
             [
              0.2222222222222222,
              "#7201a8"
             ],
             [
              0.3333333333333333,
              "#9c179e"
             ],
             [
              0.4444444444444444,
              "#bd3786"
             ],
             [
              0.5555555555555556,
              "#d8576b"
             ],
             [
              0.6666666666666666,
              "#ed7953"
             ],
             [
              0.7777777777777778,
              "#fb9f3a"
             ],
             [
              0.8888888888888888,
              "#fdca26"
             ],
             [
              1,
              "#f0f921"
             ]
            ],
            "type": "surface"
           }
          ],
          "table": [
           {
            "cells": {
             "fill": {
              "color": "#EBF0F8"
             },
             "line": {
              "color": "white"
             }
            },
            "header": {
             "fill": {
              "color": "#C8D4E3"
             },
             "line": {
              "color": "white"
             }
            },
            "type": "table"
           }
          ]
         },
         "layout": {
          "annotationdefaults": {
           "arrowcolor": "#2a3f5f",
           "arrowhead": 0,
           "arrowwidth": 1
          },
          "coloraxis": {
           "colorbar": {
            "outlinewidth": 0,
            "ticks": ""
           }
          },
          "colorscale": {
           "diverging": [
            [
             0,
             "#8e0152"
            ],
            [
             0.1,
             "#c51b7d"
            ],
            [
             0.2,
             "#de77ae"
            ],
            [
             0.3,
             "#f1b6da"
            ],
            [
             0.4,
             "#fde0ef"
            ],
            [
             0.5,
             "#f7f7f7"
            ],
            [
             0.6,
             "#e6f5d0"
            ],
            [
             0.7,
             "#b8e186"
            ],
            [
             0.8,
             "#7fbc41"
            ],
            [
             0.9,
             "#4d9221"
            ],
            [
             1,
             "#276419"
            ]
           ],
           "sequential": [
            [
             0,
             "#0d0887"
            ],
            [
             0.1111111111111111,
             "#46039f"
            ],
            [
             0.2222222222222222,
             "#7201a8"
            ],
            [
             0.3333333333333333,
             "#9c179e"
            ],
            [
             0.4444444444444444,
             "#bd3786"
            ],
            [
             0.5555555555555556,
             "#d8576b"
            ],
            [
             0.6666666666666666,
             "#ed7953"
            ],
            [
             0.7777777777777778,
             "#fb9f3a"
            ],
            [
             0.8888888888888888,
             "#fdca26"
            ],
            [
             1,
             "#f0f921"
            ]
           ],
           "sequentialminus": [
            [
             0,
             "#0d0887"
            ],
            [
             0.1111111111111111,
             "#46039f"
            ],
            [
             0.2222222222222222,
             "#7201a8"
            ],
            [
             0.3333333333333333,
             "#9c179e"
            ],
            [
             0.4444444444444444,
             "#bd3786"
            ],
            [
             0.5555555555555556,
             "#d8576b"
            ],
            [
             0.6666666666666666,
             "#ed7953"
            ],
            [
             0.7777777777777778,
             "#fb9f3a"
            ],
            [
             0.8888888888888888,
             "#fdca26"
            ],
            [
             1,
             "#f0f921"
            ]
           ]
          },
          "colorway": [
           "#636efa",
           "#EF553B",
           "#00cc96",
           "#ab63fa",
           "#FFA15A",
           "#19d3f3",
           "#FF6692",
           "#B6E880",
           "#FF97FF",
           "#FECB52"
          ],
          "font": {
           "color": "#2a3f5f"
          },
          "geo": {
           "bgcolor": "white",
           "lakecolor": "white",
           "landcolor": "#E5ECF6",
           "showlakes": true,
           "showland": true,
           "subunitcolor": "white"
          },
          "hoverlabel": {
           "align": "left"
          },
          "hovermode": "closest",
          "mapbox": {
           "style": "light"
          },
          "paper_bgcolor": "white",
          "plot_bgcolor": "#E5ECF6",
          "polar": {
           "angularaxis": {
            "gridcolor": "white",
            "linecolor": "white",
            "ticks": ""
           },
           "bgcolor": "#E5ECF6",
           "radialaxis": {
            "gridcolor": "white",
            "linecolor": "white",
            "ticks": ""
           }
          },
          "scene": {
           "xaxis": {
            "backgroundcolor": "#E5ECF6",
            "gridcolor": "white",
            "gridwidth": 2,
            "linecolor": "white",
            "showbackground": true,
            "ticks": "",
            "zerolinecolor": "white"
           },
           "yaxis": {
            "backgroundcolor": "#E5ECF6",
            "gridcolor": "white",
            "gridwidth": 2,
            "linecolor": "white",
            "showbackground": true,
            "ticks": "",
            "zerolinecolor": "white"
           },
           "zaxis": {
            "backgroundcolor": "#E5ECF6",
            "gridcolor": "white",
            "gridwidth": 2,
            "linecolor": "white",
            "showbackground": true,
            "ticks": "",
            "zerolinecolor": "white"
           }
          },
          "shapedefaults": {
           "line": {
            "color": "#2a3f5f"
           }
          },
          "ternary": {
           "aaxis": {
            "gridcolor": "white",
            "linecolor": "white",
            "ticks": ""
           },
           "baxis": {
            "gridcolor": "white",
            "linecolor": "white",
            "ticks": ""
           },
           "bgcolor": "#E5ECF6",
           "caxis": {
            "gridcolor": "white",
            "linecolor": "white",
            "ticks": ""
           }
          },
          "title": {
           "x": 0.05
          },
          "xaxis": {
           "automargin": true,
           "gridcolor": "white",
           "linecolor": "white",
           "ticks": "",
           "title": {
            "standoff": 15
           },
           "zerolinecolor": "white",
           "zerolinewidth": 2
          },
          "yaxis": {
           "automargin": true,
           "gridcolor": "white",
           "linecolor": "white",
           "ticks": "",
           "title": {
            "standoff": 15
           },
           "zerolinecolor": "white",
           "zerolinewidth": 2
          }
         }
        },
        "title": {
         "text": "Costs Analysis of Most Expensive Neighbourhoods in Toronto per Year"
        }
       }
      },
      "image/png": "[encoded data removed]",
      "text/html": [
       "<div>\n",
       "        \n",
       "        \n",
       "            <div id=\"c48d3a98-b006-44bf-84cc-dc0791db0b27\" class=\"plotly-graph-div\" style=\"height:525px; width:100%;\"></div>\n",
       "            <script type=\"text/javascript\">\n",
       "                require([\"plotly\"], function(Plotly) {\n",
       "                    window.PLOTLYENV=window.PLOTLYENV || {};\n",
       "                    \n",
       "                if (document.getElementById(\"c48d3a98-b006-44bf-84cc-dc0791db0b27\")) {\n",
       "                    Plotly.newPlot(\n",
       "                        'c48d3a98-b006-44bf-84cc-dc0791db0b27',\n",
       "                        [{\"branchvalues\": \"total\", \"customdata\": [[933, 1491, 933.0], [1808, 1020, 1808.0], [1988, 1124, 1988.0], [2418, 1385, 2418.0], [1983, 1790, 1983.0], [2170, 2167, 2170.0], [2387, 2388, 2387.0], [2903, 2942, 2903.0], [1241, 1500, 1241.0], [1819, 1356, 1819.0], [2001, 1494, 2001.0], [2434, 1841, 2434.0], [940, 1428, 940.0], [1731, 1027, 1731.0], [1904, 1132, 1904.0], [2316, 1395, 2316.0], [1001, 1469, 1001.0], [1781, 1094, 1781.0], [1959, 1206, 1959.0], [2383, 1486, 2383.0], [1362, 1340, 1362.0], [1625, 1488, 1625.0], [1787, 1640, 1787.0], [2173, 2020, 2173.0], [1021, 1630, 1021.0], [1977, 1116, 1977.0], [2174, 1230, 2174.0], [2644, 1515, 2644.0], [1219, 1540, 1219.0], [1868, 1332, 1868.0], [2054, 1468, 2054.0], [2498, 1809, 2498.0], [1055, 1551, 1055.0], [1881, 1152, 1881.0], [2069, 1270, 2069.0], [2516, 1565, 2516.0], [1091, 1351, 1091.0], [1638, 1192, 1638.0], [1802, 1314, 1802.0], [2192, 1619, 2192.0], [\"(?)\", \"(?)\", 1224.7502831983431], [\"(?)\", \"(?)\", 1856.058787788345], [\"(?)\", \"(?)\", 2041.3886794989783], [\"(?)\", \"(?)\", 2482.826591451349]], \"domain\": {\"x\": [0.0, 1.0], \"y\": [0.0, 1.0]}, \"hovertemplate\": \"labels=%{label}<br>average_house_value=%{value}<br>parent=%{parent}<br>id=%{id}<br>shelter_costs_owned=%{customdata[0]}<br>shelter_costs_rented=%{customdata[1]}<br>shelter_costs_ownedadditional_col_for_hover=%{color}<extra></extra>\", \"ids\": [\"2001/Bedford Park-Nortown\", \"2006/Bedford Park-Nortown\", \"2011/Bedford Park-Nortown\", \"2016/Bedford Park-Nortown\", \"2001/Bridle Path-Sunnybrook-York Mills\", \"2006/Bridle Path-Sunnybrook-York Mills\", \"2011/Bridle Path-Sunnybrook-York Mills\", \"2016/Bridle Path-Sunnybrook-York Mills\", \"2001/Casa Loma\", \"2006/Casa Loma\", \"2011/Casa Loma\", \"2016/Casa Loma\", \"2001/Forest Hill North\", \"2006/Forest Hill North\", \"2011/Forest Hill North\", \"2016/Forest Hill North\", \"2001/Forest Hill South\", \"2006/Forest Hill South\", \"2011/Forest Hill South\", \"2016/Forest Hill South\", \"2001/Kingsway South\", \"2006/Kingsway South\", \"2011/Kingsway South\", \"2016/Kingsway South\", \"2001/Lawrence Park South\", \"2006/Lawrence Park South\", \"2011/Lawrence Park South\", \"2016/Lawrence Park South\", \"2001/Rosedale-Moore Park\", \"2006/Rosedale-Moore Park\", \"2011/Rosedale-Moore Park\", \"2016/Rosedale-Moore Park\", \"2001/St.Andrew-Windfields\", \"2006/St.Andrew-Windfields\", \"2011/St.Andrew-Windfields\", \"2016/St.Andrew-Windfields\", \"2001/Yonge-St.Clair\", \"2006/Yonge-St.Clair\", \"2011/Yonge-St.Clair\", \"2016/Yonge-St.Clair\", \"2001\", \"2006\", \"2011\", \"2016\"], \"labels\": [\"Bedford Park-Nortown\", \"Bedford Park-Nortown\", \"Bedford Park-Nortown\", \"Bedford Park-Nortown\", \"Bridle Path-Sunnybrook-York Mills\", \"Bridle Path-Sunnybrook-York Mills\", \"Bridle Path-Sunnybrook-York Mills\", \"Bridle Path-Sunnybrook-York Mills\", \"Casa Loma\", \"Casa Loma\", \"Casa Loma\", \"Casa Loma\", \"Forest Hill North\", \"Forest Hill North\", \"Forest Hill North\", \"Forest Hill North\", \"Forest Hill South\", \"Forest Hill South\", \"Forest Hill South\", \"Forest Hill South\", \"Kingsway South\", \"Kingsway South\", \"Kingsway South\", \"Kingsway South\", \"Lawrence Park South\", \"Lawrence Park South\", \"Lawrence Park South\", \"Lawrence Park South\", \"Rosedale-Moore Park\", \"Rosedale-Moore Park\", \"Rosedale-Moore Park\", \"Rosedale-Moore Park\", \"St.Andrew-Windfields\", \"St.Andrew-Windfields\", \"St.Andrew-Windfields\", \"St.Andrew-Windfields\", \"Yonge-St.Clair\", \"Yonge-St.Clair\", \"Yonge-St.Clair\", \"Yonge-St.Clair\", \"2001\", \"2006\", \"2011\", \"2016\"], \"marker\": {\"coloraxis\": \"coloraxis\", \"colors\": [933.0, 1808.0, 1988.0, 2418.0, 1983.0, 2170.0, 2387.0, 2903.0, 1241.0, 1819.0, 2001.0, 2434.0, 940.0, 1731.0, 1904.0, 2316.0, 1001.0, 1781.0, 1959.0, 2383.0, 1362.0, 1625.0, 1787.0, 2173.0, 1021.0, 1977.0, 2174.0, 2644.0, 1219.0, 1868.0, 2054.0, 2498.0, 1055.0, 1881.0, 2069.0, 2516.0, 1091.0, 1638.0, 1802.0, 2192.0, 1224.7502831983431, 1856.058787788345, 2041.3886794989783, 2482.826591451349]}, \"name\": \"\", \"parents\": [\"2001\", \"2006\", \"2011\", \"2016\", \"2001\", \"2006\", \"2011\", \"2016\", \"2001\", \"2006\", \"2011\", \"2016\", \"2001\", \"2006\", \"2011\", \"2016\", \"2001\", \"2006\", \"2011\", \"2016\", \"2001\", \"2006\", \"2011\", \"2016\", \"2001\", \"2006\", \"2011\", \"2016\", \"2001\", \"2006\", \"2011\", \"2016\", \"2001\", \"2006\", \"2011\", \"2016\", \"2001\", \"2006\", \"2011\", \"2016\", \"\", \"\", \"\", \"\"], \"type\": \"sunburst\", \"values\": [565304, 826963, 1034387, 1295007, 927466, 1356757, 1697067, 2124653, 596077, 871981, 1090696, 1365503, 517466, 756983, 946854, 1185419, 726664, 1063011, 1329642, 1664653, 512334, 749476, 937464, 1173663, 664712, 972384, 1216283, 1522732, 664476, 972039, 1215852, 1522193, 607040, 888017, 1110755, 1390616, 494098, 722799, 904096, 1131888, 6275637, 9180410, 11483096, 14376327]}],\n",
       "                        {\"coloraxis\": {\"colorbar\": {\"title\": {\"text\": \"shelter_costs_ownedadditional_col_for_hover\"}}, \"colorscale\": [[0.0, \"rgb(247,251,255)\"], [0.125, \"rgb(222,235,247)\"], [0.25, \"rgb(198,219,239)\"], [0.375, \"rgb(158,202,225)\"], [0.5, \"rgb(107,174,214)\"], [0.625, \"rgb(66,146,198)\"], [0.75, \"rgb(33,113,181)\"], [0.875, \"rgb(8,81,156)\"], [1.0, \"rgb(8,48,107)\"]]}, \"legend\": {\"tracegroupgap\": 0}, \"template\": {\"data\": {\"bar\": [{\"error_x\": {\"color\": \"#2a3f5f\"}, \"error_y\": {\"color\": \"#2a3f5f\"}, \"marker\": {\"line\": {\"color\": \"#E5ECF6\", \"width\": 0.5}}, \"type\": \"bar\"}], \"barpolar\": [{\"marker\": {\"line\": {\"color\": \"#E5ECF6\", \"width\": 0.5}}, \"type\": \"barpolar\"}], \"carpet\": [{\"aaxis\": {\"endlinecolor\": \"#2a3f5f\", \"gridcolor\": \"white\", \"linecolor\": \"white\", \"minorgridcolor\": \"white\", \"startlinecolor\": \"#2a3f5f\"}, \"baxis\": {\"endlinecolor\": \"#2a3f5f\", \"gridcolor\": \"white\", \"linecolor\": \"white\", \"minorgridcolor\": \"white\", \"startlinecolor\": \"#2a3f5f\"}, \"type\": \"carpet\"}], \"choropleth\": [{\"colorbar\": {\"outlinewidth\": 0, \"ticks\": \"\"}, \"type\": \"choropleth\"}], \"contour\": [{\"colorbar\": {\"outlinewidth\": 0, \"ticks\": \"\"}, \"colorscale\": [[0.0, \"#0d0887\"], [0.1111111111111111, \"#46039f\"], [0.2222222222222222, \"#7201a8\"], [0.3333333333333333, \"#9c179e\"], [0.4444444444444444, \"#bd3786\"], [0.5555555555555556, \"#d8576b\"], [0.6666666666666666, \"#ed7953\"], [0.7777777777777778, \"#fb9f3a\"], [0.8888888888888888, \"#fdca26\"], [1.0, \"#f0f921\"]], \"type\": \"contour\"}], \"contourcarpet\": [{\"colorbar\": {\"outlinewidth\": 0, \"ticks\": \"\"}, \"type\": \"contourcarpet\"}], \"heatmap\": [{\"colorbar\": {\"outlinewidth\": 0, \"ticks\": \"\"}, \"colorscale\": [[0.0, \"#0d0887\"], [0.1111111111111111, \"#46039f\"], [0.2222222222222222, \"#7201a8\"], [0.3333333333333333, \"#9c179e\"], [0.4444444444444444, \"#bd3786\"], [0.5555555555555556, \"#d8576b\"], [0.6666666666666666, \"#ed7953\"], [0.7777777777777778, \"#fb9f3a\"], [0.8888888888888888, \"#fdca26\"], [1.0, \"#f0f921\"]], \"type\": \"heatmap\"}], \"heatmapgl\": [{\"colorbar\": {\"outlinewidth\": 0, \"ticks\": \"\"}, \"colorscale\": [[0.0, \"#0d0887\"], [0.1111111111111111, \"#46039f\"], [0.2222222222222222, \"#7201a8\"], [0.3333333333333333, \"#9c179e\"], [0.4444444444444444, \"#bd3786\"], [0.5555555555555556, \"#d8576b\"], [0.6666666666666666, \"#ed7953\"], [0.7777777777777778, \"#fb9f3a\"], [0.8888888888888888, \"#fdca26\"], [1.0, \"#f0f921\"]], \"type\": \"heatmapgl\"}], \"histogram\": [{\"marker\": {\"colorbar\": {\"outlinewidth\": 0, \"ticks\": \"\"}}, \"type\": \"histogram\"}], \"histogram2d\": [{\"colorbar\": {\"outlinewidth\": 0, \"ticks\": \"\"}, \"colorscale\": [[0.0, \"#0d0887\"], [0.1111111111111111, \"#46039f\"], [0.2222222222222222, \"#7201a8\"], [0.3333333333333333, \"#9c179e\"], [0.4444444444444444, \"#bd3786\"], [0.5555555555555556, \"#d8576b\"], [0.6666666666666666, \"#ed7953\"], [0.7777777777777778, \"#fb9f3a\"], [0.8888888888888888, \"#fdca26\"], [1.0, \"#f0f921\"]], \"type\": \"histogram2d\"}], \"histogram2dcontour\": [{\"colorbar\": {\"outlinewidth\": 0, \"ticks\": \"\"}, \"colorscale\": [[0.0, \"#0d0887\"], [0.1111111111111111, \"#46039f\"], [0.2222222222222222, \"#7201a8\"], [0.3333333333333333, \"#9c179e\"], [0.4444444444444444, \"#bd3786\"], [0.5555555555555556, \"#d8576b\"], [0.6666666666666666, \"#ed7953\"], [0.7777777777777778, \"#fb9f3a\"], [0.8888888888888888, \"#fdca26\"], [1.0, \"#f0f921\"]], \"type\": \"histogram2dcontour\"}], \"mesh3d\": [{\"colorbar\": {\"outlinewidth\": 0, \"ticks\": \"\"}, \"type\": \"mesh3d\"}], \"parcoords\": [{\"line\": {\"colorbar\": {\"outlinewidth\": 0, \"ticks\": \"\"}}, \"type\": \"parcoords\"}], \"pie\": [{\"automargin\": true, \"type\": \"pie\"}], \"scatter\": [{\"marker\": {\"colorbar\": {\"outlinewidth\": 0, \"ticks\": \"\"}}, \"type\": \"scatter\"}], \"scatter3d\": [{\"line\": {\"colorbar\": {\"outlinewidth\": 0, \"ticks\": \"\"}}, \"marker\": {\"colorbar\": {\"outlinewidth\": 0, \"ticks\": \"\"}}, \"type\": \"scatter3d\"}], \"scattercarpet\": [{\"marker\": {\"colorbar\": {\"outlinewidth\": 0, \"ticks\": \"\"}}, \"type\": \"scattercarpet\"}], \"scattergeo\": [{\"marker\": {\"colorbar\": {\"outlinewidth\": 0, \"ticks\": \"\"}}, \"type\": \"scattergeo\"}], \"scattergl\": [{\"marker\": {\"colorbar\": {\"outlinewidth\": 0, \"ticks\": \"\"}}, \"type\": \"scattergl\"}], \"scattermapbox\": [{\"marker\": {\"colorbar\": {\"outlinewidth\": 0, \"ticks\": \"\"}}, \"type\": \"scattermapbox\"}], \"scatterpolar\": [{\"marker\": {\"colorbar\": {\"outlinewidth\": 0, \"ticks\": \"\"}}, \"type\": \"scatterpolar\"}], \"scatterpolargl\": [{\"marker\": {\"colorbar\": {\"outlinewidth\": 0, \"ticks\": \"\"}}, \"type\": \"scatterpolargl\"}], \"scatterternary\": [{\"marker\": {\"colorbar\": {\"outlinewidth\": 0, \"ticks\": \"\"}}, \"type\": \"scatterternary\"}], \"surface\": [{\"colorbar\": {\"outlinewidth\": 0, \"ticks\": \"\"}, \"colorscale\": [[0.0, \"#0d0887\"], [0.1111111111111111, \"#46039f\"], [0.2222222222222222, \"#7201a8\"], [0.3333333333333333, \"#9c179e\"], [0.4444444444444444, \"#bd3786\"], [0.5555555555555556, \"#d8576b\"], [0.6666666666666666, \"#ed7953\"], [0.7777777777777778, \"#fb9f3a\"], [0.8888888888888888, \"#fdca26\"], [1.0, \"#f0f921\"]], \"type\": \"surface\"}], \"table\": [{\"cells\": {\"fill\": {\"color\": \"#EBF0F8\"}, \"line\": {\"color\": \"white\"}}, \"header\": {\"fill\": {\"color\": \"#C8D4E3\"}, \"line\": {\"color\": \"white\"}}, \"type\": \"table\"}]}, \"layout\": {\"annotationdefaults\": {\"arrowcolor\": \"#2a3f5f\", \"arrowhead\": 0, \"arrowwidth\": 1}, \"coloraxis\": {\"colorbar\": {\"outlinewidth\": 0, \"ticks\": \"\"}}, \"colorscale\": {\"diverging\": [[0, \"#8e0152\"], [0.1, \"#c51b7d\"], [0.2, \"#de77ae\"], [0.3, \"#f1b6da\"], [0.4, \"#fde0ef\"], [0.5, \"#f7f7f7\"], [0.6, \"#e6f5d0\"], [0.7, \"#b8e186\"], [0.8, \"#7fbc41\"], [0.9, \"#4d9221\"], [1, \"#276419\"]], \"sequential\": [[0.0, \"#0d0887\"], [0.1111111111111111, \"#46039f\"], [0.2222222222222222, \"#7201a8\"], [0.3333333333333333, \"#9c179e\"], [0.4444444444444444, \"#bd3786\"], [0.5555555555555556, \"#d8576b\"], [0.6666666666666666, \"#ed7953\"], [0.7777777777777778, \"#fb9f3a\"], [0.8888888888888888, \"#fdca26\"], [1.0, \"#f0f921\"]], \"sequentialminus\": [[0.0, \"#0d0887\"], [0.1111111111111111, \"#46039f\"], [0.2222222222222222, \"#7201a8\"], [0.3333333333333333, \"#9c179e\"], [0.4444444444444444, \"#bd3786\"], [0.5555555555555556, \"#d8576b\"], [0.6666666666666666, \"#ed7953\"], [0.7777777777777778, \"#fb9f3a\"], [0.8888888888888888, \"#fdca26\"], [1.0, \"#f0f921\"]]}, \"colorway\": [\"#636efa\", \"#EF553B\", \"#00cc96\", \"#ab63fa\", \"#FFA15A\", \"#19d3f3\", \"#FF6692\", \"#B6E880\", \"#FF97FF\", \"#FECB52\"], \"font\": {\"color\": \"#2a3f5f\"}, \"geo\": {\"bgcolor\": \"white\", \"lakecolor\": \"white\", \"landcolor\": \"#E5ECF6\", \"showlakes\": true, \"showland\": true, \"subunitcolor\": \"white\"}, \"hoverlabel\": {\"align\": \"left\"}, \"hovermode\": \"closest\", \"mapbox\": {\"style\": \"light\"}, \"paper_bgcolor\": \"white\", \"plot_bgcolor\": \"#E5ECF6\", \"polar\": {\"angularaxis\": {\"gridcolor\": \"white\", \"linecolor\": \"white\", \"ticks\": \"\"}, \"bgcolor\": \"#E5ECF6\", \"radialaxis\": {\"gridcolor\": \"white\", \"linecolor\": \"white\", \"ticks\": \"\"}}, \"scene\": {\"xaxis\": {\"backgroundcolor\": \"#E5ECF6\", \"gridcolor\": \"white\", \"gridwidth\": 2, \"linecolor\": \"white\", \"showbackground\": true, \"ticks\": \"\", \"zerolinecolor\": \"white\"}, \"yaxis\": {\"backgroundcolor\": \"#E5ECF6\", \"gridcolor\": \"white\", \"gridwidth\": 2, \"linecolor\": \"white\", \"showbackground\": true, \"ticks\": \"\", \"zerolinecolor\": \"white\"}, \"zaxis\": {\"backgroundcolor\": \"#E5ECF6\", \"gridcolor\": \"white\", \"gridwidth\": 2, \"linecolor\": \"white\", \"showbackground\": true, \"ticks\": \"\", \"zerolinecolor\": \"white\"}}, \"shapedefaults\": {\"line\": {\"color\": \"#2a3f5f\"}}, \"ternary\": {\"aaxis\": {\"gridcolor\": \"white\", \"linecolor\": \"white\", \"ticks\": \"\"}, \"baxis\": {\"gridcolor\": \"white\", \"linecolor\": \"white\", \"ticks\": \"\"}, \"bgcolor\": \"#E5ECF6\", \"caxis\": {\"gridcolor\": \"white\", \"linecolor\": \"white\", \"ticks\": \"\"}}, \"title\": {\"x\": 0.05}, \"xaxis\": {\"automargin\": true, \"gridcolor\": \"white\", \"linecolor\": \"white\", \"ticks\": \"\", \"title\": {\"standoff\": 15}, \"zerolinecolor\": \"white\", \"zerolinewidth\": 2}, \"yaxis\": {\"automargin\": true, \"gridcolor\": \"white\", \"linecolor\": \"white\", \"ticks\": \"\", \"title\": {\"standoff\": 15}, \"zerolinecolor\": \"white\", \"zerolinewidth\": 2}}}, \"title\": {\"text\": \"Costs Analysis of Most Expensive Neighbourhoods in Toronto per Year\"}},\n",
       "                        {\"responsive\": true}\n",
       "                    ).then(function(){\n",
       "                            \n",
       "var gd = document.getElementById('c48d3a98-b006-44bf-84cc-dc0791db0b27');\n",
       "var x = new MutationObserver(function (mutations, observer) {{\n",
       "        var display = window.getComputedStyle(gd).display;\n",
       "        if (!display || display === 'none') {{\n",
       "            console.log([gd, 'removed!']);\n",
       "            Plotly.purge(gd);\n",
       "            observer.disconnect();\n",
       "        }}\n",
       "}});\n",
       "\n",
       "// Listen for the removal of the full notebook cells\n",
       "var notebookContainer = gd.closest('#notebook-container');\n",
       "if (notebookContainer) {{\n",
       "    x.observe(notebookContainer, {childList: true});\n",
       "}}\n",
       "\n",
       "// Listen for the clearing of the current output cell\n",
       "var outputEl = gd.closest('.output');\n",
       "if (outputEl) {{\n",
       "    x.observe(outputEl, {childList: true});\n",
       "}}\n",
       "\n",
       "                        })\n",
       "                };\n",
       "                });\n",
       "            </script>\n",
       "        </div>"
      ]
     },
     "metadata": {},
     "output_type": "display_data"
    }
   ],
   "source": [
    "# Create the sunburst chart\n",
    "# YOUR CODE HERE!"
   ]
  }
 ],
 "metadata": {
  "file_extension": ".py",
  "kernelspec": {
   "display_name": "Python 3",
   "language": "python",
   "name": "python3"
  },
  "language_info": {
   "codemirror_mode": {
    "name": "ipython",
    "version": 3
   },
   "file_extension": ".py",
   "mimetype": "text/x-python",
   "name": "python",
   "nbconvert_exporter": "python",
   "pygments_lexer": "ipython3",
   "version": "3.7.9"
  },
  "mimetype": "text/x-python",
  "name": "python",
  "npconvert_exporter": "python",
  "pygments_lexer": "ipython3",
  "version": 3
 },
 "nbformat": 4,
 "nbformat_minor": 4
}
